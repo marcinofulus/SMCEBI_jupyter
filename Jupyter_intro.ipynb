{
 "cells": [
  {
   "cell_type": "markdown",
   "metadata": {
    "slideshow": {
     "slide_type": "slide"
    }
   },
   "source": [
    "# Jupyter & chromebook w SMCEBI\n",
    "\n",
    "Marcin Kostur\n",
    "\n",
    "26.09.2016"
   ]
  },
  {
   "cell_type": "markdown",
   "metadata": {
    "slideshow": {
     "slide_type": "slide"
    }
   },
   "source": [
    "# Chromebook\n"
   ]
  },
  {
   "cell_type": "markdown",
   "metadata": {
    "slideshow": {
     "slide_type": "fragment"
    }
   },
   "source": [
    "\n",
    "<img src=\"https://dlcdnimgs.asus.com/websites/global/products/PqZCCn3d2x2jlYv4/img/multi-finger/fg00_01.png\" width=50% align='right'>\n"
   ]
  },
  {
   "cell_type": "markdown",
   "metadata": {
    "slideshow": {
     "slide_type": "slide"
    }
   },
   "source": [
    "# Jupyter\n",
    "Środowisko typu \"notatnik\"\n",
    "<img src=\"http://jupyter.org/assets/main-logo.svg\" width=\"30%\" align=\"right\">\n",
    "\n"
   ]
  },
  {
   "cell_type": "markdown",
   "metadata": {
    "slideshow": {
     "slide_type": "slide"
    }
   },
   "source": [
    "# Jupyterhub \n",
    "<img src=\"http://jupyter.org/assets/hublogo.svg\" width=\"50%\" align=\"right\">\n"
   ]
  },
  {
   "cell_type": "markdown",
   "metadata": {
    "slideshow": {
     "slide_type": "subslide"
    }
   },
   "source": [
    "# Jupyterhub \n",
    "\n",
    "<img src=\"http://jupyter.org/assets/hublogo.svg\" width=220px align='right'>\n",
    "<img src=\"https://jupyterhub.readthedocs.io/en/latest/_images/jhub-parts.png\" width=450px align='left'>"
   ]
  },
  {
   "cell_type": "markdown",
   "metadata": {
    "slideshow": {
     "slide_type": "slide"
    }
   },
   "source": [
    "<img src=\"http://jupyter.org/assets/hublogo.svg\" width=120px align='right'>\n",
    "**SMCEBI:** http://alfa.smcebi.us.edu.pl\n",
    "   - logowanie w LDAP\n",
    "   - NFS - quota, ale backup \n",
    "   - *prace trwają* "
   ]
  },
  {
   "cell_type": "markdown",
   "metadata": {
    "slideshow": {
     "slide_type": "slide"
    }
   },
   "source": [
    "# Systemy autoryzacji w SMCEBI:\n",
    "\n",
    "- Google Apps for Education **smcebi.edu.pl**\n",
    "- *Karoshi linux*\n",
    "  - autoryzacja w windows & linux \n",
    "  - zostanie wycofany w przyszłości\n",
    "- LDAP - jupyterhub, servery ssh, *może i pracownie*\n",
    "\n",
    "## Konta\n",
    "\n",
    " - Studenci:\n",
    "   otrzymują automatycznie konta na wszystkich powyższych systemach.    \n",
    "   \n",
    " - Pracownicy:\n",
    "   Muszą indywidualnie poprosić o  konto **administratora**\n",
    "   \n"
   ]
  },
  {
   "cell_type": "markdown",
   "metadata": {
    "collapsed": false,
    "slideshow": {
     "slide_type": "slide"
    }
   },
   "source": [
    "# Informacje:\n",
    "\n",
    "\n",
    "- ### Admin: Mirosław Ziółkowski\n",
    "- ### strona www: **http://www.smcebi.us.edu.pl/infrastruktura-it/**\n",
    "            \n",
    "                                smcebi.edu.pl\n",
    "\n",
    "- **zmiana hasła**\n"
   ]
  },
  {
   "cell_type": "markdown",
   "metadata": {
    "slideshow": {
     "slide_type": "slide"
    }
   },
   "source": [
    "#  Jupyter notebook\n",
    "\n",
    " - komórki tekstowe (markdown cells) - [przykład](https://nbviewer.jupyter.org/github/ipython/ipython/blob/3.x/examples/IPython%20Kernel/Rich%20Output.ipynb)\n",
    " - komórki z kodem (code cells)\n",
    " - *kernel* obsługuje komórki z kodem\n",
    " - lista kerneli jest długa...."
   ]
  },
  {
   "cell_type": "markdown",
   "metadata": {
    "slideshow": {
     "slide_type": "slide"
    }
   },
   "source": [
    "## system $\\LaTeX$:\n",
    "\n",
    "\\begin{align}\n",
    "\\dot{x} & = \\sigma(y-x) \\\\\n",
    "\\dot{y} & = \\rho x - y - xz \\\\\n",
    "\\dot{z} & = -\\beta z + xy\n",
    "\\end{align}\n",
    "\n"
   ]
  },
  {
   "cell_type": "code",
   "execution_count": 1,
   "metadata": {
    "collapsed": false,
    "slideshow": {
     "slide_type": "slide"
    }
   },
   "outputs": [
    {
     "name": "stdout",
     "output_type": "stream",
     "text": [
      "0\n",
      "1\n",
      "2\n"
     ]
    }
   ],
   "source": [
    "for i in range(3):\n",
    "    print(i)"
   ]
  },
  {
   "cell_type": "code",
   "execution_count": 1,
   "metadata": {
    "collapsed": true,
    "slideshow": {
     "slide_type": "slide"
    }
   },
   "outputs": [],
   "source": [
    "%matplotlib notebook\n",
    "import matplotlib.pyplot as plt\n",
    "import numpy as np"
   ]
  },
  {
   "cell_type": "code",
   "execution_count": 2,
   "metadata": {
    "collapsed": false,
    "slideshow": {
     "slide_type": "subslide"
    }
   },
   "outputs": [
    {
     "data": {
      "application/javascript": [
       "/* Put everything inside the global mpl namespace */\n",
       "window.mpl = {};\n",
       "\n",
       "mpl.get_websocket_type = function() {\n",
       "    if (typeof(WebSocket) !== 'undefined') {\n",
       "        return WebSocket;\n",
       "    } else if (typeof(MozWebSocket) !== 'undefined') {\n",
       "        return MozWebSocket;\n",
       "    } else {\n",
       "        alert('Your browser does not have WebSocket support.' +\n",
       "              'Please try Chrome, Safari or Firefox ≥ 6. ' +\n",
       "              'Firefox 4 and 5 are also supported but you ' +\n",
       "              'have to enable WebSockets in about:config.');\n",
       "    };\n",
       "}\n",
       "\n",
       "mpl.figure = function(figure_id, websocket, ondownload, parent_element) {\n",
       "    this.id = figure_id;\n",
       "\n",
       "    this.ws = websocket;\n",
       "\n",
       "    this.supports_binary = (this.ws.binaryType != undefined);\n",
       "\n",
       "    if (!this.supports_binary) {\n",
       "        var warnings = document.getElementById(\"mpl-warnings\");\n",
       "        if (warnings) {\n",
       "            warnings.style.display = 'block';\n",
       "            warnings.textContent = (\n",
       "                \"This browser does not support binary websocket messages. \" +\n",
       "                    \"Performance may be slow.\");\n",
       "        }\n",
       "    }\n",
       "\n",
       "    this.imageObj = new Image();\n",
       "\n",
       "    this.context = undefined;\n",
       "    this.message = undefined;\n",
       "    this.canvas = undefined;\n",
       "    this.rubberband_canvas = undefined;\n",
       "    this.rubberband_context = undefined;\n",
       "    this.format_dropdown = undefined;\n",
       "\n",
       "    this.image_mode = 'full';\n",
       "\n",
       "    this.root = $('<div/>');\n",
       "    this._root_extra_style(this.root)\n",
       "    this.root.attr('style', 'display: inline-block');\n",
       "\n",
       "    $(parent_element).append(this.root);\n",
       "\n",
       "    this._init_header(this);\n",
       "    this._init_canvas(this);\n",
       "    this._init_toolbar(this);\n",
       "\n",
       "    var fig = this;\n",
       "\n",
       "    this.waiting = false;\n",
       "\n",
       "    this.ws.onopen =  function () {\n",
       "            fig.send_message(\"supports_binary\", {value: fig.supports_binary});\n",
       "            fig.send_message(\"send_image_mode\", {});\n",
       "            fig.send_message(\"refresh\", {});\n",
       "        }\n",
       "\n",
       "    this.imageObj.onload = function() {\n",
       "            if (fig.image_mode == 'full') {\n",
       "                // Full images could contain transparency (where diff images\n",
       "                // almost always do), so we need to clear the canvas so that\n",
       "                // there is no ghosting.\n",
       "                fig.context.clearRect(0, 0, fig.canvas.width, fig.canvas.height);\n",
       "            }\n",
       "            fig.context.drawImage(fig.imageObj, 0, 0);\n",
       "        };\n",
       "\n",
       "    this.imageObj.onunload = function() {\n",
       "        this.ws.close();\n",
       "    }\n",
       "\n",
       "    this.ws.onmessage = this._make_on_message_function(this);\n",
       "\n",
       "    this.ondownload = ondownload;\n",
       "}\n",
       "\n",
       "mpl.figure.prototype._init_header = function() {\n",
       "    var titlebar = $(\n",
       "        '<div class=\"ui-dialog-titlebar ui-widget-header ui-corner-all ' +\n",
       "        'ui-helper-clearfix\"/>');\n",
       "    var titletext = $(\n",
       "        '<div class=\"ui-dialog-title\" style=\"width: 100%; ' +\n",
       "        'text-align: center; padding: 3px;\"/>');\n",
       "    titlebar.append(titletext)\n",
       "    this.root.append(titlebar);\n",
       "    this.header = titletext[0];\n",
       "}\n",
       "\n",
       "\n",
       "\n",
       "mpl.figure.prototype._canvas_extra_style = function(canvas_div) {\n",
       "\n",
       "}\n",
       "\n",
       "\n",
       "mpl.figure.prototype._root_extra_style = function(canvas_div) {\n",
       "\n",
       "}\n",
       "\n",
       "mpl.figure.prototype._init_canvas = function() {\n",
       "    var fig = this;\n",
       "\n",
       "    var canvas_div = $('<div/>');\n",
       "\n",
       "    canvas_div.attr('style', 'position: relative; clear: both; outline: 0');\n",
       "\n",
       "    function canvas_keyboard_event(event) {\n",
       "        return fig.key_event(event, event['data']);\n",
       "    }\n",
       "\n",
       "    canvas_div.keydown('key_press', canvas_keyboard_event);\n",
       "    canvas_div.keyup('key_release', canvas_keyboard_event);\n",
       "    this.canvas_div = canvas_div\n",
       "    this._canvas_extra_style(canvas_div)\n",
       "    this.root.append(canvas_div);\n",
       "\n",
       "    var canvas = $('<canvas/>');\n",
       "    canvas.addClass('mpl-canvas');\n",
       "    canvas.attr('style', \"left: 0; top: 0; z-index: 0; outline: 0\")\n",
       "\n",
       "    this.canvas = canvas[0];\n",
       "    this.context = canvas[0].getContext(\"2d\");\n",
       "\n",
       "    var rubberband = $('<canvas/>');\n",
       "    rubberband.attr('style', \"position: absolute; left: 0; top: 0; z-index: 1;\")\n",
       "\n",
       "    var pass_mouse_events = true;\n",
       "\n",
       "    canvas_div.resizable({\n",
       "        start: function(event, ui) {\n",
       "            pass_mouse_events = false;\n",
       "        },\n",
       "        resize: function(event, ui) {\n",
       "            fig.request_resize(ui.size.width, ui.size.height);\n",
       "        },\n",
       "        stop: function(event, ui) {\n",
       "            pass_mouse_events = true;\n",
       "            fig.request_resize(ui.size.width, ui.size.height);\n",
       "        },\n",
       "    });\n",
       "\n",
       "    function mouse_event_fn(event) {\n",
       "        if (pass_mouse_events)\n",
       "            return fig.mouse_event(event, event['data']);\n",
       "    }\n",
       "\n",
       "    rubberband.mousedown('button_press', mouse_event_fn);\n",
       "    rubberband.mouseup('button_release', mouse_event_fn);\n",
       "    // Throttle sequential mouse events to 1 every 20ms.\n",
       "    rubberband.mousemove('motion_notify', mouse_event_fn);\n",
       "\n",
       "    rubberband.mouseenter('figure_enter', mouse_event_fn);\n",
       "    rubberband.mouseleave('figure_leave', mouse_event_fn);\n",
       "\n",
       "    canvas_div.on(\"wheel\", function (event) {\n",
       "        event = event.originalEvent;\n",
       "        event['data'] = 'scroll'\n",
       "        if (event.deltaY < 0) {\n",
       "            event.step = 1;\n",
       "        } else {\n",
       "            event.step = -1;\n",
       "        }\n",
       "        mouse_event_fn(event);\n",
       "    });\n",
       "\n",
       "    canvas_div.append(canvas);\n",
       "    canvas_div.append(rubberband);\n",
       "\n",
       "    this.rubberband = rubberband;\n",
       "    this.rubberband_canvas = rubberband[0];\n",
       "    this.rubberband_context = rubberband[0].getContext(\"2d\");\n",
       "    this.rubberband_context.strokeStyle = \"#000000\";\n",
       "\n",
       "    this._resize_canvas = function(width, height) {\n",
       "        // Keep the size of the canvas, canvas container, and rubber band\n",
       "        // canvas in synch.\n",
       "        canvas_div.css('width', width)\n",
       "        canvas_div.css('height', height)\n",
       "\n",
       "        canvas.attr('width', width);\n",
       "        canvas.attr('height', height);\n",
       "\n",
       "        rubberband.attr('width', width);\n",
       "        rubberband.attr('height', height);\n",
       "    }\n",
       "\n",
       "    // Set the figure to an initial 600x600px, this will subsequently be updated\n",
       "    // upon first draw.\n",
       "    this._resize_canvas(600, 600);\n",
       "\n",
       "    // Disable right mouse context menu.\n",
       "    $(this.rubberband_canvas).bind(\"contextmenu\",function(e){\n",
       "        return false;\n",
       "    });\n",
       "\n",
       "    function set_focus () {\n",
       "        canvas.focus();\n",
       "        canvas_div.focus();\n",
       "    }\n",
       "\n",
       "    window.setTimeout(set_focus, 100);\n",
       "}\n",
       "\n",
       "mpl.figure.prototype._init_toolbar = function() {\n",
       "    var fig = this;\n",
       "\n",
       "    var nav_element = $('<div/>')\n",
       "    nav_element.attr('style', 'width: 100%');\n",
       "    this.root.append(nav_element);\n",
       "\n",
       "    // Define a callback function for later on.\n",
       "    function toolbar_event(event) {\n",
       "        return fig.toolbar_button_onclick(event['data']);\n",
       "    }\n",
       "    function toolbar_mouse_event(event) {\n",
       "        return fig.toolbar_button_onmouseover(event['data']);\n",
       "    }\n",
       "\n",
       "    for(var toolbar_ind in mpl.toolbar_items) {\n",
       "        var name = mpl.toolbar_items[toolbar_ind][0];\n",
       "        var tooltip = mpl.toolbar_items[toolbar_ind][1];\n",
       "        var image = mpl.toolbar_items[toolbar_ind][2];\n",
       "        var method_name = mpl.toolbar_items[toolbar_ind][3];\n",
       "\n",
       "        if (!name) {\n",
       "            // put a spacer in here.\n",
       "            continue;\n",
       "        }\n",
       "        var button = $('<button/>');\n",
       "        button.addClass('ui-button ui-widget ui-state-default ui-corner-all ' +\n",
       "                        'ui-button-icon-only');\n",
       "        button.attr('role', 'button');\n",
       "        button.attr('aria-disabled', 'false');\n",
       "        button.click(method_name, toolbar_event);\n",
       "        button.mouseover(tooltip, toolbar_mouse_event);\n",
       "\n",
       "        var icon_img = $('<span/>');\n",
       "        icon_img.addClass('ui-button-icon-primary ui-icon');\n",
       "        icon_img.addClass(image);\n",
       "        icon_img.addClass('ui-corner-all');\n",
       "\n",
       "        var tooltip_span = $('<span/>');\n",
       "        tooltip_span.addClass('ui-button-text');\n",
       "        tooltip_span.html(tooltip);\n",
       "\n",
       "        button.append(icon_img);\n",
       "        button.append(tooltip_span);\n",
       "\n",
       "        nav_element.append(button);\n",
       "    }\n",
       "\n",
       "    var fmt_picker_span = $('<span/>');\n",
       "\n",
       "    var fmt_picker = $('<select/>');\n",
       "    fmt_picker.addClass('mpl-toolbar-option ui-widget ui-widget-content');\n",
       "    fmt_picker_span.append(fmt_picker);\n",
       "    nav_element.append(fmt_picker_span);\n",
       "    this.format_dropdown = fmt_picker[0];\n",
       "\n",
       "    for (var ind in mpl.extensions) {\n",
       "        var fmt = mpl.extensions[ind];\n",
       "        var option = $(\n",
       "            '<option/>', {selected: fmt === mpl.default_extension}).html(fmt);\n",
       "        fmt_picker.append(option)\n",
       "    }\n",
       "\n",
       "    // Add hover states to the ui-buttons\n",
       "    $( \".ui-button\" ).hover(\n",
       "        function() { $(this).addClass(\"ui-state-hover\");},\n",
       "        function() { $(this).removeClass(\"ui-state-hover\");}\n",
       "    );\n",
       "\n",
       "    var status_bar = $('<span class=\"mpl-message\"/>');\n",
       "    nav_element.append(status_bar);\n",
       "    this.message = status_bar[0];\n",
       "}\n",
       "\n",
       "mpl.figure.prototype.request_resize = function(x_pixels, y_pixels) {\n",
       "    // Request matplotlib to resize the figure. Matplotlib will then trigger a resize in the client,\n",
       "    // which will in turn request a refresh of the image.\n",
       "    this.send_message('resize', {'width': x_pixels, 'height': y_pixels});\n",
       "}\n",
       "\n",
       "mpl.figure.prototype.send_message = function(type, properties) {\n",
       "    properties['type'] = type;\n",
       "    properties['figure_id'] = this.id;\n",
       "    this.ws.send(JSON.stringify(properties));\n",
       "}\n",
       "\n",
       "mpl.figure.prototype.send_draw_message = function() {\n",
       "    if (!this.waiting) {\n",
       "        this.waiting = true;\n",
       "        this.ws.send(JSON.stringify({type: \"draw\", figure_id: this.id}));\n",
       "    }\n",
       "}\n",
       "\n",
       "\n",
       "mpl.figure.prototype.handle_save = function(fig, msg) {\n",
       "    var format_dropdown = fig.format_dropdown;\n",
       "    var format = format_dropdown.options[format_dropdown.selectedIndex].value;\n",
       "    fig.ondownload(fig, format);\n",
       "}\n",
       "\n",
       "\n",
       "mpl.figure.prototype.handle_resize = function(fig, msg) {\n",
       "    var size = msg['size'];\n",
       "    if (size[0] != fig.canvas.width || size[1] != fig.canvas.height) {\n",
       "        fig._resize_canvas(size[0], size[1]);\n",
       "        fig.send_message(\"refresh\", {});\n",
       "    };\n",
       "}\n",
       "\n",
       "mpl.figure.prototype.handle_rubberband = function(fig, msg) {\n",
       "    var x0 = msg['x0'];\n",
       "    var y0 = fig.canvas.height - msg['y0'];\n",
       "    var x1 = msg['x1'];\n",
       "    var y1 = fig.canvas.height - msg['y1'];\n",
       "    x0 = Math.floor(x0) + 0.5;\n",
       "    y0 = Math.floor(y0) + 0.5;\n",
       "    x1 = Math.floor(x1) + 0.5;\n",
       "    y1 = Math.floor(y1) + 0.5;\n",
       "    var min_x = Math.min(x0, x1);\n",
       "    var min_y = Math.min(y0, y1);\n",
       "    var width = Math.abs(x1 - x0);\n",
       "    var height = Math.abs(y1 - y0);\n",
       "\n",
       "    fig.rubberband_context.clearRect(\n",
       "        0, 0, fig.canvas.width, fig.canvas.height);\n",
       "\n",
       "    fig.rubberband_context.strokeRect(min_x, min_y, width, height);\n",
       "}\n",
       "\n",
       "mpl.figure.prototype.handle_figure_label = function(fig, msg) {\n",
       "    // Updates the figure title.\n",
       "    fig.header.textContent = msg['label'];\n",
       "}\n",
       "\n",
       "mpl.figure.prototype.handle_cursor = function(fig, msg) {\n",
       "    var cursor = msg['cursor'];\n",
       "    switch(cursor)\n",
       "    {\n",
       "    case 0:\n",
       "        cursor = 'pointer';\n",
       "        break;\n",
       "    case 1:\n",
       "        cursor = 'default';\n",
       "        break;\n",
       "    case 2:\n",
       "        cursor = 'crosshair';\n",
       "        break;\n",
       "    case 3:\n",
       "        cursor = 'move';\n",
       "        break;\n",
       "    }\n",
       "    fig.rubberband_canvas.style.cursor = cursor;\n",
       "}\n",
       "\n",
       "mpl.figure.prototype.handle_message = function(fig, msg) {\n",
       "    fig.message.textContent = msg['message'];\n",
       "}\n",
       "\n",
       "mpl.figure.prototype.handle_draw = function(fig, msg) {\n",
       "    // Request the server to send over a new figure.\n",
       "    fig.send_draw_message();\n",
       "}\n",
       "\n",
       "mpl.figure.prototype.handle_image_mode = function(fig, msg) {\n",
       "    fig.image_mode = msg['mode'];\n",
       "}\n",
       "\n",
       "mpl.figure.prototype.updated_canvas_event = function() {\n",
       "    // Called whenever the canvas gets updated.\n",
       "    this.send_message(\"ack\", {});\n",
       "}\n",
       "\n",
       "// A function to construct a web socket function for onmessage handling.\n",
       "// Called in the figure constructor.\n",
       "mpl.figure.prototype._make_on_message_function = function(fig) {\n",
       "    return function socket_on_message(evt) {\n",
       "        if (evt.data instanceof Blob) {\n",
       "            /* FIXME: We get \"Resource interpreted as Image but\n",
       "             * transferred with MIME type text/plain:\" errors on\n",
       "             * Chrome.  But how to set the MIME type?  It doesn't seem\n",
       "             * to be part of the websocket stream */\n",
       "            evt.data.type = \"image/png\";\n",
       "\n",
       "            /* Free the memory for the previous frames */\n",
       "            if (fig.imageObj.src) {\n",
       "                (window.URL || window.webkitURL).revokeObjectURL(\n",
       "                    fig.imageObj.src);\n",
       "            }\n",
       "\n",
       "            fig.imageObj.src = (window.URL || window.webkitURL).createObjectURL(\n",
       "                evt.data);\n",
       "            fig.updated_canvas_event();\n",
       "            fig.waiting = false;\n",
       "            return;\n",
       "        }\n",
       "        else if (typeof evt.data === 'string' && evt.data.slice(0, 21) == \"data:image/png;base64\") {\n",
       "            fig.imageObj.src = evt.data;\n",
       "            fig.updated_canvas_event();\n",
       "            fig.waiting = false;\n",
       "            return;\n",
       "        }\n",
       "\n",
       "        var msg = JSON.parse(evt.data);\n",
       "        var msg_type = msg['type'];\n",
       "\n",
       "        // Call the  \"handle_{type}\" callback, which takes\n",
       "        // the figure and JSON message as its only arguments.\n",
       "        try {\n",
       "            var callback = fig[\"handle_\" + msg_type];\n",
       "        } catch (e) {\n",
       "            console.log(\"No handler for the '\" + msg_type + \"' message type: \", msg);\n",
       "            return;\n",
       "        }\n",
       "\n",
       "        if (callback) {\n",
       "            try {\n",
       "                // console.log(\"Handling '\" + msg_type + \"' message: \", msg);\n",
       "                callback(fig, msg);\n",
       "            } catch (e) {\n",
       "                console.log(\"Exception inside the 'handler_\" + msg_type + \"' callback:\", e, e.stack, msg);\n",
       "            }\n",
       "        }\n",
       "    };\n",
       "}\n",
       "\n",
       "// from http://stackoverflow.com/questions/1114465/getting-mouse-location-in-canvas\n",
       "mpl.findpos = function(e) {\n",
       "    //this section is from http://www.quirksmode.org/js/events_properties.html\n",
       "    var targ;\n",
       "    if (!e)\n",
       "        e = window.event;\n",
       "    if (e.target)\n",
       "        targ = e.target;\n",
       "    else if (e.srcElement)\n",
       "        targ = e.srcElement;\n",
       "    if (targ.nodeType == 3) // defeat Safari bug\n",
       "        targ = targ.parentNode;\n",
       "\n",
       "    // jQuery normalizes the pageX and pageY\n",
       "    // pageX,Y are the mouse positions relative to the document\n",
       "    // offset() returns the position of the element relative to the document\n",
       "    var x = e.pageX - $(targ).offset().left;\n",
       "    var y = e.pageY - $(targ).offset().top;\n",
       "\n",
       "    return {\"x\": x, \"y\": y};\n",
       "};\n",
       "\n",
       "/*\n",
       " * return a copy of an object with only non-object keys\n",
       " * we need this to avoid circular references\n",
       " * http://stackoverflow.com/a/24161582/3208463\n",
       " */\n",
       "function simpleKeys (original) {\n",
       "  return Object.keys(original).reduce(function (obj, key) {\n",
       "    if (typeof original[key] !== 'object')\n",
       "        obj[key] = original[key]\n",
       "    return obj;\n",
       "  }, {});\n",
       "}\n",
       "\n",
       "mpl.figure.prototype.mouse_event = function(event, name) {\n",
       "    var canvas_pos = mpl.findpos(event)\n",
       "\n",
       "    if (name === 'button_press')\n",
       "    {\n",
       "        this.canvas.focus();\n",
       "        this.canvas_div.focus();\n",
       "    }\n",
       "\n",
       "    var x = canvas_pos.x;\n",
       "    var y = canvas_pos.y;\n",
       "\n",
       "    this.send_message(name, {x: x, y: y, button: event.button,\n",
       "                             step: event.step,\n",
       "                             guiEvent: simpleKeys(event)});\n",
       "\n",
       "    /* This prevents the web browser from automatically changing to\n",
       "     * the text insertion cursor when the button is pressed.  We want\n",
       "     * to control all of the cursor setting manually through the\n",
       "     * 'cursor' event from matplotlib */\n",
       "    event.preventDefault();\n",
       "    return false;\n",
       "}\n",
       "\n",
       "mpl.figure.prototype._key_event_extra = function(event, name) {\n",
       "    // Handle any extra behaviour associated with a key event\n",
       "}\n",
       "\n",
       "mpl.figure.prototype.key_event = function(event, name) {\n",
       "\n",
       "    // Prevent repeat events\n",
       "    if (name == 'key_press')\n",
       "    {\n",
       "        if (event.which === this._key)\n",
       "            return;\n",
       "        else\n",
       "            this._key = event.which;\n",
       "    }\n",
       "    if (name == 'key_release')\n",
       "        this._key = null;\n",
       "\n",
       "    var value = '';\n",
       "    if (event.ctrlKey && event.which != 17)\n",
       "        value += \"ctrl+\";\n",
       "    if (event.altKey && event.which != 18)\n",
       "        value += \"alt+\";\n",
       "    if (event.shiftKey && event.which != 16)\n",
       "        value += \"shift+\";\n",
       "\n",
       "    value += 'k';\n",
       "    value += event.which.toString();\n",
       "\n",
       "    this._key_event_extra(event, name);\n",
       "\n",
       "    this.send_message(name, {key: value,\n",
       "                             guiEvent: simpleKeys(event)});\n",
       "    return false;\n",
       "}\n",
       "\n",
       "mpl.figure.prototype.toolbar_button_onclick = function(name) {\n",
       "    if (name == 'download') {\n",
       "        this.handle_save(this, null);\n",
       "    } else {\n",
       "        this.send_message(\"toolbar_button\", {name: name});\n",
       "    }\n",
       "};\n",
       "\n",
       "mpl.figure.prototype.toolbar_button_onmouseover = function(tooltip) {\n",
       "    this.message.textContent = tooltip;\n",
       "};\n",
       "mpl.toolbar_items = [[\"Home\", \"Reset original view\", \"fa fa-home icon-home\", \"home\"], [\"Back\", \"Back to  previous view\", \"fa fa-arrow-left icon-arrow-left\", \"back\"], [\"Forward\", \"Forward to next view\", \"fa fa-arrow-right icon-arrow-right\", \"forward\"], [\"\", \"\", \"\", \"\"], [\"Pan\", \"Pan axes with left mouse, zoom with right\", \"fa fa-arrows icon-move\", \"pan\"], [\"Zoom\", \"Zoom to rectangle\", \"fa fa-square-o icon-check-empty\", \"zoom\"], [\"\", \"\", \"\", \"\"], [\"Download\", \"Download plot\", \"fa fa-floppy-o icon-save\", \"download\"]];\n",
       "\n",
       "mpl.extensions = [\"eps\", \"jpeg\", \"pdf\", \"png\", \"ps\", \"raw\", \"svg\", \"tif\"];\n",
       "\n",
       "mpl.default_extension = \"png\";var comm_websocket_adapter = function(comm) {\n",
       "    // Create a \"websocket\"-like object which calls the given IPython comm\n",
       "    // object with the appropriate methods. Currently this is a non binary\n",
       "    // socket, so there is still some room for performance tuning.\n",
       "    var ws = {};\n",
       "\n",
       "    ws.close = function() {\n",
       "        comm.close()\n",
       "    };\n",
       "    ws.send = function(m) {\n",
       "        //console.log('sending', m);\n",
       "        comm.send(m);\n",
       "    };\n",
       "    // Register the callback with on_msg.\n",
       "    comm.on_msg(function(msg) {\n",
       "        //console.log('receiving', msg['content']['data'], msg);\n",
       "        // Pass the mpl event to the overriden (by mpl) onmessage function.\n",
       "        ws.onmessage(msg['content']['data'])\n",
       "    });\n",
       "    return ws;\n",
       "}\n",
       "\n",
       "mpl.mpl_figure_comm = function(comm, msg) {\n",
       "    // This is the function which gets called when the mpl process\n",
       "    // starts-up an IPython Comm through the \"matplotlib\" channel.\n",
       "\n",
       "    var id = msg.content.data.id;\n",
       "    // Get hold of the div created by the display call when the Comm\n",
       "    // socket was opened in Python.\n",
       "    var element = $(\"#\" + id);\n",
       "    var ws_proxy = comm_websocket_adapter(comm)\n",
       "\n",
       "    function ondownload(figure, format) {\n",
       "        window.open(figure.imageObj.src);\n",
       "    }\n",
       "\n",
       "    var fig = new mpl.figure(id, ws_proxy,\n",
       "                           ondownload,\n",
       "                           element.get(0));\n",
       "\n",
       "    // Call onopen now - mpl needs it, as it is assuming we've passed it a real\n",
       "    // web socket which is closed, not our websocket->open comm proxy.\n",
       "    ws_proxy.onopen();\n",
       "\n",
       "    fig.parent_element = element.get(0);\n",
       "    fig.cell_info = mpl.find_output_cell(\"<div id='\" + id + \"'></div>\");\n",
       "    if (!fig.cell_info) {\n",
       "        console.error(\"Failed to find cell for figure\", id, fig);\n",
       "        return;\n",
       "    }\n",
       "\n",
       "    var output_index = fig.cell_info[2]\n",
       "    var cell = fig.cell_info[0];\n",
       "\n",
       "};\n",
       "\n",
       "mpl.figure.prototype.handle_close = function(fig, msg) {\n",
       "    fig.root.unbind('remove')\n",
       "\n",
       "    // Update the output cell to use the data from the current canvas.\n",
       "    fig.push_to_output();\n",
       "    var dataURL = fig.canvas.toDataURL();\n",
       "    // Re-enable the keyboard manager in IPython - without this line, in FF,\n",
       "    // the notebook keyboard shortcuts fail.\n",
       "    IPython.keyboard_manager.enable()\n",
       "    $(fig.parent_element).html('<img src=\"' + dataURL + '\">');\n",
       "    fig.close_ws(fig, msg);\n",
       "}\n",
       "\n",
       "mpl.figure.prototype.close_ws = function(fig, msg){\n",
       "    fig.send_message('closing', msg);\n",
       "    // fig.ws.close()\n",
       "}\n",
       "\n",
       "mpl.figure.prototype.push_to_output = function(remove_interactive) {\n",
       "    // Turn the data on the canvas into data in the output cell.\n",
       "    var dataURL = this.canvas.toDataURL();\n",
       "    this.cell_info[1]['text/html'] = '<img src=\"' + dataURL + '\">';\n",
       "}\n",
       "\n",
       "mpl.figure.prototype.updated_canvas_event = function() {\n",
       "    // Tell IPython that the notebook contents must change.\n",
       "    IPython.notebook.set_dirty(true);\n",
       "    this.send_message(\"ack\", {});\n",
       "    var fig = this;\n",
       "    // Wait a second, then push the new image to the DOM so\n",
       "    // that it is saved nicely (might be nice to debounce this).\n",
       "    setTimeout(function () { fig.push_to_output() }, 1000);\n",
       "}\n",
       "\n",
       "mpl.figure.prototype._init_toolbar = function() {\n",
       "    var fig = this;\n",
       "\n",
       "    var nav_element = $('<div/>')\n",
       "    nav_element.attr('style', 'width: 100%');\n",
       "    this.root.append(nav_element);\n",
       "\n",
       "    // Define a callback function for later on.\n",
       "    function toolbar_event(event) {\n",
       "        return fig.toolbar_button_onclick(event['data']);\n",
       "    }\n",
       "    function toolbar_mouse_event(event) {\n",
       "        return fig.toolbar_button_onmouseover(event['data']);\n",
       "    }\n",
       "\n",
       "    for(var toolbar_ind in mpl.toolbar_items){\n",
       "        var name = mpl.toolbar_items[toolbar_ind][0];\n",
       "        var tooltip = mpl.toolbar_items[toolbar_ind][1];\n",
       "        var image = mpl.toolbar_items[toolbar_ind][2];\n",
       "        var method_name = mpl.toolbar_items[toolbar_ind][3];\n",
       "\n",
       "        if (!name) { continue; };\n",
       "\n",
       "        var button = $('<button class=\"btn btn-default\" href=\"#\" title=\"' + name + '\"><i class=\"fa ' + image + ' fa-lg\"></i></button>');\n",
       "        button.click(method_name, toolbar_event);\n",
       "        button.mouseover(tooltip, toolbar_mouse_event);\n",
       "        nav_element.append(button);\n",
       "    }\n",
       "\n",
       "    // Add the status bar.\n",
       "    var status_bar = $('<span class=\"mpl-message\" style=\"text-align:right; float: right;\"/>');\n",
       "    nav_element.append(status_bar);\n",
       "    this.message = status_bar[0];\n",
       "\n",
       "    // Add the close button to the window.\n",
       "    var buttongrp = $('<div class=\"btn-group inline pull-right\"></div>');\n",
       "    var button = $('<button class=\"btn btn-mini btn-primary\" href=\"#\" title=\"Stop Interaction\"><i class=\"fa fa-power-off icon-remove icon-large\"></i></button>');\n",
       "    button.click(function (evt) { fig.handle_close(fig, {}); } );\n",
       "    button.mouseover('Stop Interaction', toolbar_mouse_event);\n",
       "    buttongrp.append(button);\n",
       "    var titlebar = this.root.find($('.ui-dialog-titlebar'));\n",
       "    titlebar.prepend(buttongrp);\n",
       "}\n",
       "\n",
       "mpl.figure.prototype._root_extra_style = function(el){\n",
       "    var fig = this\n",
       "    el.on(\"remove\", function(){\n",
       "\tfig.close_ws(fig, {});\n",
       "    });\n",
       "}\n",
       "\n",
       "mpl.figure.prototype._canvas_extra_style = function(el){\n",
       "    // this is important to make the div 'focusable\n",
       "    el.attr('tabindex', 0)\n",
       "    // reach out to IPython and tell the keyboard manager to turn it's self\n",
       "    // off when our div gets focus\n",
       "\n",
       "    // location in version 3\n",
       "    if (IPython.notebook.keyboard_manager) {\n",
       "        IPython.notebook.keyboard_manager.register_events(el);\n",
       "    }\n",
       "    else {\n",
       "        // location in version 2\n",
       "        IPython.keyboard_manager.register_events(el);\n",
       "    }\n",
       "\n",
       "}\n",
       "\n",
       "mpl.figure.prototype._key_event_extra = function(event, name) {\n",
       "    var manager = IPython.notebook.keyboard_manager;\n",
       "    if (!manager)\n",
       "        manager = IPython.keyboard_manager;\n",
       "\n",
       "    // Check for shift+enter\n",
       "    if (event.shiftKey && event.which == 13) {\n",
       "        this.canvas_div.blur();\n",
       "        // select the cell after this one\n",
       "        var index = IPython.notebook.find_cell_index(this.cell_info[0]);\n",
       "        IPython.notebook.select(index + 1);\n",
       "    }\n",
       "}\n",
       "\n",
       "mpl.figure.prototype.handle_save = function(fig, msg) {\n",
       "    fig.ondownload(fig, null);\n",
       "}\n",
       "\n",
       "\n",
       "mpl.find_output_cell = function(html_output) {\n",
       "    // Return the cell and output element which can be found *uniquely* in the notebook.\n",
       "    // Note - this is a bit hacky, but it is done because the \"notebook_saving.Notebook\"\n",
       "    // IPython event is triggered only after the cells have been serialised, which for\n",
       "    // our purposes (turning an active figure into a static one), is too late.\n",
       "    var cells = IPython.notebook.get_cells();\n",
       "    var ncells = cells.length;\n",
       "    for (var i=0; i<ncells; i++) {\n",
       "        var cell = cells[i];\n",
       "        if (cell.cell_type === 'code'){\n",
       "            for (var j=0; j<cell.output_area.outputs.length; j++) {\n",
       "                var data = cell.output_area.outputs[j];\n",
       "                if (data.data) {\n",
       "                    // IPython >= 3 moved mimebundle to data attribute of output\n",
       "                    data = data.data;\n",
       "                }\n",
       "                if (data['text/html'] == html_output) {\n",
       "                    return [cell, data, j];\n",
       "                }\n",
       "            }\n",
       "        }\n",
       "    }\n",
       "}\n",
       "\n",
       "// Register the function which deals with the matplotlib target/channel.\n",
       "// The kernel may be null if the page has been refreshed.\n",
       "if (IPython.notebook.kernel != null) {\n",
       "    IPython.notebook.kernel.comm_manager.register_target('matplotlib', mpl.mpl_figure_comm);\n",
       "}\n"
      ],
      "text/plain": [
       "<IPython.core.display.Javascript object>"
      ]
     },
     "metadata": {},
     "output_type": "display_data"
    },
    {
     "data": {
      "text/html": [
       "<img src=\"data:image/png;base64,iVBORw0KGgoAAAANSUhEUgAAAoAAAAHgCAYAAAA10dzkAAAgAElEQVR4XuydBZgk1dn9Dy7BJXhwX5ygwUOQ4O5OkIXgGoK7u0twd4IGd3dY3IN8EGBxgvyfX+72f2t6q7qq+nbP9HSd8zz7kW+n7q2q03d2zrxy3uFkmAEzYAbMgBkwA2bADFSKgeEq9bZ+WTNgBsyAGTADZsAMmAFZAPoQmAEzYAbMgBkwA2agYgxYAFbsA/frmgEzYAbMgBkwA2bAAtBnwAyYATNgBsyAGTADFWPAArBiH7hf1wyYATNgBsyAGTADFoA+A2bADJgBM2AGzIAZqBgDFoAV+8D9umbADJgBM2AGzIAZsAD0GTADZsAMmAEzYAbMQMUYsACs2Afu1zUDZsAMmAEzYAbMgAWgz4AZMANmwAyYATNgBirGgAVgxT5wv64ZMANmwAyYATNgBiwAfQbMgBkwA2bADJgBM1AxBiwAK/aB+3XNgBkwA2bADJgBM2AB6DNgBsyAGTADZsAMmIGKMWABWLEP3K9rBsyAGTADZsAMmAELQJ8BM2AGzIAZMANmwAxUjAELwIp94H5dM2AGzIAZMANmwAxYAPoMmAEzYAbMgBkwA2agYgxYAFbsA/frmgEzYAbMgBkwA2bAAtBnwAyYATNgBsyAGTADFWPAArBiH7hf1wyYATNgBsyAGTADFoA+A2bADJgBM2AGzIAZqBgDFoAV+8D9umbADJgBM2AGzIAZsAD0GTADZsAMmAEzYAbMQMUYsACs2Afu1zUDZsAMmAEzYAbMgAWgz4AZMANmwAyYATNgBirGgAVgxT5wv64ZMANmwAyYATNgBiwAfQbMgBkwA2bADJgBM1AxBiwAK/aB+3XNgBkwA2bADJgBM2AB6DNgBsyAGTADZsAMmIGKMWABWLEP3K9rBsyAGTADZsAMmAELQJ8BM2AGzIAZMANmwAxUjAELwIp94H5dM2AGzIAZMANmwAxYAPoMmAEzYAbMgBkwA2agYgxYAFbsA/frmgEzYAbMgBkwA2bAAtBnwAyYATNgBsyAGTADFWPAArBiH7hf1wyYATNgBsyAGTADFoA+A2bADJgBM2AGzIAZqBgDFoAV+8D9umbADJgBM2AGzIAZsAD0GTADZsAMmAEzYAbMQMUYsACs2Afu1zUDZsAMmAEzYAbMgAWgz4AZMANmwAyYATNgBirGQBUE4NqSBkqaQ9IYkkaS9EuDz3kcSadIWl7Sr5L+KWk7SV9W7Gz4dc2AGTADZsAMmIEuZaAKAnBpSeNJGl3S2QUEIIIPkYhwhJ/LJX0jaZUuPQN+LTNgBsyAGTADZqBiDFRBANY+0sUk3ZUjAH8n6W1Js0t6YchC/vczkvja+xU7H35dM2AGzIAZMANmoAsZsADs+aGuNCTiN1rdZ/29pDUk3dSFZ8CvZAbMgBkwA2bADFSMAQvAnh/4BpKOkjRJ3Tn4SNLOki6p+3v4m1TSVxU7N35dM2AGzIAZMAP9nYExJf17SL1/f3+X0s9vAThsBPCyIfWCya9kRQAnc1q49JnzAjNgBsyAGTADncLA5JI+6JSH6c3nsADsyTZ1fm8N6RhO1gA+LWnKFLE3Ft3B7733nsYai//ZXdh777116KGHdtdLFXgbv3cBkrrokrKf9157SffcI918szTuuNI550hHHy09/rg0Bj4DvYTFFpOeeUb6soQ/wbzzSosuKl12mfTf/+6tVVY59H978OxFMfbY0lxzBQ56C999F+65227S5ptLn38u/fnPEhwcdli5pyj7eZfbvXOv9nv3/GwGDx6sKaaYgr8cW9Lgzv3k2vdkVRCAww9p/KAJ5BZJhHx/lvRjRtj3xiHXrz+kC/hiSd9KWjXlY/ifAPzyyy+7UgDuvPPOOvbYY9t3+jp0Z793h34wbXqsMp/3Qw9JSy8tPf20NMMM4YF+/VVCWG26qbQdhlG9hLnnDs/xww/SyCPn35TnHH30sOa226Rrr91Z5513rKafPuwxwgj5e/z0kzTSSNKcc4Z9egsnnCCdf7705JPScEN+ar32WniOu+6S5p+/+JOU+byL79r5V/q9hxWAY/PbjAVg5x/eiCfcWNJ5CbHHPx/4+y0xJNr3kqRlJT045B74AJ4saYUh1yEI+Wc97TcEC8CID6ZTl/ofyk79ZNrzXEU/bwTUggtKK64o/e1vPZ/l4oulAw+UBg0aKlDa87RDd519dun556VPPpEmnDD/bv/3f9Jvfyt9/bX0m99IvPfhhx+rUUaRPvhAmpRq5hx88UWIes4yi/Tii3lXt+br8D5ggLT33tL6/FqewAEHSP/8p/Too8V5L/p5t+bpO2cXv7cFYP1prEIEsJ3fgV0tAG+77TYts8wy7eSvI/f2e3fkx9K2hyr6ed90k7TZZtKbbw6b6iVFiQh74IEQleoNELl7/fXwZ9pp8+9I9Ixv508/DdfW3htRiIj6/e/z93j/fYms2XTTSUTgegPPPisttFAQugjXJOB96qlDGp6UcBEU/byL7NWfrvF7WwBaALb2O7arBWBrqfJuZqB/M7DAAtKaa0q77JL+HmuvHdLCBx3UO+858cTSxx+HtCjp4DwgYKlfJGqYxGyzSYcfXkxAEeGceWaJe3/4Yd4dW/P1ffaR3nhDuvTS9P2OPFK67jrpwQeLRwFb82TepT8zQA2gU8D9+RPs+2e3AOz7z8BPYAbazgBNEksuGVKlWf1eF1wgnXqq9MgjbX+c/92A8qXBg6W775YWXzz/nqSpzzhDuu++ntcusoi0zTbSeuvl7wEP880X7k06uDdA2n2rraRNNkm/Gxz87nehKYdIoWEGijBgARhGnRnNM2AB2Dx3XmkG+g0DG28c0r6nMCU8A++8E1KxCKPe6Aam8WP44UP0a1mqmHPAs996q3QjVc0JrLCCtPzy0rbb5u0QxCZCmHvTONJufPVVqDkkAjglPgwZ+OtfQzc0jSKGGSjCgAWgBWCRc9LoGgvAWAa93gx0OAM0T1D3Rtcr6c9GmGoq6cwzpT/9qb0v9fPP0ogjhlTs6adLK6+cf79DDglNKhde2PPaDTYITR00WeQB8YgNC5zQEVykczhvz0ZfJ6qHuKPOsRFeekmaZx6JGsXxx4+5o9dWhQELQAvA2LNuARjLoNebgQ5nACckhA/RrzxstFGIVLW7DpBO3jHHlGaaSdp/f4n6wzzsvrtE08RJJ/W8EusamiuOOCJvh1CHd/DBEoKr1k2cv6r5K/bbT3rrLYn0eh7wBEQI78zMJsMM5DBgAWgBGPtNYgEYy6DXm4EOZwAD4h12yK5BSz7+iSdKt98u0XDRTtQsXaiP23prCeGZh7/8RZpoomHFKU0W7Ed9YB7OOku66KJQR8iaCSbIWxH3dSx3/vjHwH8eiGxiyE3XsGEG8hiwALQAzDsjeV+3AMxjyF83A/2YgRdeCE0PdNsSccsDwohmClKR7cS770qkm0k1r7aahLjLw1prhXfZddeeVx51lPTEE9Lll+ftIJ18chC4RER5hjBIoX2YbLIwtYRGlTwQkUTg0oRDZ7NhBhoxYAFoARj7HWIBGMug15uBDmZgjz2k996TLrmk2EPSiDDOOMXNmYvtOuxVr7wSRqMhAJdaStp++/ydaBRJE4vULF57rXQLc5JyQDocgYUAJNJWm4aSt66Zr3/0UTCnhtMi4pt7YBSNKMXWxjADFoCNz4C7gOO+RywA4/jzajPQsQzQaIG9yNlnS8stV/wx6QSmMYORce0C83sRfqRHGUPHjNw8UCO35ZYSTR9JkNIltXvvvXk7BGFFVJTmDGoi55gjf02zVzCuDmH76qvFd+C5sIyhI5sOacMMZDHgCKAjgLHfHRaAsQx6vRnoUAbuvDNElEjn0nFbFKuuGlKW7WxGePjhYEqNCGQiCHV8eSD9S0Rz9dV7Xnn11aEB5LHH8naQGL2GuEKcsQ5z7HaB+b98BjfcUPwO//2vRNr4iiuKeSMW39lXdhsDFoAWgLFn2gIwlkGvNwMdygDNFSONNGzXbN7j7rln8AIkCtgu3HVXiHQtsUSY70tnbh6oi0Po4fmXBKlfIohE9vLADOT//Ee6444QNeT+7QK+hHQnU6NYBnQ1IwSLNLWU2dfXdhcDFoAWgLEn2gIwlkGvNwMdyADpX+rPaIwoMmUj+QrnnRe89hBp7QKzexnrxrONMkoxkcT83jTRRuqXGceYLecBofjjj+Hd0sRk3voyXye6ue660hZblFkVUtlERxlV126fwnJP5qs7iQELQAvA2PNoARjLoNebgQ5kIEZEMJOWjlvGxrULV10VRN+ii0rff18sSklqNC1tS+oX/7wis30xZUZwwk9aOrmV7zv55MF3sEgHcPK+MeK9lc/vvTqbAQtAC8DYE2oBGMug15uBDmQAoYOwokO2LGoefYwxa9dIOLqSTztNorHjk0+KPed446U3bpD6XXjh0G2bB9LiTNpAAA4cGCJ07UDN6Br7HVLcZdFs+r7sfXx9/2XAAtACMPb0WgDGMuj1ZqDDGPjll9D9e+65zY10+/VXCbFFmhSrlnaAmbdMx6AG77XXis3AHW20dOsWUr+MuCO1mwdSxfgP3nOPxHxk/rQDTz0VGlyoNxyuCa+Kf/0rmGPTwONu4HZ8Qv1/TwtAC8DYU2wBGMug15uBDmMAnzsaJYg+0QTSDH7/e4nRa9SitQPU8pHORSQVMXFGlCKE0sybSf1S70jjRF63MxYyAwYEAbjGGuXr84pyceWVIcVdpDM5bU/ehTnJdBAT3TTMQD0DFoAWgLHfFRaAsQx6vRnoMAaYlPHpp9I//tH8gyGOGNO2yy7N79Fo5amnBuNmjKCJdl1/feP7MAN49NHTx7fVzKsHD843XEbQ8l54AOKNSKduO8BIt0cflRCCzWLzzaWxx5YwrzbMgAXgsGegieC6D1KCAQtAHwcz0EUMECmbZhqJmb7MoW0WCD+iUOzTDhx/vHT//cFsmqkcdAU3AqlUaveorcNaJQlSvzR2MHmDUWqNQLMI90QA0pyx447teLtgAM0zIQSbBQKZWsC3324ujdzsfb2ufzDgCKAjgLEn1QIwlkGvNwMdxAC1ZzRW0Mgx6qjNPxgmxtQA5kXmmr0D6dEnnwyTQDA9Zj5vI9CRTFctHbL1NXGIXlLdr78e6vsagagf4+R4t7nnLjaBpJl3XGml8G404zQLhC0NJHgWkpI3zECSAQtAC8DY7wgLwFgGvd4MdBADGB2/+WawH4nBdddJ++8vMbKtHTj0UGnQoFADSKqaiFwjIO5mnVX64Yf0q+hWfvzx0AzSCNyP5gomdMw4owRf7QAj5g48MNjTxICaRRp64MswAxaAPc+AU8Bx3xMWgHH8ebUZ6CgGEEAHHRQaHGLw9NNDu1hj9slai7h8771wD+oBH3ig8V2ef176wx+yrV6yLGLqd2UP7F8QgEQUeY52YNxxg6idc8643a+5JhhmI5ab6SaOu7tXdzIDjgA6Ahh7Pi0AYxn0ejPQIQy88opE5IkGkFj/vlrNXZHGimZen8jbZ58FAXjMMRKdy41ANy1pVer80kDHLLWEealS5gkz6o7Gk3HGaU9kDc5o3oBDhGAMvvlGmmCCkC6fZZaYnby22xiwALQAjD3TFoCxDHq9GegQBo48UrrvPummm+IfiLq6MccMwgzblFaDkWykc/EBZA4wAqcRMG7eZBPprbfSr5pySglz6TzLFCJy3I+6OuoGY5o0sp6XaOVCC0kIwVZE7VZdVZp33valq1v92Xq/3mHAAtACMPakWQDGMuj1ZqBDGEB0YHRcdvZs1uNTc4eo/POfW/+CdN8y5xYBuPfe0nPPNb7HrbdKO+8svfRS+nXTTy+dcYa05JKN9yGKdtxxIQJIkwXNLq0GHc2MmWNCSSvAXGa6pvNEcivu5T36DwMWgBaAsafVAjCWQa83Ax3AAGbIU0wR5vfmWaEUfVzsUtZeu3WCMnlf6vDGGktafHFpp52yhV1tDd3IBxwg0eWcBsQqqeRll238djPMIJ1+ehCAn38extG1Gphc4/+X19lc9L48J93ATEzJ63Iuuqev6/8MWABaAMaeYgvAWAa93gx0AAPM/GW0Wl4zRZlHpVuWyNrf/15mVbFrt9xSmmSSIAC32iqIm0ZAUDWqFWRkHQKROsFGwCORrmNsYGhCOeecYs9b5iq6fxlPx7i7VgHDbKa7tMu3sFXP6X16jwELQAvA2NNmARjLoNebgQ5gAHFA+pMpIK0Cacyvvgpduq0G9XzTTSctumiwZcHsuBGo7yNyR41jGhZYIEwtyRtdh6XKZZeFUXB01iKaW41ttglNIIcf3rqdeXc4yHr/1t3JO/UXBiwALQBjz6oFYCyDXm8G+pgBRBqdotScEbFrFaiVY1oHViStxnrrhY5lBCCWNaSuG4GoHbVw2LekgX2IJK6/fuN9mBmMxyFNJdTUIQZbDZo2MONuZbSuHSn+Vr+39+tdBiwALQBjT5wFYCyDXm8G+pgB0qP42b34YmsfBHFEk8TDD7d2X3arzeRFuNFk8vHHje9Bivvaa8P84DQwdQPxt+mmjfehlo6GEoQtIrAd4pZoJHWN1E+2EnQ4EzklfW6YAQtAC8DY7wILwFgGvd4M9DEDCB+aAw45pLUPgkDaeOP89Gwzd63N5GUeL53AeOY1wimnhKaKrNF0iEjq/4gCNgKG0aR/H3xQuvnm4B3YamBJQ7QScdtKUANJ80qWCG7lvbxX5zNgAWgBGHtKLQBjGfR6M9CHDLRzXmzNWPq771rjZ5ekiZpFRCCTOYiYkcZuBNLRiLarrkq/irQrQjJv9i6dx0Q0+UPk9LbbWvvh4Z/IDGa8AOk4biUY8TfTTGHOMzWGRrUZsAC0AIz9DrAAjGXQ681AHzKAoTFpz3fflYYfvrUP0sqJFvVPhsUMdYCkNakFRGQ2An6EzCWmESINpFuZApLXBDP66BJj7h59dGg3cCtZa/cEFYysd989cGdUmwELQAvA2O8AC8BYBr3eDPQhA/jpEXVqR6cu+zJS7vHHWz+GjCYJatkQgDSu/PRTYxKZ3vH660G0pWHDDSXmIGMq3QijjBI8B3mnk09urW0O96UOc/75pa+/bs+hwOqG6GJWJLQ9d/WunciABaAFYOy5tACMZdDrzUAfMYBAw/z53HMlfOLaAaxamLDBzN5WgqklO+wQBCDv8MsvjdPM++4r0QmLyXIamH4y2WTBC7ARmD5CKvWJJ6QjjpCYMdxKUKOHDUyer2Gz90T8kTJn3vNoozW7i9d1AwMWgBaAsefYAjCWQa83A33EACIGYUZN2Mgjt+chEGhEGVudcqzNtkUITjxxmAvc6B322ivM1qUZJA3bbhvq4g47LJsHRCYC8P33w0QRRCXp4Fbi4ovDdJFWGnInnw/RT20hM4ypoTSqy4AFoAVg7Om3AIxl0OvNQB8xsM8+IZqVVRfXisdaZZVgMJ3XXFH2XtT90bW84ILBw/CbbyTq87KAyTMCjmaQNNRmC9Mpm4X//jeIzI8+CvWEzBZutXUOtjl0GWNZ0y5QA4htTisnjbTrWb1v+xiwALQAjD1dFoCxDHq9GegjBgYMCFGstdZq3wOQWmVk20EHtfYes8wiHX98SGcSufvii8adrdtvH1KeNIOkAVFEI8lJJ2U/J19HZJI+ffbZYiPoyr41Y/MQmFmp6rL7pV3/yCNhLBwicKSRWrGj9+iPDFgAWgDGnlsLwFgGvd4M9AED1JghAEn/Ym3SLpB6RZyR1mwlqC1EJCEAEWW8B5HALGy9dfg6zSBpQHghiDCMzgJWM3DF+1BLt8EGrfc4pP5vnHEap6JjeSQSSt0kEUAMsI1qMmABaAEYe/ItAGMZ9Hoz0AcMUAPGWLR2mwKTUiXihGdeK4FZMqlrOmaJYtHgQS1gFjbbTGLNfvulX0GE8o03sruEWfX55xJG0HToMjYP78B//7uVbxUmnNTmErd25567tbP7u53P7b1bx4AFoAVg7GmyAIxl0OvNQB8wwAQNIlh5ky9iH40o03nnhbq2VoK0MlM98O7DvxAfQ6JaWeBdZ51VIiKZBjp6Ses2qockysgoOFLBL78s4UVIOriVwIyacW1MUGknEP9Y39DQ0mr/x3Y+t/duHQMWgBaAsafJAjCWQa83A73MANEyxNJ774X6vHaCcWnU1xExayVI52JiPddcIQLI1JFppsm+A0bP880n0QySBppD6Ly9+ursPajNgy+aQRCAjGojKthKzDabdPjhYb5xO8E7EDG96abQSGNUjwELQAvA2FNvARjLoNebgV5mANPnyy6T7ruv/TfGJ48Zu4inVqI2ko2oXm10GobQWcgb9QYnpMMbzfYlWlbzHBw0KAjKvBF0Zd+5Ftlk73aDSCMRzazGmHbf3/v3LQMWgBaAsSfQAjCWQa83A73MAN5/eMC12pol7TXeeitM6mDmcCtTjXT0krLF045pI3gaMuc2C0TUVlxRohkkDWefnT/b9+23JZpPmDpCEw3Ruu+/b92Hh0cfNjN50cxW3fGGG4KVDe8y3HCt2tX79BcGLAAtAGPPqgVgLINebwZ6kQHq2CadVEKYTT55+29c65xlxu2447bufiOOGEa7TTVVsH958MHQ1ZwFJp2ss45EM0gaqFVkTNzdd2fvwf24B6KvJmzzRtCVeeMvvwwdwPy3nZ3ZtWeilnHCCaWHHpJmn73Mk/rabmDAAtACMPYcWwDGMuj1ZqAXGcA6hdFvDz/cOzclqkWKlhrARinaMk+TnMjB+Lbxx5fuukvCHDoLiy8ubb55aHxIA80fWNXcf3/2HqR9mUBCF3AyHdyq6BldyMwjZqpJq/bM45WuY0RtVnd03np/vf8yYAFoARh7ei0AYxn0ejPQiwwss0yY+5vVDNGORyHSeMUVEmPbWgEEEqIS3z5q2PhD/d4882Tvzkg6Ut40g6SB56MRpJEwRsT+4Q/BBzDZEEI0shV49NH2WMs0erZLLw1NJ6TTjWoxYAFoARh74i0AYxn0ejPQSwyQhqXz89VXQ+q0tzDnnNKBB4ZmkFagllamA5eUaZHGCexi9t47CKw0XHONdOihoZYwC4x/wzgZ6xf+kD4ljYoYbQX++c9gU/Pcc63YrdgepJt5D7qap5222Bpf1R0MWABaAMaeZAvAWAa93gz0EgPUuJ18cmOR045Hoelk/fWz6+/K3rNmyIwQpAGEztzLL28cYazNDl5hhfS70f3LNBBEXhYQhzSTEHkkCkhNY+0Zyr5D2vXUIfKHdHZvgrFwzGveddfevKvv1dcMWABaAMaeQQvAWAa93gz0EgOIH1KYe+7ZSzcccps11gjijI7TVqBmyEwzxiijhGjmhRdKmFtnoTY7mPR3Gkgh77ZbY79CJpqsvrr0wQehDnDMMaVWNrcwNYU0MOno3gQd0NSF0gxiVIcBC0ALwNjTbgEYy6DXm4FeYIBUH7VyrWzGKPrYW24ZUs+MW2sFMLKmkxkzY+rvanOBmaKRBa5B6NAMkgZMpbfbLliwZIFO4/XWk955JzRqkPr95JOQQm0FSFET3Wz13OS8Z+Md4JNpKvzXqAYDFoAWgLEn3QIwlkGvNwO9wMDFFwfD374o9mcSyLffhvRzK8AEk9/9TqIbmG7ZGWeUTjkl1OdlgetpeKAZJA2MqqNLmE7cLNx7b0hjc83PPwfxySzgVk1T2WabkFamFrG3sdhiwSaHZzCqwYAFoAVg7Em3AIxl0OvNQC8wQAMG0yX22acXblZ3i8MOC5FHRGgrkDRkZj+mgRx7rESHcxaIbF13XeAgDYyBo06R6F4WmJ+77bYhSoi9TZEZxGXed911w2g7BHNv44QTwlg4IqFGNRiwALQAjD3pFoCxDHq9GWgzA9SpEaV68cWQLu1tkNKkyYK5wK1A0pCZ/TAxRmQ2mp+bZxVTxILltttCHSM8AmYQ01E99dSteCtp2WVDjSEp894GwpezQYPLeOP19t19v75gwALQAjD23FkAxjLo9WagzQxQ+3bmmRJzefsCzB0+8cTWNRlgyIzn3zffhLchanbAAY1tZhA1TPnIMot+8klpueVCTV8WsGmhTq+WRk+Oo2sFrwssEPwZMWfuC2Byvf320sYb98Xdfc/eZsAC0AIw9sxZAMYy6PVmoM0MYPHBHNyddmrzjTK2J3K2447Ba64VIAJHVzGNLQCPP/zzVlste3fGxdHlSro4DYg6mkiIlmbh+uuDnyFiEdAFTOSQDuNWgFnGJ50kLb10K3Yrvwc1oljQ3Hpr+bVe0f8YsAC0AIw9tRaAsQx6vRloIwM0KUw5Zaht66sOTyKP1CAyPaMVQKwhaj/7LOxWJHL2m99ITz0VGkbS8NJL0vzzB1+/LFx9dWikQfQBooo0j7Rqju5EE0lEGYnE9QVorplmmjDmjmcxupsBC0ALwNgTbgEYy6DXm4E2MnD88dINN/S+uXDylV57LcybxbevFTNu69O1eBsOHCjRRJEF/AIReVnTLqjlIz3MZI8sYDZNs0TNL4+6QqJlc88d/wHWZib3VZ1m7Q2wyWFayg47xL+Td+hsBiwALQBjT6gFYCyDXm8G2sgAUa0ttuibxoLaa9XGplGzN/ro8S9LRHGVVYIFC8DChMaJDTbI3nuEEaQ33wzR0DTwNaKDeAtm4ZJLpNNPl+67L1yR11lc5k2xySFKCVfjj19mZWuvPessiT99VS/a2rfxbo0YsAC0AIz9DrEAjGXQ681AmxjAr476NIyT+7KzE1E18shhgkYr0tBE4PCsw7gYMGpuww2lTTZJJxK/QAQgqc3JJku/pt5bMO2qCy6QGKdXG9WGtyANLtQjxgIxy7PVzK1j92t2PUbUmHb3hWF4s8/sdc0xYAFoAdjcyRm6ygIwlkGvNwNtYuCQQ0K9GingvgYNE4xSy2rCKPN8RODoVH3rrbCK8W5rrx2MnNNQE6DUIGbVttVPF0nbh3FpCL7bbw9fpV7uvPNCBDIWpH6pZWxUg7+lm4IAACAASURBVBh7j6LrSQGTDt9//6IrfF1/ZMAC0AIw9txaAMYy6PVmoA0MUFOG2Pr73xvXxrXh1qlbEi0jhUq9Xiywc/nLXyRqCwH2LYgW/i4N1PWRem6UXq3NF+ZaRrylASsdzKRrfoakjE89NUQgY8GYOWoYa1HN2P1i1l91Veiqpi6yFTWbMc/ite1jwALQAjD2dFkAxjLo9WagDQxQw4WdCJGtVtTdxT4iEaWDDw52NLFgWsVf/zrUVoY9EYFM6UgDUbWxxpK++ELCDiYNfI0xbIMHB3uXNCD2aPqoRVSLTCAp+q50/yK6nnuu6Ir2XUezDpFSeM6anNK+u3vn3mLAAtACMPasWQDGMuj1ZqANDNAVS+qTqFUngO5S5uhutFH809xyi7TbbqFODdAQQhQOE+M0UNdGDeTXX4dGizTwNYQfPoAIwTRgZo3tyzXXhK8iapnb22gCSdG3veii0HzBvOFOAOn0McYIXc9GdzJgAWgBGHuyLQBjGfR6M9BiBojg0GzBbNdWNCi04vFI0SICW2Evwnsx0/iZZ8KTrbGGtPDC2UbXRdK7P/wQUr9MAplwwvQ3Zt4wdYxXXBG+zjSSffeVVl45nqGTTw4RN8ymOwGk2amrpHGGBh6j+xiwALQAjD3VFoCxDHq9GWgxA1deKf3tb9Irr3RODdemm0pTTSXtt1/8y1KHRzr5iSfCXggVpoHsumv63kUaPH7+WRpxxMadyphAP/20dOml4T5Y7BCJRIDG4qCDJGYcn39+7E6tWU/nNLOBjzkm1Fca3ceABaAFYOyptgCMZdDrzUCLGSAlSeQPEdgp2HlnCVGBMXUsaFI46qihEznWX1+abTZpzz3TdyaKNcUU4f5ZTQ00zQw/fJiYQsNKGg47LJhJX3hh+CoNLdttFyxpYsEMYERoK/iJfZbaekQpXeREXI3uY8AC0AIw9lRbAMYy6PVmoIUMEO3C7JhoUpaQaeHtCm+FpQhee+ecU3hJ5oVM5KAej85ZQF0hHblZgvftt0M066efGt+bVOegQcHeJQ0IIgyjsX4BpLQx2W5kQF30bam5Q6R2kvUKHcnwBn+t8G8syoWv6x0GLAAtAGNPmgVgLINebwZayACRMXzqqCfrJNTXz8U828UXh+aWWsNEXnoZMVwbRdfovnRLk+LNmhdM+hrDZpo1wB//GMRflgF1mXdcbTVp0UWlHXcss6r91y6zjLTEEtnR1fY/ge/QLgYsAC0AY8+WBWAsg15vBlrEAGlMhA52Iq2ISrXosf63DaLp6quDjUosqJPjT20iB2PgJplEOvDA9J2J6s07b+gCbgSsYh5+ONusmggjXcKnnRZ2WXbZUP9HFDAWiMn11gud0p0Eoq14SXZSPWkn8dOfn8UC0AIw9vxaAMYy6PVmoEUMPPBA8NkjSjXaaC3atEXbICSwFGGMWyxII7NfbSLH1lsHmxcsWdKAXQz1enj9NQIzeBGV2LukYY89JGb2nnRS+OoKKwQLmG22iX2j1jaUxD/N0B1qHeV0Jy+ySCt39l59zYAFoAVg7Bm0AIxl0OvNQIsYYB4uIqaTGglqr1bv3RfzyvUTOWjEwN/viCPSd8Uuhggbk0AaAfNjDJmJFqaBRg0aSY47Lnw1z3+wzDvOPHP43Ei5dhow3cZMu1b72GnP5+dpjgELQAvA5k7O0FUWgLEMer0ZaAEDn30mTT659NRTEmKi09DKUWdM5EBQ3nhjeEu8BUcaSTr66PS3xi6GaB2zgBsB/ugwZiZvGurvs+aaodt6p53i2ebe2PcsuGD8Xq3eAQGNzyKR5axJKq2+p/drPwMWgBaAsafMAjCWQa83Ay1ggKjUtddK993Xgs3asMXzz4cUYl4atsit6QDGqJj3BXkWKpg3U6uHHUwj4FOIxUtWqpNII9MxDj887MLs3rnnDl6AsaD+kPQ4NZydCDwPiTDDgdEdDFgAWgDGnmQLwFgGvd4MRDJA8wdRP4r18cTrROCvN/XUwesuy4uv6HMjdhFLRMzA7rtL3303tDavfh9qI2mKwc6kEbA8oVmFrtc0UOvHmLharSGCaJZZQtNNDEgrY0LN83WSdU/ynWi6IcX+4ovxn18MV17bOgYsAC0AY0+TBWAsg15vBiIZYD5tLcLFOLNORG0eL7VkRNFigNUNqe7aRA4EGJHFWndu/d7wg8/eG280visimuji0kunX7fVVtJvfyvhBwiwn8EzEOEdAzghAthoDnHM/q1YSzPIZJOFFHmWQG7FfbxH7zFgAWgBGHvaLABjGfR6MxDJAKlIfjhn1cBFbt+S5ZgwU6f3wQfxpsJM5CASddFF4dEQYB9/HLwB0/Cvf0kDBwYrk0ZgmghRruWXT78Kuxd4PuCA8PU8+5mixFFbx77//W+IBHYqiLS+9dbQyGunPqefqxgDFoAWgMVOSvZVFoCxDHq9GYhggMYGateee06aYYaIjXphKZ26Tz4pzTRT3M2YA4y58z/+EfZhegZTK849N33f226TGEWHaGyEueYK4m6lldKvIuJHGnvffcPXt91WGmecbPuZom+JT+E880jffFN0Rd9cxxQUoqT8F8Fq9G8GLAAtAGNPsAVgLINebwYiGGA6xeOPSzffHLFJLy3FrBk/ufnmi7shgo+GjrPPDvsgCF97LZhDpwFrl733lp59tvF9eS68/lZfPf26jTcOIrs2cg57FFLuRx4Z9z58fvg35nUpx92lNavxPfz97ztrZF1r3qx6u1gAWgDGnnoLwFgGvd4MNMkAdVnM/aVz9U9/anKTXlzGiLVTTgmefDHYZx/p//5POuOMsAspYcyeGRGXBkQnU0KIPjYCFixYuqy1VvpVNJLMOuvQpg+iioAxdzG4885gJv3qqzG79M5aftEgFU5TDyl9o/8yYAFoARh7ei0AYxn0ejPQJAOkQIk+9ZfOTCJHNGww9zYG7DF4cBCTgKYQxN1ll6Xvygg6eHr00cZ3ZVoItYLUVKaBvydNTC0c4L+IcBpHYnDddaGxJE+gxtyjVWvp4kbII6gZXWf0XwYsAC0AY0+vBWAsg15vBppgAOsXPOgYg0Z3an/AUksFL7lNNol7Wnz3fvwxjJYDROCY4VuzhanfnbFxiDTMqBth8cVDdCtrjvLaa4f0Nb6DgLQy3c1Z3cdF3/KCC8KUDbwN+wMQ3ozjQ7DGWvr0h/ft1me0ALQAjD3bFoCxDHq9GWiCgXvvlVZdNdTCjT56Exv0wRKeFwsRaudiQJoW4VFLvSIEsXqpGUPX701qmA5hOGuEPIGK1Q4TMWqTP2gG+fDD4B0YAwQVjSo33BCzS++tpVlliikkIqu2hOk93lt9JwtAC8DYM2UBGMug15uBJhhATJGKq02laGKLXl9CE8X000vU8MWgvvkiT0DRHEKUjVq7RqCOkigfnoFpIHVNlLAmYEnb0hEbOyO33tYmhpveWksjDE01N93UW3f0fVrNgAWgBWDsmbIAjGXQ681ASQbws5tjjtD5SiSmv2D77aXRRovvmq23Xzn99BA9y+qEJl15xRUhytYIyy0Xoqp/+Uv6VSuvHEyia+PQEG4vvRSacGLQqlRyzDOUXUvkE0ucp5/uzNnTZd+nitdbAFoAxp57C8BYBr3eDJRkgAgVNYBZvnclt+u1y4kaffaZhGCLAQJtoomGTuQgBcuEiiyBR7cwAhE7mEbAigUTaDpy07DCChI2KLWv5zWfFH1HBCUeiZhQ9ydstpk0wgjxKfD+9M7d9KwWgBaAsefZAjCWQa83AyUYoOaPmbXPPBNvqFziti25FIFD2vCSS+K2QwAzMxcPRIAQZk8mfqQhL0VcW7PKKhJ1gEQq04A45JpahLB+JnGzb7XRRsFfMDY13uz9m12H9Q6d3cwwRpAb/YsBC8DqCECGF20hCcGGG9ZASVm++PdIWlDSDwr8/IrjgaS039stAPvX97yftp8zgPccHmwU4Pc3nHpqSNPG1o3VGzJT48efu+5KZ4QOYJpErrmmMWMYQC+yiLTjjunXLbOMtOaaoVMYnHRSuGdW80nRz6dVzTFF79fK64iIDhjQ/6KXreSgv+5lAVgNAbibpO0kLSeJcej83ryRJAZHfZtyeDEjuG/IdXln2wIwjyF/3Qy0iAHSpxg/YxdC5KW/gVo56vEQYzFYf32Jub177hl2YV+mgmR1+dIt/MgjoQ6wETCAnn/+oTYv9ddiYM29GQkHELS33CLdeGPM24SoI9YztX3jduvd1fBKXSQzgieYoHfv7bvFMWABWA0B+CZWWZJOHnJcRpD0oaSdJKV55yMA75c0ZOJlw0NmARj3PejVZqAwA8ypvf/+7FRn4Y366EIicDROMPosBuusI807r7TrrmEX0r+IsQceSN8VE2hS5nmpZ4yNaa5hHFwallxSIvrIH4C1DCbOsWP48kbQxXDVG2vpnuYdGMln9B8GLAC7XwAi0L4YktJN+uDTD/e8pCH/hPY4tAjAAZKGl/SxpOsZtykpbVS5BWD/+X73k/ZjBr78MnRdYnZMxKg/4vbbpR12kF5+Oe7p8eNjakctVYvRM16ADz2Uvu+hh0qDBgUrmEbApHrmmYPBcxoWW0zacsuhRtHUHjJ9hPeKwUwzBaPq/jDOL+09+aWEBhlKE8YZJ4YJr+1NBiwAu18ATi7pXUkzS3olcbgYmjRYUprhwQKSBg0RjrNJYsQ6a9MGJFkA9uZ3rO9VWQaI/lFvRvq0v05fQKDhs/fee3EfY32zBqL46KOzR70xtoxGhbyuaSaUTDut9Pe/pz8f9YFY0NRGxSEoGceXVXtY9C0nmyzUdC7Av7z9FPgjEiHFHNvoHwxYAHa/AGwmAlh/eheTdIekMYc0hiS//j8BOHDgQI088sj/+/tlllnmf38MM2AGWsPAf/4Ton9YmRCF6q947rnw/IxPi0G9HQupZaJ8TzyRviui5KOPQsq2Eeguxldx//3Tr1pooRDBRMQCUspY2txHxXQExhwziNdZZonYpI+XYrJNgwxCeyx+KhgdycBtt90m/oAff/xRp4SB2mMPCQh15DO386Hocu12pNUA/lvSzhk1gPV8LCoJgwW+rb+v+6IjgN1+evx+fc4A/nkIhCybkz5/wIIP8MYbIcXKHN8YYNjMVA7SseD66yUipE89lb4rKd0vvgh1go3ATOUJJ8yuZaNBhDnEpKBBXuq5yDv+8kvw0iN9irVNfwW+lERISWM7Ctg/PkVHALs/AshJpM6PLuA/S0IMMoiJLuAZU7qAfytpriFNIHQIzyrpH5LelrRmyrG2AOwf3+t+yn7KwKefhugfdWYLYs7Uj/Hxx9LEE0s//CANSRg09TZ0ndKwUeuapQsXDz08BtOw++7S99+HOrtGIL079tihUSUNdF4jJrFtAaRt8TZ87LGmXuN/i77+WiICSIf3eOM1v08nrKQWEFsYhD5C2uhsBiwAqyEAOYUkNbYaksYlUVLzAWSQ1EuSlpX0oCR+B71yiDikCeQj/p1zE0hnfyP76bqXAcQLhruxnaadwNA330hjjBEvdpZYIog/DJQB3NR4SntPvBMBdjCNkDeqbu65g/k0I+EAkUfqC5/EWbVJtEoUN3n7li9DADKjOo/rlt/YG5ZmwAKwOgKw9OEouMARwIJE+TIzUJYBpn7wwxR/O2xP+jtId444YqgTi0l3LrqotPXWIQoIKGnaaacwlzcNf/2rNMooEqPbGoGu4uGHzxYvc84Z0sPUIAJGyxERzIo8Fvm83nwzfMb//W+Rqzv/GrigmYV51TGfcee/af9/QgtAC8DYU2wBGMug15uBDAaIcpEuzfOv608EEgHEB5BawGZBMwZiDeNmcMcdEvN0ER1pyEvt1tbgK4gQw1ImDZhPk/JlJBxAeBJdfDFrplKBF6QxBkFLjWK3ALNsBHde13W3vG9/fQ8LQAvA2LNrARjLoNebgRQGMC5G6BDVmmqq7qGIGkBq9mImmdQbJ2PDwnze119P54nmjt/+VjrooMY8YgBNmvrkmmV+3eV06TL/t2ZyQOcr4jJLeBb51B5+OHTPEu3tFlADOOusoSmnP3c2d8vnkfUeFoAWgLFn3AIwlkGvNwN1DNBRSaMDNWdMsegmTDeddNZZEnV8zWKeeUKnaa0WjxQ50VLSqWnIs3eprSGdi0XNaael74NhM+KQkXAAT0b2RvA0Czq7Bw6ME5HN3rud60i7I8i7oXa1nTz15d4WgBaAsefPAjCWQa83A3UM8EOTqRQIi26brEAdHZG4FVds/mNnXBu+fzQcALpPmaWLlUoaGN02/fShU7gRMIDGLxCBmgb2OOOMYHgMGD3HfalpbBaMkqORJMvCptl9+3od3pXwxZzmWsq8r5/J9+/JgAWgBWDs94QFYCyDXm8GEgz89FOYR0vakihKt2HhhSW6bZnn2yxILx5zjLQs3gUKI+CoB8xKoyLSWLPXXo3viJcgIjKrdm2aaaTzzhtqxv3II8ETMCZ9e/HFQVTGmkk3y2U71+G7SD3l88/H2f608xmrvLcFoAVg7Pm3AIxl0OvNQIIBasyYWEE3ZYxXXqeSSv0cNW9bbNH8E9anYjHJxpvv39jbp4DRbXPNFaxiGoEO39dek85n+GUKqMW86KIwhxgweYSOYKKGzYLP+tprpVtuaXaHzl3HLzPwTnq+ZsXTuU9bvSezALQAjD31FoCxDHq9GRjCAAIGcUNasJZm7DZyVl89TIygi7dZUEd49tkS82cBXcUIMTz10sDoNppO6PJtBAyg8VwkKpcGxsQx/YPmHECjDvWAmHU3C/zyiGBedVWzO3T2OhplmNqCsKYRx+gcBiwALQBjT6MFYCyDXm8GhjCArx0NIJde2r2UUI83wwwS4+2aBZE4assQkoD6OUaQZQkx0rSknvEKbAR8AjF1vuyy9Ksmm0xi7jAj4QBikWhgjIUL9ZDUev6DeUtdCgQgE1ZInxudw4AFoAVg7Gm0AIxl0OvNgCSsTFZZRRo0SJp00u6lpKgnXyMGiMRdccXQ0Xiky+kqpvEgDaSH+XpeTSXROGxZrmQWUgrqLWxefjlEFhnn1iz23FP66ivplFOa3aHz1733XqjBZHJKTPd3579p/3pCC0ALwNgTawEYy6DXV56BH3+U6I6lLq7ba6Wow/vuO+mkk5r/2CeZRLrhhqFegjQZEIn78sv0PVdaKXj3YbfSCDQsYClDlC8NzLfF/Bl7HkBac/bZw/s0CwysRx+9++x+6vmAW0QuxtejjtosW17XSgYsAC0AY8+TBWAsg15feQb23z80AtBUMNJI3U0HlidvvRWXDqwXYphlYw6dFYnDLgbbGcbHNQIef7ffHsRlGsYfP0Rq6dIGvAfp7JgxbjRITD118DXsZvz8c0idYwnDGTD6ngELQAvA2FNoARjLoNdXmgEiIsxOxVOuFlnqZkJIs2KfQgq3WYw3XjBhJvoGmMRBt+m336bviF0MzSdbbtn4jqefHqaUMOM3DXgy4jnISDhAapN5t8w4Hm645t4G+xqE0S67NLe+P62iVpNILb/oeEJI339yFoAWgLGn0AIwlkGvrywD2GQg/khPHnJINWjA845asJgJEWONFURkTUSQih0wIMxNTgMNInQCM7WjETCAvvpq6dZb068ac0wJy5nafT/8MNRr8jmOMEJzn1/R6GRzu3feKjqx+WWHPyOO2HnPV6UnsgC0AIw97xaAsQx6fWUZOOKI4DlHZKQqdVGtMD6mZu7pp6UZZwxHhxFwpGIRYmlYaqkwWWWTTRofNQyg6cC+4470637zm9AljFUP+OQTaaKJpO+/l0YZpbljvNhiITKJWXUVQL0kkW4+D0bvGX3HgAWgBWDs6bMAjGXQ6yvJAHVrdJDik0YUsCog+sfEjZjRZ4gt+Jt22sAa0zuooyMVmwb8Aon+IToaATGOHcvdd6dfhUin4YQRZ4CuY+oCv/kmNHI0g3nnDZY4dCpXBfg2InzpuK7VU1bl3TvpPS0ALQBjz6MFYCyDXl85BogY1QriMR+uEhC8WMFQt9csSLcS9ZtyyrBDXi0efoHbbCPhs9gIedFJJrNg08NIODB4cPC3o/uYtHQzmHnmMC6NNHWVQNMLhueIwWajp1Xiqx3vagFoARh7riwAYxn0+soxgNULzQQPPtid494afaDU7tGQ8cEHzX3sRPkQgIi+yScPezBBBZNmunHT6sqY3LHDDqEOsBEwgMaehs8lDdwX02aMqAFNJ6SFP/tMojGlGdRPF2lmj/64BusjIt8I38MP749v0P+f2QLQAjD2FFsAxjLo9ZViAJsRBBAp0FoqsUoEMD2DqRxZnn15XCDyiMTRgIExM2AEHP+bJpC0+clEW3fbTWIiSCNgAH300aHRox5MaBl+eOnddyVEG0DEEL3i/s2OOUM4knKuYir0xRdDJJxIICP1jN5lwALQAjD2xFkAxjLo9ZVh4P/+L1iX0PG72WaVee0eL/r226F2j4aNZqxTSJ+PNpoElxNMELbmfyPAiMjxtXpQa7nXXmEmbSNgAH3oocGmpB61yCORy9qklrS/K/upIiARQsw3riLOOSc0gzDNpSboq8hDX7yzBaAFYOy5swCMZdDrK8EARrjLLRdqxvDAa0b8dANReWIt7x0xe8aO5fPPJXz5QK0Zg5FqY4wx7A50ne63n7Tyyo13xwCa6+gwrkda5JFr+BxpQsEPsCxqe5LCZrpJFUFkleYcIrpEx5u106kid7HvbAFoARh7hiwAYxn0+kowQNH75ZeHovdmGwa6gajYurkvvpDGHTc0YCAEAelkxGBWMwbpVaKuK6zQmEEMoIkUYs5dD9LLdAFj/cIkkhqY3PLqq6ELuSzS3qXsHt1wPcJ9nnmCEPz737vhjfrHO1gAWgDGnlQLwFgGvb7rGUBYrLNOMC+eddauf92GL5jWxFGGERouSP0m070ICEQ1kUDEYT0wiT7qqBCBbQQMoGnQwWKmHjXh+umnwfqlBlLOCMZm6jlJJ9PIEmMkXYa7Tr72mWfClBCMuDFGN9rPgAWgBWDsKbMAjGXQ67uaAexK8Ho75RRp3XW7+lULvxyeefzAx7y5LGoNHzRg1OYm18RZsi4wuW9RqxUMoLfbLt2ipiYyk6ln7kEU8rHHJO5RFljhzDmnhDmyIV10kbT99oHPZgS1OSzHgAWgBWC5EzPs1RaAsQx6fdcygGig4xUj4hNP7NrXLP1iRPD+9a8gfsqiFjWjppKuXFBLz2Z14yI0Tz01v9OUblymcrz++rBPVUszJ1PPXEXE8b77hs4HLvM+dIIT7UK4GoEBRsUxJpBoeZVLJXrjPFgAWgDGnjMLwFgGvb4rGUCg0HRApIoUcC1a1ZUvW/KlaJjAcw9/vrLAhgUfvuTUj7xmCjpsmfO7xBKN74aQ22gjiU7letQaTWhCwfuvBsQskcO55ir7JsELkrq3tPuV3607VpAOX3750M197bVDRX53vF1nvYUFoAVg7Im0AIxl0Ou7koGddpJuu0166KGh3apd+aJNvBSzdE8+OT8il7Y1KXXWI6xryKsrpEGDMW+LLtr4YTGAplYTk+l61LqXSdcm5zZjXXLjjWGsX1ncckuIeGEDYwxlALE933zBL5N52UZ7GLAAtACMPVkWgLEMen3XMXD66aGbEUPh2tiwrnvJiBfClmX//aWVViq/CR23dPXW1801smMh4njppSEd3wh8XszkxZalHmm1h1xDE8dVVzU3z5mGBwQONW9GTwb4nIkQMzd64ECz0w4GLAAtAGPPlQVgLINe31UM4CXHzFk6SulqNIZlAF5otiDaVhYvvxyiQ9RXJoF/HLV7aXYsjIlDbDF6rBEwgP7zn8Nkj3rUxs3Vd+ySjqZ5oZnP+sILJYyQ77mnLAvVuJ7oOaPi4HeVVarxzr35lhaAFoCx580CMJZBr+8aBu69NwgIfrATSTLSGeCHOuKvmWkozz8fUrl04ybBCDjsW9ImahRN02IAzUgyrGbq8f77YQQc6eakiTf3O/vs0OhTFmecIV1/fWh6MNIZoA6QOknqLBdc0Cy1kgELQAvA2PNkARjLoNd3BQOIB5oMjjlG2nzzrniltr0E0RyEFlHAsoDnpZeW8ONLgqYBxomlWctg3ExEFrPhRsDPD3GJQXM9mPZBdDHZfMI1MfWMxx0nUXdICtnIZgALJUoqqjozuV1nwwLQAjD2bFkAxjLo9f2egddeCynAXXaRdt+9379O21+AFDkWMM1wRZqWiR4ffdTzMenM5WtpfnwYN995Z77tDBHE+ecfNr3MnWg+mXFGiY7jJDD2RvQvu2x52pg7TEqbiLHRmIHDDpMQzKTLZ5nFbLWCAQtAC8DYc2QBGMug1/drBhB/RP7WX98di0U/yC22kKjLo8C/LPCHW2MNiZRsEnjGUTPG1I96MCYOy5XZZmt8N4yZsXPBWLoe1Bey9/ff9/wKDSkIOVL/ZbHPPsEDkFSwkc8A4xRJt2PXk5bqz9/BVyQZsAC0AIz9jrAAjGXQ6/stA3QqJsVfsjas375ULzz4X/8qjTJKGM9WFg88EMQ2KdkkMGSmBnP22YfdkWkddPjmRY4QeVyTtJip7ZYlDkkrI0zwfCwLxs79+muIbBn5DMDVbrtJV1wRIoHusM/nrNEVFoAWgHEnSLIAjGXQ6/slAwgCxB/GwaSnLP6Kf4x77hnSrNR2lQUij+aRN97ouZI0L9NF0gyZGT1H7SAp3EZ4660QWcLEux5Z3cekjEll41lXFttsEyaJEEE0ijGACMRjk7pJPm9qMI3mGLAAtABs7uQMXWUBGMug1/c7BuhEpZN1002lQw6x+Cv7AR54oITYOu+8sitDLd+22w47r/e3vw3dtMxdrgfRRsyW89KGGEDjGVjf6ct+L7wQfAQZCZcEf0dEc+21y7/LxhuHmbekgo3iDCACaQo580zp9tvzazuL71ytKy0ALQBjT7wFYCyDXt+vGCAFDuR9wwAAIABJREFUueKKoeHjb3+z+Gvmwzv6aOnxx6XLLy+/mukqRIBo2EhikkmCpQoegfVgDB8R27yUYc3rj0aPEUfsuQsdxkR8mVKRxGKLSX/5S0hLl8WaawZrE1LBRnkGMNE+/HCJiSp5Ho/ld+/+FRaAFoCxp9wCMJZBr+83DNRMno89NvzQN5pj4NRTww9tRqiVBXOV99pLwrIlCZpKSAumecUNP3yIOE45ZeO71aZ90OhB1DAJUshEfWnaSGLJJSUiefwpC7qZaR4hFWw0xwBlBJQUMOkFPo3iDFgAWgAWPy3pV1oAxjLo9f2CAboPd9xRuuACabXV+sUjd+xD/uMfwfqEdG5ZIMIZI/fUUz1Xkrq95JJhJ3KQLkQAkt5lbFsj4C2IZ+A330jUDSaRNSUkxtQ6RjyW5a2br7/yylCOceSRoTzAKMaABaAFYLGTkn2VBWAsg17f0QzQELDHHtK550pMJSDlZ8QxQBcnna8PP1x+n2uuCU03pJCTwKT5/PODkXMSjG4jBUx6lzRxI2AATVMGdX7YyiSRNSd4+eXDmLJmIsKkLSklIBVsxDGABRCzpRGCpIYR/UZjBiwALQBjv0csAGMZ9PqOZWDw4DDXF3sQ0pUU7BvxDNx0U6ifpK6uLLLE47TTBo846vSS+OEHadRRw3xfGkUagc5khB91fgjBJBCra60VIolJIDowgW4m8oSHIE1ETl2WPQXp1/N9utxywe+RXwaw/zGyGbAAtACM/f6wAIxl0Os7kgEmP/DDndoymhUwEzZaw8Bdd0lbbSVhol0W1HpRQ4ixcxKMgOPvGTGXBKbOTAmhdm+CCRrfrdG1Wf6DlAMwB5hO4LLgFwpMoEkFG61hgDnOdGR/+GGI2KeNBmzNnfr/LhaAFoCxp9gCMJZBr+84Bqgzo6gfjz/GfNV3hHbcA/ezB2KaB755H3xQ/sGpHSQdz1zYJBgBd8IJoVEjia+/DpGgtKhe/d1r0ULGzE00Uc+vMn1ik03CSLgkYjp5+eXi6qvdwVr+FDReQdp/772DTQw1u/wiZwzLgAWgBWDs94UFYCyDXt8xDGD/QWry9NOls85qztutY16mgx+EDl5qKT//vPxD4h148cXBBDgJZvJiL0MKMAnq+YjeptX11d+9Vi+IMJ100p5fRXBuuWUoB0hi3XWD+XQzc43HGy9MtEibXlKeGa+oZ4Bygc03l3bYITQO+Re5ngxZAFoAxv6rYQEYy6DXdwQDzJblhzmNANiJ5E2N6IiH7qcPgYhCsBFxKwvq/Ph8br2150pEFBM16uvpiPwxJYRIIKngRsAAeoQR0juGEZwDBw5rQL3hhmF8HNY0ZUFtIqbiri0ty1zx6zHwJiXMLwH84jDVVMXXdvuVFoAWgLFn3AIwlkGv73MGLrsseLGtuqp08snDWoD0+QN22QNQn0WELc1wOe9Vic7SRMKfJIjCHXDAsOk+av9o/vjuu9AMkgdG+r399rCegUycwAao3oCarlMMpplMUQZ0lxOR4hcPUsFG+xigtpNua+pHqblsZmpL+56u73a2ALQAjD19FoCxDHp9nzFAdIioDtEd6oUQgEb7GailZemyLtupiUC/444w9SOJeeYJI9XqP0Pq+bB/+fHHYAeTB0TZq68OOzUE4+rddgsj4ZIgLYyYRXyWAV6DY4xRrDaxzL6+NpsBmkK22CJM8jn+eDd2WQBaAMb+e2EBGMug1/cJA4wU22yzUL9FWnHiifvkMSp5UyJ/I48spTVb5BFCowcNGTRPJMEIOOrw1lij599Tz4cBNPV9pHfzwAQQRF59WjbLuobIMbV82LmUQdnIZJm9fW02A0RcEYGk3okGVtmCxwLQAjD23woLwFgGvb5XGeAHL7NX6fSlaYAfBqT9jN5lgGgckTYMnMuAruzHHht2jjCmynyuePUlgW8fU0Ko7yvyOTMBhCkjM83Uc5+sCSTbbRdqCzEfLoN33gnvTiq4yHOV2dvXNmaA6TD4BDJTmlF8/FJBnWjVYAFoARh75i0AYxn0+l5hoPaPPrVA+LadeKJrr3qF+IybjD22xPQGmkHKAKGFgTRj35JYeGEJMUYjTxLU82ESjdAqAlLS2NTUPxfpQ6J8jIRLgrpA0sb8MlEGgwZJ884bmlOMvmGA6TBbby0x5eWooyQaeqokxi0ALQBjv/MsAGMZ9Pq2M/Dii9L224eIE8PjV1657bf0DXIYoC6PqNrvf1+OKjp9EU/4uyXBCDjGsW2wQc+/f+MNCY9AagCLgG5RUsz11iyknJk1i1hIYtddQ3qZmrIyIMq4zDLBoNroOwb4xZCucqLHU04Z/n1gQksVYAFoARh7zi0AYxn0+rYx8Omn0n77BeNgftOnUL9+xmvbbu6NGzJAVI7Ppexs5QMPDF26rE2CqC41nZh3J4Ho5wc6XcBFQCqQpiBqQ5PIGkG3554hikdzShlkTRYps4evbR0DfIYHHxzSwTT2cM66ffqPBaAFYOx3kAVgLINe33IGiPYwFgzBR2qQujH7+rWc5qgNmddKRK3euDlv0333DWO+MOpOYqmlQvQPW5YkXn45RBmLplqxjLn55pCeTQILEaJDCLck6DzmFw3sacqATmbGx/F8RucwQHSZz+XJJ0NXOTOeaQzqRlgAWgDGnmsLwFgGvb5lDFDnhacfrv90mR57bEizGZ3HwPzzh65dRsKVAZNasO857bSeqxgBRwMITT1J0NG70EISljNFQGr6uuskni8JTISxCrr33p5/z1mjs5RO8jLAxoZfUEgFG53FAGlhjMb32EP66qsQGaS2dPjhO+s5Y5/GAtACMPYMWQDGMuj10QzwDzY/tDHj5R9s0r6kAj36KZratm1AypYxXRTelwE/lDH2PemknquWXVZabbVQB5hE2bFzWMaQ7kU0JkHNIWPo6mcQH3SQRJ3hP/5R5i2CKXFaRLHcLr66nQzwC+VFF4V/VygN4LOma7hbGkUsAC0AY79/LABjGfT6phlA+GHQi+AjCkN0iPqdbk3ZNE1UBy4k9Ytpc71gy3tUurj5wVzfdMEPZjzd8OVL4umnpaWXDmnaIqARgB/6iyzS82oEHn9fP4P4sMPCdJALLyyy+9BrqGEkWs2EEaOzGfj++1BSQgc6U1soQ1hppf4fEbQAtACM/c6zAIxl0OtLM0DXJVGaww+XPv44jHnCAgQPN6N/MID4Iwq4ww7lnjfLdoUfyKSBOQdJYNuCOOScFAFj3RBnPFsS55wTvAfrBRv2IaRxieiVQdZEkzJ7+NreZYDIM7WnCMEJJgiRQaLORQzGe/dJi93NAtACsNhJyb7KAjCWQa8vzACdnKTh+KFLPQ6juTbeWBpttMJb+MIOYWC99UJ3LindMkDgMUIN8Z/EKqtISy4ZCviTwLYFsYnnWxEwAYSGDppKkqD+Dy9AIs5JHHdc8DO88soiuw+9hgYYopNlhWO5u/jqdjBARJBfCDiDZBv4pWSTTcK57E+wALQAjD2vFoCxDHp9LgNMTaDon0J7arSw3mDkl2v8cqnr2Auo/5tiitCwUwbY+VCPVT96jWaSP/whTHdIAnG29toSE0GKgAkgmIQTTUwCUcg4OP4kQS3iXXcFcVgGNIC8+24QEkb/ZICRhgh/ms2oA6WcgV9QONf9ARaAFoCx59QCMJZBr09lgPo+frCSKsOWg/ou/nElNdctRdhV/uibHaFGly91WAioJOgAZh4wxsxJ3H9/sIfhl4giYAIIUz3q7Wlo2GB+NObVSVAbRlTwxhuL7D70GiKf33xT3j+w3F18dW8wwL9V2AMRDf7nP4PR/FZbSUss0dl1ghaAFoCx3x8WgLEMen0PBqjVotieyAhTEmjqIOrDPFejexhAqOHXSLStDPD5o06P+qsk1llHmnvuYC2TBLYtrHnzzWJ3YQII00b4hSMJnpMO4PpIX1ZqOO9uTKahdIFUsNE9DBAJ5ExQqsK4Q/79Ij2Mv2SnwQLQAjD2TFoAxjLo9SKVwm/O/KNJNIVUHj+011xTGnVUE9SNDCDgEPv8sCwDbGNmmUXaa6+eq9ZfXxowYNi/J4pMNOa114rdhQkgpKXrxwXSdUyUh7FhSTTbzUskk3KGsinwYm/hq/qaAX65wevxjDMkotA0KSEEKS0YaaS+frpwfwtAC8DYk2gBGMtgRdeTNnn88WCFQcSPDl7+gaSpY+qpK0pKhV6bKBtTMMrap2DIi0irj/Th+8i0F6yAkmDiBtE2JjwUARNA9t47dHcmwTQZGkroPk8Cf0AsYhCaZdBsE0yZe/jazmDg9ddDRgMzcRrZqEmlLAGz8b4sZ7EAtACM/Q6xAIxlsELrEX3PPBPsNPhB+tlnEt2biD5q+7rNab9CH23pV6Ve6sEHh42o5W1Erd8CC0g779zzSn55IDWMR1sSTHTAJujFF/N2Dl/nhzLpaaLPSWTZvVxySegavu++YvvXruLc02mMODWqwcAvv4RoIL/w0jyClQyRaxraiF73thi0ALQAjP3OswCMZbDL1yP6sLtgUgfC74MPQjqE34IZ0+YUb5cfgIzXo6ubjlpS/2VAZI5fFurtXugqJqVa3xzC/nSNP/98sbswAYS9qSlMAssP9iCKkwS/yJAeptu4DDj7iFme26geA1jJcDb5BYKyF84uZ5s/zK7uDTFoAWgBGPudZwEYy2AXrucfNwrm6ZikO5I5rHRVElVZfnkbNnfhR176lUibkv69885yS/nlAfE0cGDPdVhwTDRRGNeVBGeQqCCR5yJgAgjTREjRJoHtzCuvSKR8k7j66mAM/NhjRXYfek3Wfcrt4qu7gQEMpukwv+aa8O/lmGMGIbjiimEiTbsmG1kAWgDGfv9YAMYy2CXrGcXGlASiOvyX9AY/rPlHbLHFpJFH7pIX9Wu0hAGiwSecUD5yxlQPzhWNHUnQKT7eeKGDNwkiz4jCJ58s9thZM4rZg05iGpWSoND/wAOL719bS60h9YqYVBtmoMYAzSP88owYJEL4xRehVIBfoPnDqMJWwQLQAjD2LFkAxjLYT9cT1bvnnjAblUJ7uizxYeMHNKJvttl6J43RT+mr/GMTmWOGM+UBZZCVOiUiyCQGonFJlI3Q8cOWTmNqCpOgWxcz6XrjZn5I0zTy7LNl3iLUfOE3uOyy5db56uowQPkMZQekiPFCpcxghhmCEOSc4pZAtLBZWABaADZ7dmrrLABjGewn60lT0AVJsTuCj/9Nt+7SS4c/mJ7ie2WYgSIMECWm1q5od25tzyyBxl6kymjWSIIaPRpOHn64yFOFs0z9X31tXpZtDak7GlKKNpnUnmK66cJkm/qZw8We0ldVkQGigfzCTWMTXef8QkK9IP/28of61TLz0C0ALQBjv48sAGMZ7ND1//lP6NKka40/pNAmnDDUpPzxj+EHZSvTER1Kgx+rTQxwpoi0vf12uRsgmPDQw0YjCeax0kXOWK4kmLXLFA88/IqAiBz1V9QUJkG6lq51On6ToIZx221DfWAZUPSPpyAdzYYZaIYBptuQLkYM8t9PPgnniX+jEYP8b8oismABaAHYzLlLrrEAjGWwA9b//HPwZMOXj2J2flgS0SDdwD8mpBr4LxG/3uhO6wBK/AhtZuCJJ0K5AGbQZcBZZIxcfZcuVi8//RTqCpPAcgOz6aI2LTwTU0BoBEmCTuKvvgpiMgkmjWy2WZgFWwbMM0Y8zjlnmVW+1gykM0C6mDOIEOTfbyLe+A/ijYkY5M+CC0rMuq7ZbVkAWgDGfj9ZAMYy2Mvr+YeC3xxrYo//8sOYv59nnpBSWHjhIPo6cXxRL9Pl27WJgRdeCD+UqCUtA6IaiL16nz6MoTHZPemknrudf34wauYHYxHQYMK0BkRmEuxPd3v96Dp+2OLlVnTWcG3P3/wmRNX5gWyYgXYwwChNhCB/qB/k33rKJPg3nj8DBgzWeuv9r26H/1PyO7EdT9z7ew7X+7fsqjtaAPajj5PaESYmkN5l5in/CNC4wZ+ZZ5ZGHLEfvYwftV8zQLQC8cMYwDLgzNJ0Ud89S4QOMXnqqT13o2sX7z5qp4qAfUkz77BDz6sRnUTK8fxL4pFHgpEvXfBFwS9bfK/BwVRTFV3l68xAHAN8r9GsRJYHMfjII4M1aJAFYByr1V5tAdiPPn/SbfzQIe1Upli4H72iH7WfMPDvf0uTTRYEYJlfPBgDh+0KneZJUKP36adh9moSNFowdYFmjSJAzBGZrJ80Qo3hCCNIjIRLgug5KeOPPiqye7iGd8YW6cMPpYknLr7OV5qBVjLgFLBTwLHnyQIwlkGvNwMVZODzz0OBOnV12LcUBfZCWL1gKJ4EZs8IqrPO6vn3CEK8+rDRKAIm1ODRt9tuPa+my5ipNUce2fPvMZimKQrxWRS881hjSXAwzjhFV/k6M9BaBiwALQBjT5QFYCyDXm8GKsgA9XpEoelcpLu8KGaZJaRhqdNLAp++d9+Vzj2359+TEsZHjQkLRcAEEMojSCkngc8gnmuMhEuCWkbqZbHoKApqs6ivpaawXVMeij6Lr6suAxaAFoCxp98CMJZBrzcDFWSAOji6EWme+N3vihNAZzpWLEsu2XMNkzroeqTpIwmaQqj/IwpYBFjTUJtISjkJuoKJWDISLgm656lL/PrrIruHa/Bv451/+cVd9cVZ85WtZsAC0AIw9kxZAMYy6PVmoKIMjDZaKEpH1BXFNNOEcWyMF0yCEXCIMeYLJ0G0EAsYRmsVARNAuAcp5SSyZg0zAYe0NNG8omANUUaioIYZ6CsGLAAtAGPPngVgLINebwYqygARNexZ5pijOAGYj19ySbAqSoLU7HPPha8lgTE0Nhg0ghQBE0AwaT7ggJ5X8/dTTCGRak7irbeCgC3Tzcx4r0UXDTWAhhnoKwYsAC0AY8+eBWAsg15vBirKwKSThshcmWkYdA6zZv75e5LGCDh89S67rNjfZ1FOpI/6vIMP7nnFppuGyCAj4ZJoJp2LBQd+gzStGGagrxiwALQAjD17FoCxDHq9GagoA9NOG+bhMse0KCaaSPrnP0OnbhLYs+DJVx/pIzJIxA0vwCKg1o/O3MMO63k1/plMVaivDUTEIWSZQoJNTBEwBo/9iB4aZqCvGLAAtACMPXsWgLEMer0ZqCgDAwYEW5V6S5dGdGSNUMuq9aNpY9CgYWsDs+7BBBC6k+vtXpj2Qa1ffXdwMx29t98ejKapWTTMQF8xYAFoARh79iwAYxn0ejNQUQbont1rL2m11YoTQHSO8WuIxyTo9mW27nXX9fx7TKPffDOMgysChBnG1PWGz+uuK80997D+gEzVQZTSBcx4tyK44QZpv/2kp58ucrWvMQPtYcAC0AIw9mRZAMYy6PVmoKIMLLKItPXWYZZuUWAazfSN+hm6p5wiMeqw3u8PocWYtnPOKXYHJoBgz1I/8m2ttULdISPhkmD83NhjS19+Gcydi+CKK6TjjgvNKYYZ6CsGLAAtAGPPngVgLINebwYqygBmzgirLbYoTgDTOKjpm376nmvwBkT8UR+YBE0bjEA888xi92ACCJYuRBSTYEQchs+MhEvi229D5O+zz4JPYBFccEGwsqED2jADfcWABaAFYOzZswCMZdDrzUBFGVh55TBGbfvtixMw0kjSq69KU0/dcw0Cj+5gooBJ7L13sFs57bRi96DGj6geE0SSWHXV0KzCSLgkfvwxTPNAZNI9XAQ867XXhgklhhnoKwYsAC0AY8+eBWAsg15vBirKwDrrSPPMM2xdXRYdtekhjHzDky8JUrxYwNxxR8+/32MP6ZtvpJNPLkYyXb7M9WWGcBLYtiyzjMRIuCRIF9P9+8EHoRu4CE48MUT/EIGGGegrBiwAqyMAsTUl0YJge1IS/4y9mHHwGE9+iiTGrf8qiaTKdpK+TLneArCvvnt9XzPQzxnImrqR9Vo//xwaNNLEFk0eTAGhESSJXXeViNIhuoqACSBYu5x1Vs+rV1hB4g81i/UYbrhyI+3oMKYB5NJLizyRrzED7WHAArAaAnC3IQJuOUlvSNpP0kaSGMD0bcrRQvCNJGltBX4ul/SNpFUsANvzjehdzUAVGcjy3MviolG6lbq6c8+V7rmn5+qddgr/P00XRcAEEOYTs1cSyy0nkQbGKLoepKVfeSUYRRcBnclvvz3sPYqs9TVmoFUMWABWQwC+KelYSbUkCHaleNDzT2O9PSpj2d+WNLukF4YcNP73M5L42vt1h88RwFZ9N3ofM1AxBrI6brNoaNRwgdEzaVvm/iZBzd7II0tHH12MXCaAMKv3/PN7Xk/DytprS4yEqwczjRlDV9+YknVH6hK/+GLYOsNiT+irzEBrGLAA7H4BiED7QtKCkh5NHJvbJD0vade6o7TSkIjfaHV/z6jzNSTdZAHYmm8+72IGqs4AQggfPTp4i6BmuYJ4wnolCdKp1Pk9+GDPv8fYmS7dI44ococwAeTFF6WLLup5Pc0q2NUwEq4eY44pPfaYNPPMxe6B8AXMKTbMQF8xYAHY/QJwcknvSuKfplcSB42JmYMl1Sc0NpB0lKRJ6g7lR5L4Z6tu1Pr/agq//PLLLzVWUROsvjrtvq8ZMAMdxcBBB0mvvz5stC3rIRuZLuOth6BiHFwSpJnHHVc69NBir55Vn0cHMOKPEW71YH8ij0wKKYJttw3j5oo+U5E9fY0ZKMuABWD3C8BmIoCIw9HrDlPDCODAgQM1MnkW0Sm3zP/+GGbADJiBRgyQliVyhngrgkZj166+OkT52C8JavaYH4zYLIKsZ1pssVD/l2ZaPeGEEuPd5pqryB2CkMTGhoYTwwz0JgO33Xab+AN+/PFHnYKDukQ8nYBQ5UCTQ7cjrQbw30Miemk1gIwon6OuBpChRVO6BrDbj4rfzwz0HgNZ0zuynoDuXKxWfvopWK8kgaUK9XtP4nGQADV7k08u0dxRBDSLMGoOQZkEJtBYwDASrh4TTxxMqBltVwTsgVjcffciV/saM9AeBhwB7P4IICeHOj9sXP4sCTG4z5Au4BkzuoBvHNIFzIAmBDIikW7hVVOOoVPA7fne9K5moOsZyPLuy3rx996Tfve7MKoN65UkmK9LRO0Z2tUSKGs1g13MXXcNO1N4wQUlOoqZXFIPBOZVV0kLLFDsI8sylS622leZgdYwYAFYDQHIadlf0laSxpT0RMIHEDvVlyQtK6lWPo0PIB3DKwzxAUQQIiDTQsQWgK35XvQuZqByDFxySeiEJeJWBFinTDddiADWgxFwe+0VunGT2HDDMDcYg+ciyIpKMgeYiN3qqw+7y1RThaYRooRF0MhSpsh6X2MGWsGABWB1BGArzkvaHhaA7WLW+5qBLmcgK22b9do0jAwYEGb11oOxapg+08GbBDV7NGcw4q0I6EgmmnjzzT2vnnfeICKJ3tUDUXr22dLiixe5Qxgpl9VQUmwHX2UG4hmwALQAjD1FFoCxDHq9GagoA8ztxRLlJXIQBTBoUBgdx2i3etCEscMO0ssv9/xK2XFzTAAhnTukTv7/bzb33NL++0uMhKsHEUYsaLCKKYJG6eQi632NGWgFAxaAFoCx58gCMJZBrzcDFWWAqR2bbSa9SWVyAbzwgrTwwvhODXvxv/4lYa/y6qs9v7bmmqE2b5ddCtxAYToHqWn2S2KOOaRDDgnj4OpBVJLu4WUppCkAGkBoSkkTkwWW+xIz0BIGLAAtAGMPkgVgLINebwYqysCjj0qrrBJm7xbBs89KSy4pffbZsFfffbe0xRbSGwy7TGC11aRFF5V23LHIHYInIXOF2S8JRN5RR0nU79WjkThMuyuG0SecIDFdxDADfcWABaAFYOzZswCMZdDrzUBFGaBhA3HGZI8iwOIFAfbJJ8NejRHzxhtLb2FilcDKK4fU7PbbF7lDaOY488xhR8rNMot0/PHpoo20NB3I3KsI8ABkdvEiixS52teYgfYwYAFoARh7siwAYxn0ejNQUQaYuUtk7YcfihFAxJAmjH/jYloHOonXW096l7lHCZCyXX75kB4ugqyRcjPOKNEhnFbn16hDOO2ek0wSGk2K+gYWeW5fYwbKMmABaAFY9szUX28BGMug15uBijLQyNcvjZKHHpJo6qgXeVz78MMS9X7vv99zJeKPyNxWmGAVQNZIOTp9aRChg7ce1CX+9a/S2msXuIHCaLoyo+OK7eqrzEA5BiwALQDLnZhhr7YAjGXQ681ARRmojXb77jtp1FHzSUA0Yeyc1jSSVU/IVEqEIfWBRcAEkMMPlx5/vOfV00wTagNJWdej0Zi4tHvyrs8/L00/fZEn8jVmoD0MWABaAMaeLAvAWAa93gxUlIHBg6Wxx5Y+/1waB/v5HDChg0geqeN6PPFESPXW1weSsiU1TLdxEVx3nXTggdJTT/W8esoppYsvTjd7pjGF+kP+5OHXX6Xhhw9RzCmw4TfMQB8xYAFoARh79CwAYxn0ejNQUQZ+/FEaZZTQBcw83Txkef2x7umnpaWXlj79tOcupGyJGhYRZ6xkpu8++0h0HCeBWCM9jIdfPejmJf3L3OE8YGI92mhBqE44Yd7V/roZaB8DFoAWgLGnywIwlkGvNwMVZYBo2AgjhJQu49TywLQPxrGRPq0Hgo1JHEQTkyBl+5e/SBtskLd7+DoTQLgHnoNJTDqpxOQSGj7qQeQROxvukwc6nqkBJPo5JoM5DTPQRwxYAFoAxh49C8BYBr3eDFSYgdFHD9E7umzzQHTu73+Xnnlm2CuzTKJp0NhuO2nddfN2D19nAgiegfUTRSaaSGLeMCPh6oGhMybQRTqNP/pIoguY6OdIIxV7Jl9lBtrBgAWgBWDsubIAjGXQ681AhRkYb7xguoyZch6IwDGNg3q/ejBObr75pK+/7vmVsmPXmAAycKD0yis99yFdSwqaKR71wGya6COdwHl4+21p2mmln36Shhsu72p/3Qy0jwELQAvA2NNlARjLoNebs5L1AAAgAElEQVSbgQoz0Ci1Wk8LM3oZufbII8MShmCbc06JjuIkEIV77CGtvnoxkhGjW24pvf56z+sbCdW11grj5phrnIdG84zz1vrrZqCVDFgAWgDGnicLwFgGvd4MVJgB7FXOO0/CSiUPl10mnXyyhOlzPRBss846rKk0Uzpo6sBAugiyJorQrfzgg8G4uh6kl4kMUjuYB9LXSy2VPs4ub62/bgZayYAFoAVg7HmyAIxl0OvNQIUZYMTaccdJ+PXlgTFtmDHfe++wV9JIMsMMIbWaBFFBbF2o0ysCRB6Crt5smoYNvAZ53npsuGH4+732yr8D0UuikR98kH+trzAD7WTAAtACMPZ8WQDGMuj1ZqDCDBA523//YnN0MWK+8ELpzjuHJeyddyRm7P7yS8+vzTZbMHb+85+LkZwl0Bo1q2y6qUQkkwaVPNxzTzClrk8x563z181AqxmwALQAjD1TFoCxDHq9GagwAzRp0HVbZIzaOecELz46deuRNVaOyNyxx4Yu3SJgAsiKK0p06ybB9A46jRkJVw9qBqllPOCA/Dvcequ0667D2szkr/QVZqC1DFgAWgDGnigLwFgGvd4MVJiBMkbNZ5whXX998Oqrx7//LU02mfTf/0ojjjj0qzPNJJ10UjCJLgImgJCOZkxdEli20GhCpK8e22wj0SRCh3IemDRy8MHpncx5a/11M9BKBiwALQBjz5MFYCyDXm8GKszAcssFE2VGvOXhlFNC9O+GG4a98uOPwzSRH36QRh556NeZt3v66aHxogho0mC023/+0/Nqxre99ZbESLh6bL+9RIr4iCPy73DppRLvkdbIkr/aV5iB1jFgAWgBGHuaLABjGfR6M1BhBujOJQpYxEPvhBNCA8g11wxLGBG73/5W+vbbMGqtBiJ2554bfPqKgCkjf/iD9OWXQ6+uze8lzTz55MPuQgqbiSbHHJN/BzqemSmM36BhBvqSAQtAC8DY82cBGMug15uBCjNQxkKFWr6HH5auvHJYwojYjT++9NVX0hhjDP06ETu6hxdZpBjJaYbSP/8c0sp07lLrVw9q+ug+Pv74/HucdlqYKHLTTfnX+goz0E4GLAAtAGPPlwVgLINebwYqzAAdtHTv7rtvPglHHhnGxpFGrUdtxi6Ru7H4V2kIiNjROLLQQvn7c0WaoTR1haSVaQxhJFw99twzTCDBozAPWN5gNYOptWEG+pIBC0ALwNjzZwEYy6DXm4EKM0ADxbjjSocemk8C1zCjFyuYehD5Q/gRCWS/GspMGmEN9ix0DjOrt4bvvw9p5U8+kRgJVw+Mpj/9NNQa5uGww6QXXwxRScMM9CUDFoAWgLHnzwIwlkGvNwMVZmCnncJMXNK7eTjoIAnDZ+ro6kHt329+E4QYqeAaiNiRcp133rzdw9dp9MDqhbRvDd98E9LKn30Wun3rgY/h++9LZ5+df4/99gup5CLX5u/mK8xA8wxYAFoANn96wkoLwFgGvd4MVJgB0qeDB0unnppPQiPxVIvS0Q1MM0gNE0wg3X67NPfc+ftzBRNAqBvEUBphCmrRRdLMjISrB8L0jTckjKrzwFxiBGWRdHHeXv66GYhhwALQAjDm/FgAxrLn9Wag4gwQPUN00ambh7/9LUTh0lKttTo9/AAnmWToTqSDmb4xxxx5u4evE52jbpCmDjp7Qa2+EKHKSLh6lEnr7rCDhKfg0UcXex5fZQbaxYAFoAVg7NlyBDCWQa83AxVmgDFtzz0nXXJJPgmNomdE7BBspGIxhK6BusCHHpIGDMjfnyto9EBAJv0EEZ1EEonc4fdXj6OOkjCQTmtOqb8Wv0PqCDGDNsxAXzJgAWgBGHv+LABjGfR6M1BhBrBOuf9+6eqr80nAboVIH36A9ah59TET+He/G/pV6gKfeEKaeeb8/bkizU+w9nekmUcZZdh96OxFZKbZ09RfvfHG0gwzSEQzDTPQlwxYAFoAxp4/C8BYBr3eDFSYAdK5N94YGjXykGe4TASQWrypphq6E927zz4bRFcRpPkJ1qKCdAaTvq0Ho+buuku69tr8OzDzeL75pF12yb/WV5iBdjJgAWgBGHu+LABjGfR6M1BhBmicwNblzjvzSdhuu9DpmzVyDXE2aJA07bRD98K/D+uY5N81uhM+guOME+r+ag0ftTnDdAYzEq4emDsznxghm4eVVgqzhgcOzLvSXzcD7WXAAtACMPaEWQDGMuj1ZqDCDFx2mUQEDXPkPOAZiA3LIYekXznqqKGeMBntIyqItx9m00WAoTONHknLF0bAkVZOdgYn9zrzzBD9u+WW/Dv86U8SUcDNN8+/1leYgXYyYAFoARh7viwAYxn0ejNQYQauu07CRuXJJ/NJ2HLL0KBx4IHp1xIdZJ+ZZgpfz6oLbHSn774LjR5J0+e33w4RxKQ3YHIPOpgRstjN5GHRRSUaQdZfP+9Kf90MtJcBC0ALwNgTZgEYy6DXm4EKM0DUjOYOpmPkIW9sHJG7Rx6RZp017FSb4VvfGdzoPtT50eiRHPuG+TSiMjkdJLnHBRcED0DqAPNA/R/dzKuvnnelv24G2suABaAFYOwJswCMZdDrzUCFGbj7bmmLLULzRh423DB08+69d/qV1O7RUTzbbOHrNTH34YfSxBPn7d5TNOIHyBg58NprYU+6gNOAhQ3NLPfdl3+P2WeX8A3885/zr/UVZqCdDFgAWgDGni8LwFgGvd4MVJiBhx+W1lgjGDDnYb31gqEzEbQ0UB9IFG7OOcNX82b4pu1RSxtjTj3FFOGKV14Jk0TwAUzDFVdI2NlgBZMH6hNpGllqqbwr/XUz0F4GLAAtAGNPmAVgLINebwYqzMDTT0tLLx1m+OZhrbWk+efPtlDBYPnWW6V55gk71Wb41s8HzrtPvZ3MSy+F+zISLg14GNKZ/NhjeTuHZhIMoxdeOP9aX2EG2smABaAFYOz5sgCMZdDrzUCFGcCi5fe/l+i+zcNqq0mLLSYxTi0NpHmxYmE/wOg2rFw+/zxYuxRFvXXM889LiywSrGHScP310gEHhGkgeWBOMXWPNZGad72/bgbaxYAFoAVg7NmyAIxl0OvNQIUZeOstafrpw+zdPKy8cogW4geYBmr2rrlGWmCB8FWEH2nhrBm+WferN4/GSHqJJSRMotOAiTV1iVyXB0bTkfauNarkXe+vm4F2MWABaAEYe7YsAGMZ9HozUGEGaNBAuDHibcQRGxNB48SKK0pbb51+HTV7l18uLbRQ+DqpX9LCWTN8s+42xhjS448PHR9HZA/zZkbCpeG226Sddy7WyVzWmLrCR8Ov3mYGLAAtAGOPmAVgLINebwYqzEAtSkd9HcKrERBha64ZuobTMOWU0kUXhXQt+Pjj0P2bNcM3616kjTGmHjAgXIEYRHhiDZMGpphsu21oFmmEZmxpKnw0/OptZsAC0AIw9ohZAMYy6PVmoMIMfPttGO9GdG2CCRoTQecsVjCbbJJ+3TTTSJgyL754+HqZ6GJyR9LG2NPQcQzwFsS3L6tT+d57pc02y7eyqTWlJKeMVPij96v3MQMWgBaAsUfQAjCWQa83AxVmoBYVY9za5JM3JgJhxwg1RGAaqCU84wxpySXDVzGAJi2cNcM3626kjUnrYv0CsHdhfBvPmIYHHgiTPd55p/HzI/wQuWVT0hU+Hn71NjJgAWgBGHu8LABjGfR6M1BxBqiLw2pluukaE/GHP0gDB0rrrpt+3YwzSiefHBpFAIJsqqnCSLgymGgi6aabhnYTYy6N6GQkXBryIoS1NUQQEbk0vGA1Y5iBvmTAAtACMPb8WQDGMuj1ZqDiDNAZS5StVnOXRQfdvbvsEuoA0zDLLNJxx4WGDcAIN4yXi3QYJ/er7ya+554QecyaVvLEE9IKK2TXCNb2Zj2TTLJGylX8GPj1e5kBC0ALwNgjZwEYy6DXm4GKM1DUGw9/v732kvADTAMC8sgjpeWXD19lhBt/98MP5QgmbXzZZUPNmpkuQufxq6+m7/PMM9If/5hvZs284wUXDLY0hhnoawYsAC0AY8+gBWAsg15vBirOQNHpGHPNFQyXV1opnTCaNg4+OHTsgkGDQh0fjSZlQNr4ggukRRcNq+64Q9p++7BfGl54QSI9nWUUXVvz5JPScstJn3xS5ml8rRloDwMWgBaAsSfLAjCWQa83AxVnoOh83NlmCyPXahG+etoQe/vtJ2EYDfJGuGXRPu200tlnB/NnwHg5Us9E8NKAMJx33vxpJljLUL/InGHDDPQ1AxaAFoCxZ9ACMJZBrzcDFWdg9tmlww6TMHpuBOrnjj9+aI1f/bWIMCZy1FLEeSPcsu6FID311JDWBUz6IPX83HPpK0g1I07xG2wE/AK32SY7lVzxY+DX72UGLAAtAGOPnAVgLINebwYqzsB880l77BG89hohL1I4//zSrrsObRKhNg9LmKwRbln3qheazBf++98l9ksD4+x4NqaZNEKekKz4MfDr9zIDFoAWgLFHzgIwlkGvNwMVZ4DJHTRZ4KXXCBg9n3eetNhi6VfRYLHjjsGzD1Bzt+yy2SPcsu5V30xy3XXSQQeF/dKAPyB1jL/8Ig03XPYbXH11SGE/9ljFP3C/fkcwYAFoARh7EC0AYxn0ejNQcQbw7VtnnWC10gh5zSI0YjCSbb31wi4ILRpGska4Zd2rvpkkT7jVJo7k+ftdfHEwqr7vvop/4H79jmDAAtACMPYgWgDGMuj1ZqDiDNC1S6QOk+dGmGwyCTGGH2AaiAxuuaW0wQbhqw8/LK2xRvYIt6x70Uyy777SKquEK668Ujr22LBfGhhjh5VN3sxhGkuuuEK6/faKf+B+/Y5gwALQAjD2IFoAxjLo9Wag4gxg7Ez6duedGxPBhA7q6Gj2SANdu8wJ3njj8FVGtBENLNt1i9/gnnsOrUnEE/CkkyS6eNNAjeH444cuYOYaZ4EpJVjKXH99xT9wv35HMGABaAEYexAtAGMZ9HozUHEGGLNG4wUdvI2AyKKTds4506+iaxfBt9lm4eukWhGDNGmUARFGxOhaa4VVealbjJ3HHjv4APLfLBx9tPT449Lll5d5Gl9rBtrDgAWgBWDsybIAjGXQ681AxRkgbTvJJNKBBzYmAnFFVA/LlTQwAo5o4hZbhK/efXf431kj3LLutvDCwfiZukSAKTTNJ+yXBoymifx99pk03njZ74BJNZYx559f8Q/cr98RDFgAWgDGHkQLwFgGvd4MVJwBxNZoo4Uxbo0wxhghgka0MA1M2aBub6utwlf/9a/QFJI1wi3rXkwAYY9aV/I//iFdeGGIPqaB2b6jjCJ9/HGoBczCPvuEjmQaQQwz0NcMWABaAMaeQQvAWAa93gxUnIHddgvzek88sTERo44qYe48/fTp162wQjCTxmwZ3HZbsIV5+eVyBFNLuOmm0kYbhXXnnBPStlnNG9i/jDBCaDaZdNLse+FRiFfgCSeUex5fbQbawYAFoAVg7LmyAIxl0OvNQMUZIDLGfNwzz2xMxIgjhhTq1FOnX4fly5/+JG23Xfj6zTdLu+8uMau3DKglJPqHCAQ817XXSrfckr3L8MNLb78d/ACzwHORKsYL0DADfc2ABaAFYOwZtACMZdDrzUDFGaA2jjQttXZZ+PVXCZH1zjvZImvVVaXFF5d22CHswgQPxOWzz5YjuL6W8LTTQvfxTTdl7zPSSNIrr0iYVWeBekSsbA44oNzz+Goz0A4GLAAtAGPPlQVgLINebwYqzgDdsZg245GXhZ9/logANkqz4vlHA8dOO4VdsFtBbD31VDmCl19eWnnlobWEp5wS0sk33JC9DzWMzArOSk+zEn/CWWcNc4UNM9DXDFgAWgDGnkELwFgGvd4MVJwB/PGor2sksKgRpAawUaMFti3MFabWDlxzjXTYYaFxpAwwpqahhAYSQG0iHcCkgbMw5phBxGY1qLCuXqCWeSZfawZazYAFoAVg7JmyAIxl0OvNQMUZYEIG0zaIsmXhm28kuoA//TSYLqdh3XWlueYKdX+APYkuPvpoOYLpJF5qqWAFA447LphAX3VV9j7jjht8B7MsalhZ36RS7ql8tRloLQMWgBaAsSfKAjCWQa83AxVn4KKLpLPOku69N5uIImbLNG4MGDA0xcoED6J3Dz1UjuDVV5cWWSR0EINjjgkislGKesIJQxQTAZoFRCVp4FpzSbmn8tVmoLUMWABaAMaeKAvAWAa93gxUnAEia0cd1ThSV2TcGrYtM8wQGj8AEzxOP126//5yBJNKnn9+aZddwjr8CZ9+Wrr00ux9MLImhc0YuSxQn0gnMJFKwwz0NQMWgBaAsWfQAjCWQa83AxVngO7av/2tcbcuNjHMAv7uu1ALmAYia1jE7Ltv+Cpdxeeeq//X3rmAWzVuffwfR5Eol1Iu3ahUR7kkSTh1UpTL4SCXkpOjcnLcvujillsKcVyK0OGI6CPESZKSiFSUT+RSQu5dlJRLqe/5r7Hm3muv5lxzrvXuvZt7rf94nh7ntN4x15y/+e7tb4x3jIEZM7IDnJ5K5jnC998HGKkMsr33tpQzZxoH2SGHAFdfbc2qZSKwtQlIAEoAuu5BCUBXgvIXgQInwIkd/fpZG5Ug++Yba7LMRsqsBvaz884DKMS8NithEzyCviu9WjdKm5r69U0gtmsX/AysAGY6+dhjC/yF6/FjQUACUALQdSNKALoSlL8IFDgBpmgputjjL8iWLbP+f5y6UamS/6revS1KeMMN9nnYBI+g70pPJXNG8dKlNg84yPbbD2AxC/sQBtm++9o9ZVpT4FtBj1+OBCQAJQBdt5sEoCtB+YtAgRNgmxZWyLLFS5BRgLHH3saNwWv69gV23RUYOtTWRJng4Xc1ppIZ0bv2WvuU/2T/QQq8INt/f4DtbDhFJMjYBHrCBKBNmwJ/4Xr8WBCQAJQAdN2IEoCuBOUvAgVOgPN9mTpdsyYYBEfAscKX/QCDjGlktorxRq1xggfPF3KKRzbGiR1MNzPyR2NRyfLlwOjRwVfhvbHlTKb0LtvXTJsGHHhgNnejtSJQNgQkACUAXXeWBKArQfmLQIEToLhj/7xffgkGsWgR0KoVwH6AQXbRRUCVKlZRTIvSYNrvWn36ALvvDtx0k306eDDwww8ABWWQtWxp6xnJDDLOAX77bYDRQpkIbG0CEoASgK57UALQlaD8RaDACUQ538cxa0cdBaxeHQyLffs4L/j2223NnXdaBXCmCR5+V+MEkJ13BoYNs08HDDDhSUEZZGEVvpxlzOKVJUssvSwTga1NQAJQAtB1D0oAuhKUvwgUOAGmV2vVytzihfN8O3e2VGyQsW8fZwb/61+2IsoED79rcQIIW814kUSOlmP1MQVlkLFvICeQsIm0n9G/cmWA1cy1axf4C9fjx4KABKAEoOtGlAB0JSh/EShwAmvXWsSNadYaNfxhcBIH++dRQAXZ5ZdbGvnuu20Fz+SxwGT8+OwAp0cSL720WFAGXYlNnpmC7tbNf0WUZ8zuLrVaBNwISABKALrtIEAC0JWg/EWgwAlEiY5xFi8bNH/xRTCsgQMBjowbNcrWsBjk3XeBceOyA8xIIquNvYjfxRcD221ngjLIjj4aYBsajqPzsyhRzuzuUqtFwI2ABKAEoNsOkgB05Sd/ESh4Ajwft+22wKefBp+P41m+Xr1sTZBxmsjKlTb+jcZ2MB98kHmCh9+1mMpdv774zB/Ht7GAw6su9vPhnF/2D+zZ0//uKFzr1cvcx7DgN4IAlCsBCUAJQNcNpwigK0H5i4AIoGpVgOf8gipko0wL4Zi1b78FHnjAgLIh9OLFwH/+kx3gQYOsJY0XSbzgAmCXXYr7C/pdrVMnS/9yGomfffwx0KJF5krn7O5Sq0XAjYAEoASg2w5SBNCVn/xFQARgDZynTw/ukTd5MsAzfgsXBuMaMsRSxJz/S0v//1FBp/f9Y2qXRSocCRdkXbrYGUWu9TNWMTNNzHOOMhGIAwEJQAlA132oCKArQfmLgAgkGi+zXQuraf3sueeAa64BFiwIhsXGzUwRcwYwjetZNOJFBKNiTp/8wcbQnOLhzRj2u86JJ1oTaLaQ8bM5c4CTTspcxBL1/rROBEqDgASgBKDrPpIAdCUofxEQATRsaLN2GSXzs6efBm6+2ap6g4yNmD/8EBg71laknwmMijl99i9HwzVoYIIyyE45xWb8shLYz2bOtPOBHGknE4E4EJAAlAB03YcSgK4E5S8CIoBmzaxvH3v9+RlbubC/35tvBsNi42aOlXvsMVvDqmC2Xxk5MjvAFJIffQQ88oj5sbijcWMbCRdkp59uM34vu8x/xUsvAawm5kQTmQjEgYAEoASg6z6UAHQlKH8REAEcfDDA1CvTpH5GUcdZvIykBdktt1ghyRNP2AqeGeTs4Lvuyg5wupDs3h1o3hxgcUiQnXWWnV9kBbGfMYXN55s/P7t70WoRKCsCEoASgK57SwLQlaD8RUAE0LatRciCGinzXB8jciwUCbIRI4DZs4Enn7QVjMZt2lQ8GSQqZk4A4cxeT0iy/+BBBwWLO163Rw+gaVObG+xn//u/FuHMFMGMen9aJwKlQUACUALQdR9JALoSlL8IiAA6dLAzckF99B580ITdlCnBsJgifu01YMIEW0NByfm7FIbZGGcJU6h5QpLpXRansEF0kPGcIM8xshWNn1G88ozjK69kcydaKwJlR0ACUALQdXdJALoSlL8IiACOO87aqPTp4w/j3nuBSZOA//43GBZTvYwQPvusreFM3x12AJgazsY4AeTVVwEWntA437ddO8AbCed3rfPPR6KSOahS+P77rcqZ7WxkIhAHAhKAEoCu+1AC0JWg/EVABHDyyVZFy6idn3G+77RpxeLObw2LPRgh5Hk7GluyVK9u1cPZ2D33AFOnAhMnmhfvrX374ApfrmGzaPYyZAGJn1GcMvpHESgTgTgQkACUAHTdhxKArgTlLwIikJjzyyKKAQP8YaSnZf1WMUrICCEjhTRGE2vWzNzAOeg6qdFG9vhjdXK/fsEvitFGTjMJGhfHv2cPw8cf18sWgXgQkADMfwF4KiciAagL4DMAbGSQ6b9BrwXAUyzrYWw2A3geQMCIc0gAxuNnWXchAhWaQFivvSgCimlWpm1ffNFQRGng7ActPV3btStw/PEW5QuySy6xecZB5w2ZGv7sMzsHKBOBOBCQAMxvAcie+jMAnAmAJ2dOBPAogHYA3gnYgBSAfwZwVMQNKgEYEZSWiYAIBBMIm7eb3pvP70pjxgDsF8iee7QwURl0N+nX4flEpoGDxrzxOv37Axs2ADw/6GdsIbN6NcAopUwE4kBAAjC/BSAnYlbnGeaUzcZjzSsBnC8BGIcfQd2DCIgACbDAolIlgKleP4sy15fRtUcftbOCtCgNnP2+iy1nOE3Eu06nTtae5rzzgt8Vm07/9BPA84N+5hWQsBWMTATiQEACML8FIKN84wEMT9lsbGVKQdgqgwDsn0wBMw38BicqJdPHfi6KAMbhJ1n3IAIVnAAjZGvWAKNG+T8Ip3AsX27NoIMsvdVKlAbOftei+GMUcAbzJ0yJ/Nn6/J17bvB38/5WrADuu89/TViEs4K/Pt1+BSQgAVgxBSBPkfRMns/jOb1046+tDgAWA7gVQOqvzL7sjwqgccB+bQZgLYBlAOok/dsAaJEUheluEoAV8AdftywCcSMQdkaOxSHr1gVH2Pg8jP7x/J43LSRKA2c/Dpw6QiHHnoI0Vif36mURxSBjhPLLLwH2K/QzpqPr17dpIDIRiAMBCcCKKQCrAtg+wwbakBRxuUQA0y9bGcAaACcAeNnnOxMCsF+/fqhcmUtZLdc58UcmAiIgAlEJhBV5sAnz779nnurBClumYGfNsm+N0sDZ7/44AYRtW95g/oMHoo+yiuKzg0rhYJXGixcDTB/72RlnIDHuLmhUXFROWicCLgSmTJkC/qH99ttvGGmDsnlU7EeX61ZUX78IWkV9lvT75hlACjRWAnvGHvmrMpwBTL8GVd1qAJzQOdUHjCKA+bJb9BwisBUJsHiCKdegPnkXXQRUqQJwTFuQpY9bYwPnI48EWKGbjXECyG23AW+9ZV5HHGFNpSnigoy9Bt9/36KQfsYm15x2wueQiUAcCCgCWDEjgFH3DquAOXiIVcDsjMUoHn89HZmhCvg0AJy2yUKRPZIpYFYNHwBgnQRgVPRaJwIikA2BsEkZPENXo0bmps5PPWVTP+bMsW+m6OL5PYq3bIytZIYOBebNM682bWyuMCOKQUZh+s47wX3+jj3WJopwYohMBOJAQAIwvwUg9xgLPm4EUC9ZyMFR5clBSYktuDApCoclNyR73/PM344AfgAwM9kX8NOADasIYBx+knUPIlDBCbCA49//Li68SH8cCqc6dYDrrw9+UEYP2S7GE24nnABQeGVq4Ox3NU4A4Zm++fPt09atrUE1BVyQsbqXKWNvfnD6Op4jZBUxi0lkIhAHAhKA+S8Ay3qfSQCWNWFdXwQKgACFE5soz57t/7CswN13X+BqtqkPsHTh1qULwCkefVn6loVxmsjgwcD//Z85HXKIfS8jikHGUXWcQxyUwj7sMOsVeBpzLDIRiAEBCUAJQNdtKAHoSlD+IiACeP55gK1U3n3XH0aUli7pwi3XtOvkySbWeKaPxhF1jDxSTAYZGzy/8AISz+FnLVtadJITRWQiEAcCEoASgK77UALQlaD8RUAEMHUqcOGFwEcf+cNgI+ZDDzVhFmQUbpdfDizkwRYAxxyDxIxhtnDJxjhJ5OKLgUWLzOuAA4BhwwCOhAuysDOMTZoALLjs2DGbO9FaESg7AhKAEoCuu0sC0JWg/EVABPD669Zm5fPP/WFEqehldwtW/HrCjVW3PXvan2yME0BYdPLxx+bVvLmlpxlRDDKeX2QbGgpZP6tbFxg3DmjHkjqZCMSAgASgBKDrNoqvyb8AACAASURBVJQAdCUofxEQgUThBs/sff+9PwymX9leNFNBx8sv2+deFPHoo63qlunjbIztaFiwsWSJee2/P8AzfowoBhmLWNgDkOcA/axWLUsRtwqawZTNDWqtCJQCAQlACUDXbSQB6EpQ/iIgAonzdocfDvwY0I6W4vCkk6whc5BRfPXubQ2ZaYy2URAyDZyNcQIIq3U/+8y8GjWyySBsKRNkjO5xjTeFJH3dzjsDb75p0USZCMSBgASgBKDrPpQAdCUofxEQgUS0rWlTTifwhxHlPN+rr9q83qVL7RoUlEwJ8/xgNsZ2LvRZxoGYABo2tBY1bOUSZGxC/a9/FU8PSV/HQUlMTbOSWSYCcSAgASgB6LoPJQBdCcpfBEQAX30F7L03sHEjsO22WwKJ0kcv/RwhW6+wKOTU1FlIEVhzAsjJJwNff22LOcN37FibKhJkbB7NQhGvCXXqOo6w+8MfbFbwXntFuAEtEYFyICABKAHous0kAF0Jyl8ERACrVgG77Qb89BOwI9vQp1mUdC4jd5zWQaFF43m7K680MZeN8TwiK36/+8689tkH4HxgjoQLMvYgvO46mwaSbuvWAdWqAStXArvums2daK0IlB0BCUAJQNfdJQHoSlD+IiACWL/ehN/y5cDuu28JJEo0j5E7Nmv+5hvzP+ggE2WZ+vf5oecEEKacV6ywT/fcE2CEjyPhgmzSJGDQoOLm0anrKPz4TBSCVavqZYtAPAhIAEoAuu5ECUBXgvIXARHApk2W+uW5O6aC0y3KNI65c63Rshe5a9HCZgdn6t/nh54TQFhB/AOHYQKoXdsaPLMPYZCxBQ3nBXvNo1PXMSLJKCJTwdtso5ctAvEgIAEoAei6EyUAXQnKXwREIEGgShUTUPvttyWQKGKO6ddOnYojd1H69/mhT69IrlkToMA7+ODgF8Xegf/4h38ja1Yl815+/VUvWgTiQ0ACUALQdTdKALoSlL8IiECCQPXqSDSE5uSNdGvWDLjjDusFGGQcI9e+PRLnCWlR+vf5XevDD23+L1O2NJ7bY4sZjoQLMlYgc+KI1zswdR0nk/D84Jo1etEiEB8CEoASgK67UQLQlaD8RUAEEgQypVrZi2/0aIDTPYLsvfes958ntBo3BjijN1P/Pr9rffKJidBffrFPMwlTz3/WLOCss/wnmaSnpvW6RSAOBCQAJQBd96EEoCtB+YuACCQIZGq30qABwGkbmVqxfPAB0Lq1VRLT2HNvzJjM/fv80H/6KcDZvRs22Kc77QSwwIRRyCCbPRvguDq2s0m39MbSet0iEAcCEoASgK77UALQlaD8RUAEEgTYCPrOO+0cX7qxMOTJJ625c5BxBBwrf1lRHCYoMyHnPGIKTham0Fi5y/OFTCkHGVvHsADl22+3XMH5wP/8J8DUskwE4kJAAlAC0HUvSgC6EpS/CIhAgkCmti177AGw1UqmWbpM3f7xj8XFFqy8HT8eaNs2O8Be1S4FYKVKVpzCc3xMQwfZggVAx47FBSip61hBfPXVANfIRCAuBCQAJQBd96IEoCtB+YuACCQIZBrdxibRrLTNVIiRnrpl/75nngHYQzAbYx9B+jIFzAke221n1b0cCRdkFIg8f7h69ZYrOCaOBSycBSwTgbgQkACUAHTdixKArgTlLwIikCDAAo+ePe1Puu28swkotlMJss8+M5HmpW6jRA39rsU+gixIYREIo3/s3cf5wvXqBX8307uMTnrnD1NX8uziQw8Br7yiFy0C8SEgASgB6LobJQBdCcpfBEQgQaBLF+Ckk4A+fbYEwnN4TKGysjfI2ES6bl0TgEzdRunf53ctTgChL9vA7LCDCcAvvrBmzkGWXjmcuu7++y0SOXmyXrQIxIeABKAEoOtulAB0JSh/ERCBBAFW0bLK95JLtgQSJQ379dfAXnsBGzfaVBH272PUrWXL7ABzAgh9f/zRBCC/m9W9TAsHGSOEPCPI7043FrawTyDHyclEIC4EJAAlAF33ogSgK0H5i4AIJAicfbb13xs4sCSQzZujReFYgVunjhWBVK5s/fvYn4+FIdkYhR99KQQZeWQamNdmSjnI0qOPqeuGDwfYpHrcuGzuQmtFoGwJSABKALruMAlAV4LyFwERSBA47zxLsw4ZUhIIo2qMwjHCR4EXZMuXA7VqAT//DGy/PVCtGsAmzGwvk40x9UtfpoIpAPnn++8tLRxkXuGIF31MXXfdddYg+t//zuYutFYEypaABKAEoOsOkwB0JSh/ERCBBIELLwR23BFgxCzVKOgowijwdt89GNbKlfY5CzF4HaZvGXnLdG7Q72os/qAvRR//yUbQvDbTwkHmnRtkD0L6pBojmmvXAiNH6kWLQHwISABKALruRglAV4LyFwERSBDo399ar/DMXKpxtFuNGnYmj2IsyNiCZZddbBQcq4aZBmZ1bqb2LX7X4j3Ql1E9ijl+N6/NtHCQeWlj77tT1/FMI88kjhihFy0C8SEgASgB6LobJQBdCcpfBEQgQeCqqyzqxqrZVPNSu15bliBcjLJR+K1aZUIwSvsWv2uxipiCjQ2hGXn0CkIyiU8vaugXpezbF2Afw5tu0osWgfgQkACUAHTdjRKArgTlLwIikCBAgcSGy+ybl2qswOUouN9/N1EXZEy/MvVLEUbR5ok4VgZna2wjw3N7jADyXKFfajf1mrw3No32qxY+91ybS8xpIDIRiAsBCUAJQNe9KAHoSlD+IiACCQJMkb71FsDJGanGFis8x8fUbCb77bfiil0KQKZxw6p3g65HMcfefhSALDzhtVmIksnos3gxUL9+yVXdugGHHmopbpkIxIWABKAEoOtelAB0JSh/ERCBBIFRo6xZMmfnphqjggcfbI2ZM1lq6pYCkOlbFmcw/ZqtsfXL++9bNTErk8Oij7x+ULNqNrc+5hgrcpGJQFwISABKALruRQlAV4LyFwERSBBgm5THHwemTi0J5L33gKOOsr58YcbULUfCUQDyPCB9WMSRrVHMzZ9vEcXU8XKZrsPvef31LfsOdu4MnHYa8Pe/Z3sXWi8CZUdAAlAC0HV3SQC6EpS/CIhAggAbJd97L/DaayWBvP22jYnjjN4w8yaGUACyEISFIezpl62x4IPpaApA9hFkCjjMeFbwxRctWplqFK8cb8dG1zIRiAsBCUAJQNe9KAHoSlD+IiACCQKcl8tCkHnzSgJ5803g9NMBTtsIM6/3HwUgGzd7TaHD/NI/ZzSPQpTnCA86yIpAwoyFKk89BbRpU3Jl69bAgAE26k4mAnEhIAEoAei6FyUAXQnKXwREIEGA5/8uvxxYuLAkEM7R7dULWLIkHJQXuaMAjFq84XdVnhucNs0KPw4/3HoQhhlTxQ8/bOnqVGvRArj5ZqBr17Ar6HMRKD8CEoASgK67TQLQlaD8RUAEEgRmzLBxcOlCj2cCL7oIWLQoHBQjdzNn2hnAqMUbfldlOpeClJW9f/pTtPOH++8P3HMP0LFjySuygvm++4AOHcLvXytEoLwISABKALruNQlAV4LyFwERSBCYPdvSpOyll2qTJgGDB9tYtzDjKDgKRgpARuRYvZuLMXo4caIJQBZxsLdgmDHSN2yYnVdMNQrR8eOBtm3DrqDPRaD8CEgASgC67jYJQFeC8hcBEUgQWLAA+POfbe5uqvFs4NChwNy54aBq17Y2MhSAzZoBv/4a7uO3guf5nnzSmkmzjQvHwoVZq1Y2zeQvfym5kmcRp0zZsjgk7Hr6XATKkoAEoASg6/6SAHQlKH8REIEEAfb78yu4YPTsrruAWbPCQXHqBwsxKACjFm/4XbVePeCxx2zyCAtQOBYuzBjh49xfrk81nkucM8eqiWUiEBcCEoASgK57UQLQlaD8RUAEEgQ4eq1BA0vbsp+fZ2PHWo/AV14JB+UJN7aAiVq84XdVpo8fesgEYI8e1lswzHhWkL3+uncvudKbKsJnk4lAXAhIAEoAuu5FCUBXgvIXARFIEPj+e2CPPSxty/Yrno0ZY+PhmEYNM87c5XpGACnIVq0K8/D/vFEjYPRoE6Lnn28j3sKsUyfgjDOsYtmzjRutkvjrr60qWSYCcSEgASgB6LoXJQBdCcpfBEQgQYCtVqpXB1avtn96xubQL7yw5Yg4P2xNmgAjR5oAPPZYE5W5GCt6777bPP/5T+DDD8OvcvzxAP/07Vu89qefAKaAc51IEv6tWiECuRGQAJQAzG3nFHtJALoSlL8IiECCAKdtcPLGt99aJNCzO++01i4TJoSDYuHH7bebAIxavOF31ebNgREjgM2bgf79bS5wmJ1yikUd2bLGM1YPs6VMrg2pw75Tn4tArgQkACUAc907np8EoCtB+YuACCQIUGzxvBz7ANavXwzl1luBd96xOcFh5jVdpgCMOj3E75redXhPV14ZrQUN07+sBKZg9CzoXGPYc+hzEShrAhKAEoCue0wC0JWg/EVABIoI7LgjwNm/TMF6xvFwH38M/Oc/4aA4h/faay0CeM45wNKl4T5+Kw48ELj+emDTJuCGG+yewozfx/tmz0LP2Lz60EMBpoJlIhAnAhKAEoCu+1EC0JWg/EVABIoIsJHzyy8DFGCeUdCxiOKBB8JBUWwNHGgCsHdv4JNPwn38VhxyiPX0Y0XyLbdYG5cwYwUw+wcOGVK8kpFLl7OIYd+pz0UgVwISgBKAue4dz08C0JWg/EVABIoIUECx4jd1asagQVYgwuKOMGPrF/biowCMWrzhd83WrYEBA4ANG6wH4RtvhH0z8I9/ABxFx6bVnr3+urWFidJGJvwbtEIESo+ABKAEoOtukgB0JSh/ERCBIgKs4h01yiaCePY//2Op2DvuCAd15JHABReYAORZvIULw338VlBIXnqpCUC2g2ERSphRePIM4223Fa986SXg4oujzTEOu74+F4HSJCABKAHoup8kAF0Jyl8ERKCIAKd3XHcdcOKJxVAYyataFRg+PBxU+/bA3/5mApApXI6Xy8XatQP69bPKZJ49nD49/CpXXAH88otFDD179tnoZwjDv0ErRKD0CEgASgC67iYJQFeC8hcBESgicMQRlrplRa1nffpYKxUWY4RZx47AWWeZALzxRmDevDAP/8+PPtoaQLMp9RNPAFOnhl+HgnPFCuC++4rXjhsHsI/ha6+F+2uFCJQnAQlACUDX/SYB6EpQ/iIgAkUEOE2jWzfgvPOKoTCix9FsV18dDooFF3/9K8BRcGwf89Zb4T5+Kzp0AHr2NAH4zDPA5Mnh12HVMM/6cWydZw8+CDz5ZLQpJuHfoBUiUHoEJAAlAF13kwSgK0H5i4AIFBH4y1/s/B+jgJ6dfTbAvnwsyggzTuLo2tUigEzFzpoV5uH/+THHAGeeaSldir/nnw+/zrBhdubw0UeL1/IeOMOYIlImAnEiIAEoAei6HyUAXQnKXwREIKPYO+00qwpmUUaYeQKSAvD++4FXXw3z8P/ciyRygkdUAccJJLNnWxWzZxSF770HPPZYbvchLxEoKwISgBKArntLAtCVoPxFQASKCPDcXZ061oTZM450Y2qYRRlhxvQvCzgoAB95BJg2LczD/3NGEU84AVi/3lrAPPVU+HXuucd6GLLwwzP2MPzqK4CpYJkIxImABKAEoOt+lAB0JSh/ERCBIgJsmbLddiVbqRx3HMA5uxSHYcbzg2wGzTOA48cDbMOSi7EKuXNnE4CcAsJCkDBjxJHi74UXildefrmdI0ytDA67jj4XgfIgIAEoAei6zyQAXQnKXwREoIgAx6j98INVznrGM4Ecs8aijDDjecEDDrAIYLoYC/NN/fzkkwG2lFm3Dnj//ZLn+oKu8/DDto5RQM8YtdxpJ4CpYJkIxImABKAEoOt+lAB0JSh/ERCBIgJs3cLxbalzf72efCzKCDMKxcaNTQC++CLw3HNhHv6fn3oqwJY0nOG7eHG0OcSPP27TSjj9wzNWMDdoAFxzTW73IS8RKCsCEoASgK57SwLQlaD8RUAEigiwkOLNN611imetWllTZxZ4hFmvXkDduiYAZ8wAnn46zMP/cy+VvHYt8OWXwJgx4ddhpe9NN5XsPehdh1NJZCIQJwISgBKArvtRAtCVoPxFQASKCHDs2sSJJc/RNW8OjBgBsDI3zHr3BvbYw84ApgvJMN/Uz9lMumVLgAJw+XIbBxdmjDhybB1Txp6xkIRnGDknWCYCcSIgASgB6LofJQBdCcpfBESgiMDYsRZtY/TOs333tb/705/CQVFoVa9uEcB33gGYls3FevQAmjYFfvzRRCBTu2HGe2YD6yVLilfy/GL37jaeTiYCcSIgASgB6LofJQBdCcpfBESgiABTtjffDMydWwxlr70slXvYYeGg2EB6++1NAH7wAUBBmYudey5A4blmjc0DjlLFy6kjLB75+uvibzz8cOCSS2y6iUwE4kRAAlAC0HU/SgC6EpS/CIhAEQG/NOpuuwHTp1tKNszYLLpSJUsBf/op8NBDYR7+nzOSt88+JgB5PZ5NDLN337UoJauYPTvwQJthzFSwTATiREACUALQdT9KALoSlL8IiEARgZkzrd3L0qXFUKpWBebPB5o0CQfl9d2jAHRpwOydJVy9GthhB+CWW8K/++OPTaRyeohnrEhmSxumgmUiECcCEoASgK77UQLQlaD8RUAEigiw6TKLJr7/3v5q82Zg221NENarFw5q0CCL2jEFvGIFcN994T5+Ky64wKKIjObxn0OHhl9n2TKrQN60yaKGtL33topmpoJlIhAnAhKAEoCu+1EC0JWg/EVABIoILFpkkzzYf4/G83dVqgDffQfUqhUOiu1iKB4pAHkNjmfLxS68ENhxR2DVKqB2bUvjhhmrhXmPnB7CqCGN98FZwlHS12HX1+ciUJoEJAAlAF33kwSgK0H5i4AIFBH44gugfn3g998tisZoXo0a9s+d+dsmxIYMARiJY9RuwwbgzjvDPPw/90bSUQAy8siZvmFGwcmpH/Th99MoXhcuBBo1CvPW5yJQvgQkACUAXXecBKArQfmLgAgUEWDatmbN4igaI3+MwHGebuXK4aC8SSIUjekzhcO9i1ewnx9FKMUczx5eeWW498aN9p08e7jnnsXRy2++sWeQiUCcCEgASgC67kcJQFeC8hcBESgiwPQpU68Ugqz+/fxzoGFDgOLKO1eXCRdbyDDixmhh1LN7ftfzzhKyCKRFC2DgwGgviQLwww+thQzFI5+BfQSrVYvmr1UiUF4EJAAlAF33mgSgK0H5i4AIFBFg0cc225jwY0EFxdQhhwDr1kWDdNttwJw5JgBZgMGUcC7GlC/7+TH13Lo1EHWUG7/3jTeAP/4R8NLZFK98JpkIxImABKAEoOt+lAB0JSh/ERCBEgQYAWQ18P77AwsWWAuVlSujQWLDZhZd8Cwe/QcPjuaXvoozfdnWhQKQ388G01GMY+gmTQI4v5gj4dq0sQigTATiRkACUALQdU9KALoSlL8IiEAJAqyknTzZIn+zZwOnngp8+WU0SGz78vzzJgApwqJG7tKvfuutNkqOAvCkk4A+faJ9PwtGHn0UOPJIwG8ySLSraJUIlD0BCUAJQNddJgHoSlD+IiACJQiwCviRR4CjjrJo3vnnA4sXR4PEyR/jxpkA5FSOiy6K5pe+itXDbEpNAchZvhwNF8UYdWQUslMn4OWXAc4mZiRRJgJxIyABKAHouiclAF0Jyl8ERKAEgQMOAIYPB7p0sUggp3uwsCOKPfYYMHq0nQHs2hVgQ+dcbNQo+24WgfAaZ50V7SoHHQRcdx1w4onAs89a/0Cms2UiEDcCEoASgK57UgLQlaD8RUAEShBo1w7o1w8480zgmWcAnsebNy8aJE7dGDHCBGC3bgBn+uZiDz5oEzwoAClAmYaOYpz4cckl9t1jxwK8zquvRvHUGhEoXwISgBKArjtOAtCVoPxFQARKEGDkzzt3x3QuZ+m+9lo0SBMnWgSuenWgVy+gR49ofumrmIJ++GEbBedF9KJcqUMH4JxzLGXM+2ZByH//G8VTa0SgfAlIAEoAuu44CUBXgvIXAREoQeCMM6wAhJG3+++3KCDTsVHMSxlTAPL8HyNxudgTT9gYOQpARhSPPTbaVShemf7t2xe45RYrJOG1ZCIQNwISgBKArntSAtCVoPxFQARKEOjdG2A7FZ6fu+MO66vHdGwUmzbNzuxRALIFzMknR/Hacs3TTwPDhpkA5JlCRvai2F//CjCFfemlwDXXAJwC8sADUTy1RgTKl4AEoASg646TAHQlKH8REIESBBj5++03m+NLEbhkiaVjoxhTxUz7UgAOHWqFILkY07ZXXWUCkIUlFHVRjBXDzZqZ+KQIpFHEykQgbgQkACUAXfekBKArQfmLgAiUIJAq+gYMsCkgTMdGMa/3HgUgBSTbseRiU6aYgKMA5LlCTgOJYuwXuPvuVrjC9jV16gDXXx/FU2tEoHwJSABKALruOAlAV4LyFwERKEGAwo2Vs0zDshqYPf2Yjo1i8+cDxxxjEcAxY6wXYC7m9R+kAGRa+cADo13liiuAn38G7r4b4FnGgw8G+HcyEYgbAQlACUDXPSkB6EpQ/iIgAiUIsJkz065spNyzJ9CokaVjoxjHr7EVS40aVnzRtm0Ury3XzJplvf9WrbKJHkzrRrEbb7TGz6wiTi0IieKrNSJQngQkACUAXfebBKArQfmLgAiUIOAVYMyZY/33eP6OvfWi2CefAGwkTQHIc3wcB5eLzZ1r1bwUgBSV++0X7SqcAjJ9ujWBphBlGvn006P5apUIlCcBCUAJQNf9JgHoSlD+IiACJQgw8sfU70cfWfsVVtbyPF0U+/xzoEEDSwEzjdyiRRSvLde8+y7Qvr2dAeQ169aNdh0WqzD6RxHYpAkwciTQsWM0X60SgfIkIAEoAei63yQAXQnKXwREoAQBRv7YCJotVFKngkTBRJ899wSqVAEWLAA4mzcXW7QI4Fi3X3+1+6hdO9pVUieX1KwJsJiE5wBlIhA3AhKAEoCue1IC0JWg/EVABEoQYOSP4mv9ekvnsgAkajuXlSutCpe2eDGw7765waUvzx7SeM1dd412HRaMsAk0zwFutx3AlDQjkjIRiBsBCUAJQNc9KQHoSlD+IiACJQisWAEwekYByLN3EyYAbdpEg7R2rc0Bpi1bBuy9dzS/9FX09dK+vGa1atGuw7ODxx9vwo9paM4S5j9lIhA3AhKAEoCue1IC0JWg/EVABEoQ2LTJomdsAN20KcDzeI0bR4PElO3229taFnDssks0v/RV9N1tN/tbXrNy5WjXYeSvZUuAKWSK1w0bgEqVovlqlQiUJwEJQAlA1/0mAehKUP4iIAJbEOCZu/HjrY/f8uXFad0wVJs3A9tsk71wS79uqpCkII0q4r791po/z55tkUDeu0wE4khAAlAC0HVfSgC6EpS/CIjAFgQYReNMX/5hFO0Pf4gOyRNr2Qi39KunCkn+76jGJtBVq1ofwyFD7CygTATiSEACML8FIBsgsH8+e9izho3NCKZH2IjXAfg7AIq7twH0A/B+gJ8EYASgWiICIpAdAU7zaN4cYFPoNWuy8/UEYDbCze8bcr0OexD26gVwKgknishEII4EJADzWwCyAcIRABYAmAPgmAgC8HIAFwI4DsASANcCOAcAT+Cs99nEeS0Ap0yZgs6dO8fxZ7dM70nPXaZ4Y3fxOL7v7t0BplOXLrWzgNlYVOEW9txRr5N+b5waQhHIM4DsCRg3C3vuuN1vad2PnrskSQnA/BaAqW97U8QI4KcAbgfgjV7fFsA3AC4F8FihCcDLLrsMt99OHIVlem69761NoH9/4N57gcMOs6bK2VhU4Ra2z6NeJ/3eGL3kPQ8cCNx0UzZ3Xj5rw567fO6i/L9Fzy0BmL7rCqU+K4oAZDRvNYDDAbyVAmoKgPcA9JcALP9fWlvjG/WLcmtQ33rfGcf3/cADQO/eNguY0zWysajCLey5o14n/d7+9je759Gj7RniZmHPHbf7La370XNLAOaDAHwIQE8APJrsJ2BnAOiQ9qBRBCA7Zn0BoCmAj1L8nwDwIwC/X2WJFPCyZcuws9d8q7R+WmNwncGDB2Po0KExuJPyvQU9d/ny3trfFsf3zSkeRx8NDB9ujZWzsYYNrXlz2NnBsOdm/z42lc42BU3hd8UVwMyZ1hImbhb23HG739K6Hz33lgJwn3324V+yUyX/HV9wVhEjgFUBJDtd+b6vDQDW5iAAc4kA7gXgy4LbNXpgERABERABEcgPAgz+fJUfj5LdU1REAZjdE9rqKBFArvM7A/g1gMsCzgCS354+gjOXe5SPCIiACIiACIhA+RHYCQD/HZ9Fs6Pyu7my/qZ8F4BVkmliVvCyspfp4Y0Afg8Ay3N+rALumhSDVyWrgJsEVAGX9fvR9UVABERABERABESg1AnkswCsB2Cpj7Jnn7/rkyQXAng02S/QgzsEQB8A/C+DeSF9AEv9heiCIiACIiACIiACIlDWBPJZAJY1O11fBERABERABERABCokAQnACvnatupNX5LslXgjgGu26p2U7ZefCOAGAIkyseSRgJsBTCjbr93qV++RjICzGp5nZ9kCiUch3tjqd1b2N5Dr9KCyv7PS/4ZsJh6V/reX/xW7JbM5rEuuBmC75P4u/zsp32/k7yweaWJG7CcArwK4ogCKF/nvJg5x2B3Ab8mpXgMBvFu++OP9bRKA8X4/cbs7noV8IVn08lyeC8A6SfhsBE47EgB7Qh6WFEVxezeldT8XAFicFHy/JM/EUghzsg4PS+ez5TI9qCLyyHbiUUV8xvR75iSoXQGwi8SDBSQA2Yr7qeTvLD77vQCaATgoH15qhmdoBOB7tmkDwEnaFyWFL3+vF2TBhx8rCcA8/ykoxcfbJikK2BiQk1Fey3MBmIqOPyccK/gSgO4Ani5FrhXhUj8AOBfAxIpws6V0HeNgsgAABQNJREFUj1E7B5TS15XrZbKdeFSuN1fGX3Z0ciRooUQA03EyAvpOUgxnOWW6jN9M2V2exaD8D9sRAGoBWFl2X1WxriwBWLHe19a8W6YBGQFkipAj3gtBALI35OfJqAH/hcFn7gTg1635Isr5uxnx5HNzHvZn5fzdW/Pr8lUA5tLvdGu+h9L+7kIXgEz/srV4w9IGG8PrdUm2b2OjZ/483wGA0W9ZkoAEYGFvhahTVfhfjYz+HJgcl1eRBWDUZ07dGZWT52gogm6poCmEXJ6b5x9nAngEwLUV+Ecll2fPVwGYy8SjCvzqt7j1QhaAHQE8A+AUAFPz6aWGPEuN5PQwDm3I9zPcWb1WCcCscOXd4ihTVX5OHqClAHg2SaAiC8Aoz5w+ScZ78ZOSZyBHVsCdkO1z75dMeY8HMKgCPm/qLWf77PTNVwGoCCAwvYDOAHo/B8cDGJsUQjy/XWhGrcOjLDzLzcI2WcAsXYERgVQCrB7jmSGem/D+g4EhdY7c498fUEC4eAbww+SB4nx+bFbDvgjgHgCFNwza3my+CkA+W7YTj/JprxdiBPDs5M/yaQBezqeXmcWzsBCEZx55hKnQznAHYlIEMIsdVKBLuUe8ilgPAavK3ko20P4uT7nwF8VsAEsAMAXMIoi7AZyQFEd5+thoC+B5AGwTcle+PmSG58p2elBFRFSIE49YxMZzvBSAk5ON/jkRii1C8rkqlJOtWMXPCOCsirhZc7xnVv0+kawErgmA1dCnAmB7q3z9d1bWqCQAs0Ymh2QV3et5XgXMiTDsI8VfHmyH8nHyEDHFbz4b02NHJUcfer8f+C9IRgKH5fODJ3ulhU0PyhcEhTbxqCcAngX1xB73Nv93++Q513x5r+nPwUg2szVe4Zr33ByNms+CkP8R2yrZ8/FHAHOTE8BYAS1LEpAA1FYQAREQAREQAREQgQIjIAFYYC9cjysCIiACIiACIiACEoDaAyIgAiIgAiIgAiJQYAQkAAvshetxRUAEREAEREAEREACUHtABERABERABERABAqMgARggb1wPa4IiIAIiIAIiIAISABqD4iACIiACIiACIhAgRGQACywF67HFQEREAEREAEREAEJQO0BERABERABERABESgwAhKABfbC9bgiIAIiIAIiIAIiIAGoPSACIiACIiACIiACBUZAArDAXrgeVwREQAREQAREQAQkALUHREAEREAEREAERKDACEgAFtgL1+OKgAiIgAiIgAiIgASg9oAIiIAIiIAIiIAIFBgBCcACe+F6XBEQAREQAREQARGQANQeEAEREAEREAEREIECIyABWGAvXI8rAiIgAiIgAiIgAhKA2gMiIAIiIAIiIAIiUGAEJAAL7IXrcUVABERABERABERAAlB7QAREQAREQAREQAQKjIAEYIG9cD2uCIiACIiACIiACEgAag+IgAiIgAiIgAiIQIERkAAssBeuxxUBERABERABERABCUDtAREQAREQAREQAREoMAISgAX2wvW4IiACIiACIiACIiABqD0gAiIgAiIgAiIgAgVGQAKwwF64HlcEREAEREAEREAEJAC1B0RABERABERABESgwAhIABbYC9fjioAIiIAIiIAIiIAEoPaACIiACIiACIiACBQYAQnAAnvhelwREAEREAEREAERkADUHhABERABERABERCBAiMgAVhgL1yPKwIiIAIiIAIiIAL/D4JUySkqTmpxAAAAAElFTkSuQmCC\">"
      ],
      "text/plain": [
       "<IPython.core.display.HTML object>"
      ]
     },
     "metadata": {},
     "output_type": "display_data"
    },
    {
     "data": {
      "text/plain": [
       "[<matplotlib.lines.Line2D at 0x7f3e463efcf8>]"
      ]
     },
     "execution_count": 2,
     "metadata": {},
     "output_type": "execute_result"
    }
   ],
   "source": [
    "X = np.linspace(-np.pi, np.pi, 2656)\n",
    "F = np.sin(1/(X**2+0.07))\n",
    "plt.plot(X,F)"
   ]
  },
  {
   "cell_type": "markdown",
   "metadata": {
    "slideshow": {
     "slide_type": "slide"
    }
   },
   "source": [
    "# widgets"
   ]
  },
  {
   "cell_type": "code",
   "execution_count": 3,
   "metadata": {
    "collapsed": false,
    "slideshow": {
     "slide_type": "fragment"
    }
   },
   "outputs": [
    {
     "name": "stdout",
     "output_type": "stream",
     "text": [
      "10\n"
     ]
    }
   ],
   "source": [
    "from ipywidgets import interact\n",
    "def f(x):\n",
    "    print(x)\n",
    "\n",
    "interact(f, x=10);"
   ]
  },
  {
   "cell_type": "code",
   "execution_count": 4,
   "metadata": {
    "collapsed": false,
    "slideshow": {
     "slide_type": "slide"
    }
   },
   "outputs": [],
   "source": [
    "from ipywidgets import widgets\n",
    "w = widgets.IntSlider(min=0,max=10,value=3,step=1,width=10)"
   ]
  },
  {
   "cell_type": "code",
   "execution_count": 5,
   "metadata": {
    "collapsed": true,
    "slideshow": {
     "slide_type": "fragment"
    }
   },
   "outputs": [],
   "source": [
    "w\n"
   ]
  },
  {
   "cell_type": "code",
   "execution_count": 6,
   "metadata": {
    "collapsed": false,
    "slideshow": {
     "slide_type": "fragment"
    }
   },
   "outputs": [],
   "source": [
    "w.value = 5"
   ]
  },
  {
   "cell_type": "code",
   "execution_count": 7,
   "metadata": {
    "collapsed": false,
    "slideshow": {
     "slide_type": "fragment"
    }
   },
   "outputs": [],
   "source": [
    "w.value = 8"
   ]
  },
  {
   "cell_type": "markdown",
   "metadata": {
    "slideshow": {
     "slide_type": "slide"
    }
   },
   "source": [
    "## Notebook magics\n",
    "\n",
    "Komórki zaczynające się od \n",
    "\n",
    " - \"%\" - line magics\n",
    " - \"%%\" - cell magics\n",
    " \n"
   ]
  },
  {
   "cell_type": "markdown",
   "metadata": {
    "slideshow": {
     "slide_type": "slide"
    }
   },
   "source": [
    "## Line magics - przykład"
   ]
  },
  {
   "cell_type": "code",
   "execution_count": 9,
   "metadata": {
    "collapsed": false,
    "slideshow": {
     "slide_type": "fragment"
    }
   },
   "outputs": [
    {
     "name": "stdout",
     "output_type": "stream",
     "text": [
      "The slowest run took 23.66 times longer than the fastest. This could mean that an intermediate result is being cached.\n",
      "10000000 loops, best of 3: 171 ns per loop\n"
     ]
    }
   ],
   "source": [
    "from  math import sin,cos\n",
    "%timeit sin(cos(sin(1.23))) "
   ]
  },
  {
   "cell_type": "code",
   "execution_count": 10,
   "metadata": {
    "collapsed": false,
    "slideshow": {
     "slide_type": "notes"
    }
   },
   "outputs": [
    {
     "name": "stdout",
     "output_type": "stream",
     "text": [
      "10 loops, best of 3: 62.7 ms per loop\n"
     ]
    }
   ],
   "source": [
    "%timeit np.sum(np.sin(np.random.randn(int(1e6))))"
   ]
  },
  {
   "cell_type": "code",
   "execution_count": 11,
   "metadata": {
    "collapsed": false,
    "slideshow": {
     "slide_type": "notes"
    }
   },
   "outputs": [
    {
     "name": "stdout",
     "output_type": "stream",
     "text": [
      "10 loops, best of 3: 62.9 ms per loop\n"
     ]
    }
   ],
   "source": [
    "%timeit np.sum(np.sin(np.random.randn(int(1e6))))"
   ]
  },
  {
   "cell_type": "code",
   "execution_count": 12,
   "metadata": {
    "collapsed": false,
    "slideshow": {
     "slide_type": "notes"
    }
   },
   "outputs": [
    {
     "name": "stdout",
     "output_type": "stream",
     "text": [
      "10 loops, best of 3: 62.7 ms per loop\n"
     ]
    }
   ],
   "source": [
    "%timeit np.sum(np.sin(np.random.randn(int(1e6))))"
   ]
  },
  {
   "cell_type": "code",
   "execution_count": 13,
   "metadata": {
    "collapsed": false,
    "slideshow": {
     "slide_type": "fragment"
    }
   },
   "outputs": [
    {
     "name": "stdout",
     "output_type": "stream",
     "text": [
      "/home/users/marcin.kostur/Jupyter_SMCEBI\n",
      "Plik: Anim_gizeh_4fractallab.ipynb\n",
      "Plik: Examples_pythreejs.ipynb\n",
      "Plik: FAQ.ipynb\n",
      "Plik: Images_in_jupyter.ipynb\n",
      "Plik: Jupyter_intro.ipynb\n",
      "Plik: Untitled.ipynb\n",
      "Plik: Untitled1.ipynb\n",
      "Plik: blueradsquares.gif\n",
      "Plik: circle.gif\n",
      "Plik: demo_tests_etc.ipynb\n",
      "Plik: movie.mp4\n",
      "Plik: mpl_example.ipynb\n",
      "Plik: program.py\n",
      "Plik: rk_test.ipynb\n",
      "Plik: vpython.ipynb\n",
      "Plik: yingyang.gif\n"
     ]
    }
   ],
   "source": [
    "%%sh\n",
    "pwd\n",
    "for i in `ls`\n",
    "do\n",
    " echo Plik: $i\n",
    "done"
   ]
  },
  {
   "cell_type": "markdown",
   "metadata": {
    "collapsed": true,
    "slideshow": {
     "slide_type": "slide"
    }
   },
   "source": [
    "# Chromebook - terminal, edytor\n",
    "\n",
    "## Terminal:\n",
    " - w jupyter notebook jest konsola\n",
    "   - działa, ale ma pewne wady (np. emacs ;-)\n",
    "   \n",
    " - Natywna aplikacja MOSH w chrome OS \n",
    "   - bardzo odporny na utratę połączenia terminal tekstowy\n",
    "   - działa dobrze z emacs-em \n",
    "   \n",
    " - dostęp przez noVNC - soon!\n",
    " \n",
    "\n",
    " "
   ]
  },
  {
   "cell_type": "markdown",
   "metadata": {
    "slideshow": {
     "slide_type": "subslide"
    }
   },
   "source": [
    "# Chromebook - terminal, edytor\n",
    "\n",
    "## Edytor\n",
    " \n",
    "  - wbudowany (bardzo prosty)\n",
    "  - można użyć np. vim/emacs z konsoli tekstowej\n",
    "  - z konsoli można używać debuggera: **`pudb`**\n",
    "          $ python -m pudb.run program.py\n",
    " "
   ]
  },
  {
   "cell_type": "markdown",
   "metadata": {
    "slideshow": {
     "slide_type": "slide"
    }
   },
   "source": [
    "Pytania?"
   ]
  },
  {
   "cell_type": "markdown",
   "metadata": {},
   "source": [
    "# FAQ"
   ]
  },
  {
   "cell_type": "markdown",
   "metadata": {
    "slideshow": {
     "slide_type": "slide"
    }
   },
   "source": [
    "## Sage *vs* Python"
   ]
  },
  {
   "cell_type": "code",
   "execution_count": 14,
   "metadata": {
    "collapsed": false
   },
   "outputs": [
    {
     "data": {
      "text/plain": [
       "int"
      ]
     },
     "execution_count": 14,
     "metadata": {},
     "output_type": "execute_result"
    }
   ],
   "source": [
    "type(1)"
   ]
  },
  {
   "cell_type": "code",
   "execution_count": null,
   "metadata": {
    "collapsed": false
   },
   "outputs": [],
   "source": [
    "preparse(\"1/3+1/2\")"
   ]
  },
  {
   "cell_type": "code",
   "execution_count": null,
   "metadata": {
    "collapsed": false
   },
   "outputs": [],
   "source": [
    "1/3+1/2"
   ]
  },
  {
   "cell_type": "code",
   "execution_count": null,
   "metadata": {
    "collapsed": false
   },
   "outputs": [],
   "source": [
    "type(1/3+1/2)"
   ]
  },
  {
   "cell_type": "markdown",
   "metadata": {},
   "source": [
    "## Widget callback przykład"
   ]
  },
  {
   "cell_type": "code",
   "execution_count": 8,
   "metadata": {
    "collapsed": true
   },
   "outputs": [],
   "source": [
    "from ipywidgets import widgets"
   ]
  },
  {
   "cell_type": "code",
   "execution_count": 9,
   "metadata": {
    "collapsed": true
   },
   "outputs": [],
   "source": [
    "w = widgets.Text()"
   ]
  },
  {
   "cell_type": "code",
   "execution_count": 10,
   "metadata": {
    "collapsed": false
   },
   "outputs": [
    {
     "name": "stdout",
     "output_type": "stream",
     "text": [
      "OK dadsjj\n"
     ]
    }
   ],
   "source": [
    "w"
   ]
  },
  {
   "cell_type": "code",
   "execution_count": 11,
   "metadata": {
    "collapsed": true
   },
   "outputs": [],
   "source": [
    "def mojcallback(w):\n",
    "    \n",
    "    print(\"OK\",w.value)\n",
    "    \n",
    "w.on_submit(mojcallback)"
   ]
  },
  {
   "cell_type": "code",
   "execution_count": 12,
   "metadata": {
    "collapsed": true
   },
   "outputs": [],
   "source": [
    "w.value = \"dads\""
   ]
  },
  {
   "cell_type": "code",
   "execution_count": null,
   "metadata": {
    "collapsed": true
   },
   "outputs": [],
   "source": []
  },
  {
   "cell_type": "code",
   "execution_count": null,
   "metadata": {
    "collapsed": true
   },
   "outputs": [],
   "source": []
  }
 ],
 "metadata": {
  "celltoolbar": "Slideshow",
  "kernelspec": {
   "display_name": "Python 3",
   "language": "python",
   "name": "python3"
  },
  "language_info": {
   "codemirror_mode": {
    "name": "ipython",
    "version": 3
   },
   "file_extension": ".py",
   "mimetype": "text/x-python",
   "name": "python",
   "nbconvert_exporter": "python",
   "pygments_lexer": "ipython3",
   "version": "3.5.2"
  },
  "widgets": {
   "state": {
    "3428fd50d4d340e4ab9ec6ed9eaaa962": {
     "views": [
      {
       "cell_index": 39
      }
     ]
    },
    "8aa2552412fc46e4beade9278952f7a5": {
     "views": [
      {
       "cell_index": 17
      }
     ]
    },
    "a3062de06a2d40cd9bff0cdd50658a99": {
     "views": [
      {
       "cell_index": 15
      }
     ]
    }
   },
   "version": "1.2.0"
  }
 },
 "nbformat": 4,
 "nbformat_minor": 1
}
