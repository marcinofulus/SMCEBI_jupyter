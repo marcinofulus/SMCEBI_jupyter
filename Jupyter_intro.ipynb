{
 "cells": [
  {
   "cell_type": "markdown",
   "metadata": {
    "slideshow": {
     "slide_type": "slide"
    }
   },
   "source": [
    "# Jupyter & chromebook w SMCEBI\n",
    "\n",
    "Marcin Kostur\n",
    "\n",
    "26.09.2016"
   ]
  },
  {
   "cell_type": "markdown",
   "metadata": {
    "slideshow": {
     "slide_type": "slide"
    }
   },
   "source": [
    "# Chromebook\n"
   ]
  },
  {
   "cell_type": "markdown",
   "metadata": {
    "slideshow": {
     "slide_type": "fragment"
    }
   },
   "source": [
    "\n",
    "<img src=\"https://dlcdnimgs.asus.com/websites/global/products/PqZCCn3d2x2jlYv4/img/multi-finger/fg00_01.png\" width=50% align='right'>\n"
   ]
  },
  {
   "cell_type": "markdown",
   "metadata": {
    "slideshow": {
     "slide_type": "slide"
    }
   },
   "source": [
    "# Jupyter\n",
    "Środowisko typu \"notatnik\"\n",
    "<img src=\"http://jupyter.org/assets/main-logo.svg\" width=\"30%\" align=\"right\">\n",
    "\n"
   ]
  },
  {
   "cell_type": "markdown",
   "metadata": {
    "slideshow": {
     "slide_type": "slide"
    }
   },
   "source": [
    "# Jupyterhub \n",
    "<img src=\"http://jupyter.org/assets/hublogo.svg\" width=\"50%\" align=\"right\">\n"
   ]
  },
  {
   "cell_type": "markdown",
   "metadata": {
    "slideshow": {
     "slide_type": "subslide"
    }
   },
   "source": [
    "# Jupyterhub \n",
    "\n",
    "<img src=\"http://jupyter.org/assets/hublogo.svg\" width=220px align='right'>\n",
    "<img src=\"https://jupyterhub.readthedocs.io/en/latest/_images/jhub-parts.png\" width=450px align='left'>"
   ]
  },
  {
   "cell_type": "markdown",
   "metadata": {
    "slideshow": {
     "slide_type": "slide"
    }
   },
   "source": [
    "<img src=\"http://jupyter.org/assets/hublogo.svg\" width=120px align='right'>\n",
    "**SMCEBI:** http://alfa.smcebi.us.edu.pl\n",
    "   - logowanie w LDAP\n",
    "   - NFS - quota, ale backup \n",
    "   - *prace trwają* "
   ]
  },
  {
   "cell_type": "markdown",
   "metadata": {
    "slideshow": {
     "slide_type": "slide"
    }
   },
   "source": [
    "# Systemy autoryzacji w SMCEBI:\n",
    "\n",
    "- Google Apps for Education **smcebi.edu.pl**\n",
    "- *Karoshi linux*\n",
    "  - autoryzacja w windows & linux \n",
    "  - zostanie wycofany w przyszłości\n",
    "- LDAP - jupyterhub, servery ssh, *może i pracownie*\n",
    "\n",
    "## Konta\n",
    "\n",
    " - Studenci:\n",
    "   otrzymują automatycznie konta na wszystkich powyższych systemach.    \n",
    "   \n",
    " - Pracownicy:\n",
    "   Muszą indywidualnie poprosić o  konto **administratora**\n",
    "   \n"
   ]
  },
  {
   "cell_type": "markdown",
   "metadata": {
    "collapsed": false,
    "slideshow": {
     "slide_type": "slide"
    }
   },
   "source": [
    "# Informacje:\n",
    "\n",
    "\n",
    "- ### Admin: Mirosław Ziółkowski\n",
    "- ### strona www: **http://www.smcebi.us.edu.pl/infrastruktura-it/**\n",
    "            \n",
    "                                smcebi.edu.pl\n",
    "\n",
    "- **zmiana hasła**\n"
   ]
  },
  {
   "cell_type": "markdown",
   "metadata": {
    "slideshow": {
     "slide_type": "slide"
    }
   },
   "source": [
    "#  Jupyter notebook\n",
    "\n",
    " - komórki tekstowe (markdown cells) - [przykład](https://nbviewer.jupyter.org/github/ipython/ipython/blob/3.x/examples/IPython%20Kernel/Rich%20Output.ipynb)\n",
    " - komórki z kodem (code cells)\n",
    " - *kernel* obsługuje komórki z kodem\n",
    " - lista kerneli jest długa...."
   ]
  },
  {
   "cell_type": "markdown",
   "metadata": {
    "slideshow": {
     "slide_type": "slide"
    }
   },
   "source": [
    "## system $\\LaTeX$:\n",
    "\n",
    "\\begin{align}\n",
    "\\dot{x} & = \\sigma(y-x) \\\\\n",
    "\\dot{y} & = \\rho x - y - xz \\\\\n",
    "\\dot{z} & = -\\beta z + xy\n",
    "\\end{align}\n",
    "\n"
   ]
  },
  {
   "cell_type": "code",
   "execution_count": 1,
   "metadata": {
    "collapsed": false,
    "slideshow": {
     "slide_type": "slide"
    }
   },
   "outputs": [
    {
     "name": "stdout",
     "output_type": "stream",
     "text": [
      "0\n",
      "1\n",
      "2\n",
      "3\n",
      "4\n",
      "5\n",
      "6\n",
      "7\n",
      "8\n",
      "9\n"
     ]
    }
   ],
   "source": [
    "for i in range(10):\n",
    "    print i"
   ]
  },
  {
   "cell_type": "code",
   "execution_count": 1,
   "metadata": {
    "collapsed": true,
    "slideshow": {
     "slide_type": "slide"
    }
   },
   "outputs": [],
   "source": [
    "%matplotlib notebook\n",
    "import matplotlib.pyplot as plt\n",
    "import numpy as np"
   ]
  },
  {
   "cell_type": "code",
   "execution_count": 2,
   "metadata": {
    "collapsed": false,
    "slideshow": {
     "slide_type": "subslide"
    }
   },
   "outputs": [
    {
     "data": {
      "application/javascript": [
       "/* Put everything inside the global mpl namespace */\n",
       "window.mpl = {};\n",
       "\n",
       "mpl.get_websocket_type = function() {\n",
       "    if (typeof(WebSocket) !== 'undefined') {\n",
       "        return WebSocket;\n",
       "    } else if (typeof(MozWebSocket) !== 'undefined') {\n",
       "        return MozWebSocket;\n",
       "    } else {\n",
       "        alert('Your browser does not have WebSocket support.' +\n",
       "              'Please try Chrome, Safari or Firefox ≥ 6. ' +\n",
       "              'Firefox 4 and 5 are also supported but you ' +\n",
       "              'have to enable WebSockets in about:config.');\n",
       "    };\n",
       "}\n",
       "\n",
       "mpl.figure = function(figure_id, websocket, ondownload, parent_element) {\n",
       "    this.id = figure_id;\n",
       "\n",
       "    this.ws = websocket;\n",
       "\n",
       "    this.supports_binary = (this.ws.binaryType != undefined);\n",
       "\n",
       "    if (!this.supports_binary) {\n",
       "        var warnings = document.getElementById(\"mpl-warnings\");\n",
       "        if (warnings) {\n",
       "            warnings.style.display = 'block';\n",
       "            warnings.textContent = (\n",
       "                \"This browser does not support binary websocket messages. \" +\n",
       "                    \"Performance may be slow.\");\n",
       "        }\n",
       "    }\n",
       "\n",
       "    this.imageObj = new Image();\n",
       "\n",
       "    this.context = undefined;\n",
       "    this.message = undefined;\n",
       "    this.canvas = undefined;\n",
       "    this.rubberband_canvas = undefined;\n",
       "    this.rubberband_context = undefined;\n",
       "    this.format_dropdown = undefined;\n",
       "\n",
       "    this.image_mode = 'full';\n",
       "\n",
       "    this.root = $('<div/>');\n",
       "    this._root_extra_style(this.root)\n",
       "    this.root.attr('style', 'display: inline-block');\n",
       "\n",
       "    $(parent_element).append(this.root);\n",
       "\n",
       "    this._init_header(this);\n",
       "    this._init_canvas(this);\n",
       "    this._init_toolbar(this);\n",
       "\n",
       "    var fig = this;\n",
       "\n",
       "    this.waiting = false;\n",
       "\n",
       "    this.ws.onopen =  function () {\n",
       "            fig.send_message(\"supports_binary\", {value: fig.supports_binary});\n",
       "            fig.send_message(\"send_image_mode\", {});\n",
       "            fig.send_message(\"refresh\", {});\n",
       "        }\n",
       "\n",
       "    this.imageObj.onload = function() {\n",
       "            if (fig.image_mode == 'full') {\n",
       "                // Full images could contain transparency (where diff images\n",
       "                // almost always do), so we need to clear the canvas so that\n",
       "                // there is no ghosting.\n",
       "                fig.context.clearRect(0, 0, fig.canvas.width, fig.canvas.height);\n",
       "            }\n",
       "            fig.context.drawImage(fig.imageObj, 0, 0);\n",
       "        };\n",
       "\n",
       "    this.imageObj.onunload = function() {\n",
       "        this.ws.close();\n",
       "    }\n",
       "\n",
       "    this.ws.onmessage = this._make_on_message_function(this);\n",
       "\n",
       "    this.ondownload = ondownload;\n",
       "}\n",
       "\n",
       "mpl.figure.prototype._init_header = function() {\n",
       "    var titlebar = $(\n",
       "        '<div class=\"ui-dialog-titlebar ui-widget-header ui-corner-all ' +\n",
       "        'ui-helper-clearfix\"/>');\n",
       "    var titletext = $(\n",
       "        '<div class=\"ui-dialog-title\" style=\"width: 100%; ' +\n",
       "        'text-align: center; padding: 3px;\"/>');\n",
       "    titlebar.append(titletext)\n",
       "    this.root.append(titlebar);\n",
       "    this.header = titletext[0];\n",
       "}\n",
       "\n",
       "\n",
       "\n",
       "mpl.figure.prototype._canvas_extra_style = function(canvas_div) {\n",
       "\n",
       "}\n",
       "\n",
       "\n",
       "mpl.figure.prototype._root_extra_style = function(canvas_div) {\n",
       "\n",
       "}\n",
       "\n",
       "mpl.figure.prototype._init_canvas = function() {\n",
       "    var fig = this;\n",
       "\n",
       "    var canvas_div = $('<div/>');\n",
       "\n",
       "    canvas_div.attr('style', 'position: relative; clear: both; outline: 0');\n",
       "\n",
       "    function canvas_keyboard_event(event) {\n",
       "        return fig.key_event(event, event['data']);\n",
       "    }\n",
       "\n",
       "    canvas_div.keydown('key_press', canvas_keyboard_event);\n",
       "    canvas_div.keyup('key_release', canvas_keyboard_event);\n",
       "    this.canvas_div = canvas_div\n",
       "    this._canvas_extra_style(canvas_div)\n",
       "    this.root.append(canvas_div);\n",
       "\n",
       "    var canvas = $('<canvas/>');\n",
       "    canvas.addClass('mpl-canvas');\n",
       "    canvas.attr('style', \"left: 0; top: 0; z-index: 0; outline: 0\")\n",
       "\n",
       "    this.canvas = canvas[0];\n",
       "    this.context = canvas[0].getContext(\"2d\");\n",
       "\n",
       "    var rubberband = $('<canvas/>');\n",
       "    rubberband.attr('style', \"position: absolute; left: 0; top: 0; z-index: 1;\")\n",
       "\n",
       "    var pass_mouse_events = true;\n",
       "\n",
       "    canvas_div.resizable({\n",
       "        start: function(event, ui) {\n",
       "            pass_mouse_events = false;\n",
       "        },\n",
       "        resize: function(event, ui) {\n",
       "            fig.request_resize(ui.size.width, ui.size.height);\n",
       "        },\n",
       "        stop: function(event, ui) {\n",
       "            pass_mouse_events = true;\n",
       "            fig.request_resize(ui.size.width, ui.size.height);\n",
       "        },\n",
       "    });\n",
       "\n",
       "    function mouse_event_fn(event) {\n",
       "        if (pass_mouse_events)\n",
       "            return fig.mouse_event(event, event['data']);\n",
       "    }\n",
       "\n",
       "    rubberband.mousedown('button_press', mouse_event_fn);\n",
       "    rubberband.mouseup('button_release', mouse_event_fn);\n",
       "    // Throttle sequential mouse events to 1 every 20ms.\n",
       "    rubberband.mousemove('motion_notify', mouse_event_fn);\n",
       "\n",
       "    rubberband.mouseenter('figure_enter', mouse_event_fn);\n",
       "    rubberband.mouseleave('figure_leave', mouse_event_fn);\n",
       "\n",
       "    canvas_div.on(\"wheel\", function (event) {\n",
       "        event = event.originalEvent;\n",
       "        event['data'] = 'scroll'\n",
       "        if (event.deltaY < 0) {\n",
       "            event.step = 1;\n",
       "        } else {\n",
       "            event.step = -1;\n",
       "        }\n",
       "        mouse_event_fn(event);\n",
       "    });\n",
       "\n",
       "    canvas_div.append(canvas);\n",
       "    canvas_div.append(rubberband);\n",
       "\n",
       "    this.rubberband = rubberband;\n",
       "    this.rubberband_canvas = rubberband[0];\n",
       "    this.rubberband_context = rubberband[0].getContext(\"2d\");\n",
       "    this.rubberband_context.strokeStyle = \"#000000\";\n",
       "\n",
       "    this._resize_canvas = function(width, height) {\n",
       "        // Keep the size of the canvas, canvas container, and rubber band\n",
       "        // canvas in synch.\n",
       "        canvas_div.css('width', width)\n",
       "        canvas_div.css('height', height)\n",
       "\n",
       "        canvas.attr('width', width);\n",
       "        canvas.attr('height', height);\n",
       "\n",
       "        rubberband.attr('width', width);\n",
       "        rubberband.attr('height', height);\n",
       "    }\n",
       "\n",
       "    // Set the figure to an initial 600x600px, this will subsequently be updated\n",
       "    // upon first draw.\n",
       "    this._resize_canvas(600, 600);\n",
       "\n",
       "    // Disable right mouse context menu.\n",
       "    $(this.rubberband_canvas).bind(\"contextmenu\",function(e){\n",
       "        return false;\n",
       "    });\n",
       "\n",
       "    function set_focus () {\n",
       "        canvas.focus();\n",
       "        canvas_div.focus();\n",
       "    }\n",
       "\n",
       "    window.setTimeout(set_focus, 100);\n",
       "}\n",
       "\n",
       "mpl.figure.prototype._init_toolbar = function() {\n",
       "    var fig = this;\n",
       "\n",
       "    var nav_element = $('<div/>')\n",
       "    nav_element.attr('style', 'width: 100%');\n",
       "    this.root.append(nav_element);\n",
       "\n",
       "    // Define a callback function for later on.\n",
       "    function toolbar_event(event) {\n",
       "        return fig.toolbar_button_onclick(event['data']);\n",
       "    }\n",
       "    function toolbar_mouse_event(event) {\n",
       "        return fig.toolbar_button_onmouseover(event['data']);\n",
       "    }\n",
       "\n",
       "    for(var toolbar_ind in mpl.toolbar_items) {\n",
       "        var name = mpl.toolbar_items[toolbar_ind][0];\n",
       "        var tooltip = mpl.toolbar_items[toolbar_ind][1];\n",
       "        var image = mpl.toolbar_items[toolbar_ind][2];\n",
       "        var method_name = mpl.toolbar_items[toolbar_ind][3];\n",
       "\n",
       "        if (!name) {\n",
       "            // put a spacer in here.\n",
       "            continue;\n",
       "        }\n",
       "        var button = $('<button/>');\n",
       "        button.addClass('ui-button ui-widget ui-state-default ui-corner-all ' +\n",
       "                        'ui-button-icon-only');\n",
       "        button.attr('role', 'button');\n",
       "        button.attr('aria-disabled', 'false');\n",
       "        button.click(method_name, toolbar_event);\n",
       "        button.mouseover(tooltip, toolbar_mouse_event);\n",
       "\n",
       "        var icon_img = $('<span/>');\n",
       "        icon_img.addClass('ui-button-icon-primary ui-icon');\n",
       "        icon_img.addClass(image);\n",
       "        icon_img.addClass('ui-corner-all');\n",
       "\n",
       "        var tooltip_span = $('<span/>');\n",
       "        tooltip_span.addClass('ui-button-text');\n",
       "        tooltip_span.html(tooltip);\n",
       "\n",
       "        button.append(icon_img);\n",
       "        button.append(tooltip_span);\n",
       "\n",
       "        nav_element.append(button);\n",
       "    }\n",
       "\n",
       "    var fmt_picker_span = $('<span/>');\n",
       "\n",
       "    var fmt_picker = $('<select/>');\n",
       "    fmt_picker.addClass('mpl-toolbar-option ui-widget ui-widget-content');\n",
       "    fmt_picker_span.append(fmt_picker);\n",
       "    nav_element.append(fmt_picker_span);\n",
       "    this.format_dropdown = fmt_picker[0];\n",
       "\n",
       "    for (var ind in mpl.extensions) {\n",
       "        var fmt = mpl.extensions[ind];\n",
       "        var option = $(\n",
       "            '<option/>', {selected: fmt === mpl.default_extension}).html(fmt);\n",
       "        fmt_picker.append(option)\n",
       "    }\n",
       "\n",
       "    // Add hover states to the ui-buttons\n",
       "    $( \".ui-button\" ).hover(\n",
       "        function() { $(this).addClass(\"ui-state-hover\");},\n",
       "        function() { $(this).removeClass(\"ui-state-hover\");}\n",
       "    );\n",
       "\n",
       "    var status_bar = $('<span class=\"mpl-message\"/>');\n",
       "    nav_element.append(status_bar);\n",
       "    this.message = status_bar[0];\n",
       "}\n",
       "\n",
       "mpl.figure.prototype.request_resize = function(x_pixels, y_pixels) {\n",
       "    // Request matplotlib to resize the figure. Matplotlib will then trigger a resize in the client,\n",
       "    // which will in turn request a refresh of the image.\n",
       "    this.send_message('resize', {'width': x_pixels, 'height': y_pixels});\n",
       "}\n",
       "\n",
       "mpl.figure.prototype.send_message = function(type, properties) {\n",
       "    properties['type'] = type;\n",
       "    properties['figure_id'] = this.id;\n",
       "    this.ws.send(JSON.stringify(properties));\n",
       "}\n",
       "\n",
       "mpl.figure.prototype.send_draw_message = function() {\n",
       "    if (!this.waiting) {\n",
       "        this.waiting = true;\n",
       "        this.ws.send(JSON.stringify({type: \"draw\", figure_id: this.id}));\n",
       "    }\n",
       "}\n",
       "\n",
       "\n",
       "mpl.figure.prototype.handle_save = function(fig, msg) {\n",
       "    var format_dropdown = fig.format_dropdown;\n",
       "    var format = format_dropdown.options[format_dropdown.selectedIndex].value;\n",
       "    fig.ondownload(fig, format);\n",
       "}\n",
       "\n",
       "\n",
       "mpl.figure.prototype.handle_resize = function(fig, msg) {\n",
       "    var size = msg['size'];\n",
       "    if (size[0] != fig.canvas.width || size[1] != fig.canvas.height) {\n",
       "        fig._resize_canvas(size[0], size[1]);\n",
       "        fig.send_message(\"refresh\", {});\n",
       "    };\n",
       "}\n",
       "\n",
       "mpl.figure.prototype.handle_rubberband = function(fig, msg) {\n",
       "    var x0 = msg['x0'];\n",
       "    var y0 = fig.canvas.height - msg['y0'];\n",
       "    var x1 = msg['x1'];\n",
       "    var y1 = fig.canvas.height - msg['y1'];\n",
       "    x0 = Math.floor(x0) + 0.5;\n",
       "    y0 = Math.floor(y0) + 0.5;\n",
       "    x1 = Math.floor(x1) + 0.5;\n",
       "    y1 = Math.floor(y1) + 0.5;\n",
       "    var min_x = Math.min(x0, x1);\n",
       "    var min_y = Math.min(y0, y1);\n",
       "    var width = Math.abs(x1 - x0);\n",
       "    var height = Math.abs(y1 - y0);\n",
       "\n",
       "    fig.rubberband_context.clearRect(\n",
       "        0, 0, fig.canvas.width, fig.canvas.height);\n",
       "\n",
       "    fig.rubberband_context.strokeRect(min_x, min_y, width, height);\n",
       "}\n",
       "\n",
       "mpl.figure.prototype.handle_figure_label = function(fig, msg) {\n",
       "    // Updates the figure title.\n",
       "    fig.header.textContent = msg['label'];\n",
       "}\n",
       "\n",
       "mpl.figure.prototype.handle_cursor = function(fig, msg) {\n",
       "    var cursor = msg['cursor'];\n",
       "    switch(cursor)\n",
       "    {\n",
       "    case 0:\n",
       "        cursor = 'pointer';\n",
       "        break;\n",
       "    case 1:\n",
       "        cursor = 'default';\n",
       "        break;\n",
       "    case 2:\n",
       "        cursor = 'crosshair';\n",
       "        break;\n",
       "    case 3:\n",
       "        cursor = 'move';\n",
       "        break;\n",
       "    }\n",
       "    fig.rubberband_canvas.style.cursor = cursor;\n",
       "}\n",
       "\n",
       "mpl.figure.prototype.handle_message = function(fig, msg) {\n",
       "    fig.message.textContent = msg['message'];\n",
       "}\n",
       "\n",
       "mpl.figure.prototype.handle_draw = function(fig, msg) {\n",
       "    // Request the server to send over a new figure.\n",
       "    fig.send_draw_message();\n",
       "}\n",
       "\n",
       "mpl.figure.prototype.handle_image_mode = function(fig, msg) {\n",
       "    fig.image_mode = msg['mode'];\n",
       "}\n",
       "\n",
       "mpl.figure.prototype.updated_canvas_event = function() {\n",
       "    // Called whenever the canvas gets updated.\n",
       "    this.send_message(\"ack\", {});\n",
       "}\n",
       "\n",
       "// A function to construct a web socket function for onmessage handling.\n",
       "// Called in the figure constructor.\n",
       "mpl.figure.prototype._make_on_message_function = function(fig) {\n",
       "    return function socket_on_message(evt) {\n",
       "        if (evt.data instanceof Blob) {\n",
       "            /* FIXME: We get \"Resource interpreted as Image but\n",
       "             * transferred with MIME type text/plain:\" errors on\n",
       "             * Chrome.  But how to set the MIME type?  It doesn't seem\n",
       "             * to be part of the websocket stream */\n",
       "            evt.data.type = \"image/png\";\n",
       "\n",
       "            /* Free the memory for the previous frames */\n",
       "            if (fig.imageObj.src) {\n",
       "                (window.URL || window.webkitURL).revokeObjectURL(\n",
       "                    fig.imageObj.src);\n",
       "            }\n",
       "\n",
       "            fig.imageObj.src = (window.URL || window.webkitURL).createObjectURL(\n",
       "                evt.data);\n",
       "            fig.updated_canvas_event();\n",
       "            fig.waiting = false;\n",
       "            return;\n",
       "        }\n",
       "        else if (typeof evt.data === 'string' && evt.data.slice(0, 21) == \"data:image/png;base64\") {\n",
       "            fig.imageObj.src = evt.data;\n",
       "            fig.updated_canvas_event();\n",
       "            fig.waiting = false;\n",
       "            return;\n",
       "        }\n",
       "\n",
       "        var msg = JSON.parse(evt.data);\n",
       "        var msg_type = msg['type'];\n",
       "\n",
       "        // Call the  \"handle_{type}\" callback, which takes\n",
       "        // the figure and JSON message as its only arguments.\n",
       "        try {\n",
       "            var callback = fig[\"handle_\" + msg_type];\n",
       "        } catch (e) {\n",
       "            console.log(\"No handler for the '\" + msg_type + \"' message type: \", msg);\n",
       "            return;\n",
       "        }\n",
       "\n",
       "        if (callback) {\n",
       "            try {\n",
       "                // console.log(\"Handling '\" + msg_type + \"' message: \", msg);\n",
       "                callback(fig, msg);\n",
       "            } catch (e) {\n",
       "                console.log(\"Exception inside the 'handler_\" + msg_type + \"' callback:\", e, e.stack, msg);\n",
       "            }\n",
       "        }\n",
       "    };\n",
       "}\n",
       "\n",
       "// from http://stackoverflow.com/questions/1114465/getting-mouse-location-in-canvas\n",
       "mpl.findpos = function(e) {\n",
       "    //this section is from http://www.quirksmode.org/js/events_properties.html\n",
       "    var targ;\n",
       "    if (!e)\n",
       "        e = window.event;\n",
       "    if (e.target)\n",
       "        targ = e.target;\n",
       "    else if (e.srcElement)\n",
       "        targ = e.srcElement;\n",
       "    if (targ.nodeType == 3) // defeat Safari bug\n",
       "        targ = targ.parentNode;\n",
       "\n",
       "    // jQuery normalizes the pageX and pageY\n",
       "    // pageX,Y are the mouse positions relative to the document\n",
       "    // offset() returns the position of the element relative to the document\n",
       "    var x = e.pageX - $(targ).offset().left;\n",
       "    var y = e.pageY - $(targ).offset().top;\n",
       "\n",
       "    return {\"x\": x, \"y\": y};\n",
       "};\n",
       "\n",
       "/*\n",
       " * return a copy of an object with only non-object keys\n",
       " * we need this to avoid circular references\n",
       " * http://stackoverflow.com/a/24161582/3208463\n",
       " */\n",
       "function simpleKeys (original) {\n",
       "  return Object.keys(original).reduce(function (obj, key) {\n",
       "    if (typeof original[key] !== 'object')\n",
       "        obj[key] = original[key]\n",
       "    return obj;\n",
       "  }, {});\n",
       "}\n",
       "\n",
       "mpl.figure.prototype.mouse_event = function(event, name) {\n",
       "    var canvas_pos = mpl.findpos(event)\n",
       "\n",
       "    if (name === 'button_press')\n",
       "    {\n",
       "        this.canvas.focus();\n",
       "        this.canvas_div.focus();\n",
       "    }\n",
       "\n",
       "    var x = canvas_pos.x;\n",
       "    var y = canvas_pos.y;\n",
       "\n",
       "    this.send_message(name, {x: x, y: y, button: event.button,\n",
       "                             step: event.step,\n",
       "                             guiEvent: simpleKeys(event)});\n",
       "\n",
       "    /* This prevents the web browser from automatically changing to\n",
       "     * the text insertion cursor when the button is pressed.  We want\n",
       "     * to control all of the cursor setting manually through the\n",
       "     * 'cursor' event from matplotlib */\n",
       "    event.preventDefault();\n",
       "    return false;\n",
       "}\n",
       "\n",
       "mpl.figure.prototype._key_event_extra = function(event, name) {\n",
       "    // Handle any extra behaviour associated with a key event\n",
       "}\n",
       "\n",
       "mpl.figure.prototype.key_event = function(event, name) {\n",
       "\n",
       "    // Prevent repeat events\n",
       "    if (name == 'key_press')\n",
       "    {\n",
       "        if (event.which === this._key)\n",
       "            return;\n",
       "        else\n",
       "            this._key = event.which;\n",
       "    }\n",
       "    if (name == 'key_release')\n",
       "        this._key = null;\n",
       "\n",
       "    var value = '';\n",
       "    if (event.ctrlKey && event.which != 17)\n",
       "        value += \"ctrl+\";\n",
       "    if (event.altKey && event.which != 18)\n",
       "        value += \"alt+\";\n",
       "    if (event.shiftKey && event.which != 16)\n",
       "        value += \"shift+\";\n",
       "\n",
       "    value += 'k';\n",
       "    value += event.which.toString();\n",
       "\n",
       "    this._key_event_extra(event, name);\n",
       "\n",
       "    this.send_message(name, {key: value,\n",
       "                             guiEvent: simpleKeys(event)});\n",
       "    return false;\n",
       "}\n",
       "\n",
       "mpl.figure.prototype.toolbar_button_onclick = function(name) {\n",
       "    if (name == 'download') {\n",
       "        this.handle_save(this, null);\n",
       "    } else {\n",
       "        this.send_message(\"toolbar_button\", {name: name});\n",
       "    }\n",
       "};\n",
       "\n",
       "mpl.figure.prototype.toolbar_button_onmouseover = function(tooltip) {\n",
       "    this.message.textContent = tooltip;\n",
       "};\n",
       "mpl.toolbar_items = [[\"Home\", \"Reset original view\", \"fa fa-home icon-home\", \"home\"], [\"Back\", \"Back to  previous view\", \"fa fa-arrow-left icon-arrow-left\", \"back\"], [\"Forward\", \"Forward to next view\", \"fa fa-arrow-right icon-arrow-right\", \"forward\"], [\"\", \"\", \"\", \"\"], [\"Pan\", \"Pan axes with left mouse, zoom with right\", \"fa fa-arrows icon-move\", \"pan\"], [\"Zoom\", \"Zoom to rectangle\", \"fa fa-square-o icon-check-empty\", \"zoom\"], [\"\", \"\", \"\", \"\"], [\"Download\", \"Download plot\", \"fa fa-floppy-o icon-save\", \"download\"]];\n",
       "\n",
       "mpl.extensions = [\"eps\", \"jpeg\", \"pdf\", \"png\", \"ps\", \"raw\", \"svg\", \"tif\"];\n",
       "\n",
       "mpl.default_extension = \"png\";var comm_websocket_adapter = function(comm) {\n",
       "    // Create a \"websocket\"-like object which calls the given IPython comm\n",
       "    // object with the appropriate methods. Currently this is a non binary\n",
       "    // socket, so there is still some room for performance tuning.\n",
       "    var ws = {};\n",
       "\n",
       "    ws.close = function() {\n",
       "        comm.close()\n",
       "    };\n",
       "    ws.send = function(m) {\n",
       "        //console.log('sending', m);\n",
       "        comm.send(m);\n",
       "    };\n",
       "    // Register the callback with on_msg.\n",
       "    comm.on_msg(function(msg) {\n",
       "        //console.log('receiving', msg['content']['data'], msg);\n",
       "        // Pass the mpl event to the overriden (by mpl) onmessage function.\n",
       "        ws.onmessage(msg['content']['data'])\n",
       "    });\n",
       "    return ws;\n",
       "}\n",
       "\n",
       "mpl.mpl_figure_comm = function(comm, msg) {\n",
       "    // This is the function which gets called when the mpl process\n",
       "    // starts-up an IPython Comm through the \"matplotlib\" channel.\n",
       "\n",
       "    var id = msg.content.data.id;\n",
       "    // Get hold of the div created by the display call when the Comm\n",
       "    // socket was opened in Python.\n",
       "    var element = $(\"#\" + id);\n",
       "    var ws_proxy = comm_websocket_adapter(comm)\n",
       "\n",
       "    function ondownload(figure, format) {\n",
       "        window.open(figure.imageObj.src);\n",
       "    }\n",
       "\n",
       "    var fig = new mpl.figure(id, ws_proxy,\n",
       "                           ondownload,\n",
       "                           element.get(0));\n",
       "\n",
       "    // Call onopen now - mpl needs it, as it is assuming we've passed it a real\n",
       "    // web socket which is closed, not our websocket->open comm proxy.\n",
       "    ws_proxy.onopen();\n",
       "\n",
       "    fig.parent_element = element.get(0);\n",
       "    fig.cell_info = mpl.find_output_cell(\"<div id='\" + id + \"'></div>\");\n",
       "    if (!fig.cell_info) {\n",
       "        console.error(\"Failed to find cell for figure\", id, fig);\n",
       "        return;\n",
       "    }\n",
       "\n",
       "    var output_index = fig.cell_info[2]\n",
       "    var cell = fig.cell_info[0];\n",
       "\n",
       "};\n",
       "\n",
       "mpl.figure.prototype.handle_close = function(fig, msg) {\n",
       "    fig.root.unbind('remove')\n",
       "\n",
       "    // Update the output cell to use the data from the current canvas.\n",
       "    fig.push_to_output();\n",
       "    var dataURL = fig.canvas.toDataURL();\n",
       "    // Re-enable the keyboard manager in IPython - without this line, in FF,\n",
       "    // the notebook keyboard shortcuts fail.\n",
       "    IPython.keyboard_manager.enable()\n",
       "    $(fig.parent_element).html('<img src=\"' + dataURL + '\">');\n",
       "    fig.close_ws(fig, msg);\n",
       "}\n",
       "\n",
       "mpl.figure.prototype.close_ws = function(fig, msg){\n",
       "    fig.send_message('closing', msg);\n",
       "    // fig.ws.close()\n",
       "}\n",
       "\n",
       "mpl.figure.prototype.push_to_output = function(remove_interactive) {\n",
       "    // Turn the data on the canvas into data in the output cell.\n",
       "    var dataURL = this.canvas.toDataURL();\n",
       "    this.cell_info[1]['text/html'] = '<img src=\"' + dataURL + '\">';\n",
       "}\n",
       "\n",
       "mpl.figure.prototype.updated_canvas_event = function() {\n",
       "    // Tell IPython that the notebook contents must change.\n",
       "    IPython.notebook.set_dirty(true);\n",
       "    this.send_message(\"ack\", {});\n",
       "    var fig = this;\n",
       "    // Wait a second, then push the new image to the DOM so\n",
       "    // that it is saved nicely (might be nice to debounce this).\n",
       "    setTimeout(function () { fig.push_to_output() }, 1000);\n",
       "}\n",
       "\n",
       "mpl.figure.prototype._init_toolbar = function() {\n",
       "    var fig = this;\n",
       "\n",
       "    var nav_element = $('<div/>')\n",
       "    nav_element.attr('style', 'width: 100%');\n",
       "    this.root.append(nav_element);\n",
       "\n",
       "    // Define a callback function for later on.\n",
       "    function toolbar_event(event) {\n",
       "        return fig.toolbar_button_onclick(event['data']);\n",
       "    }\n",
       "    function toolbar_mouse_event(event) {\n",
       "        return fig.toolbar_button_onmouseover(event['data']);\n",
       "    }\n",
       "\n",
       "    for(var toolbar_ind in mpl.toolbar_items){\n",
       "        var name = mpl.toolbar_items[toolbar_ind][0];\n",
       "        var tooltip = mpl.toolbar_items[toolbar_ind][1];\n",
       "        var image = mpl.toolbar_items[toolbar_ind][2];\n",
       "        var method_name = mpl.toolbar_items[toolbar_ind][3];\n",
       "\n",
       "        if (!name) { continue; };\n",
       "\n",
       "        var button = $('<button class=\"btn btn-default\" href=\"#\" title=\"' + name + '\"><i class=\"fa ' + image + ' fa-lg\"></i></button>');\n",
       "        button.click(method_name, toolbar_event);\n",
       "        button.mouseover(tooltip, toolbar_mouse_event);\n",
       "        nav_element.append(button);\n",
       "    }\n",
       "\n",
       "    // Add the status bar.\n",
       "    var status_bar = $('<span class=\"mpl-message\" style=\"text-align:right; float: right;\"/>');\n",
       "    nav_element.append(status_bar);\n",
       "    this.message = status_bar[0];\n",
       "\n",
       "    // Add the close button to the window.\n",
       "    var buttongrp = $('<div class=\"btn-group inline pull-right\"></div>');\n",
       "    var button = $('<button class=\"btn btn-mini btn-primary\" href=\"#\" title=\"Stop Interaction\"><i class=\"fa fa-power-off icon-remove icon-large\"></i></button>');\n",
       "    button.click(function (evt) { fig.handle_close(fig, {}); } );\n",
       "    button.mouseover('Stop Interaction', toolbar_mouse_event);\n",
       "    buttongrp.append(button);\n",
       "    var titlebar = this.root.find($('.ui-dialog-titlebar'));\n",
       "    titlebar.prepend(buttongrp);\n",
       "}\n",
       "\n",
       "mpl.figure.prototype._root_extra_style = function(el){\n",
       "    var fig = this\n",
       "    el.on(\"remove\", function(){\n",
       "\tfig.close_ws(fig, {});\n",
       "    });\n",
       "}\n",
       "\n",
       "mpl.figure.prototype._canvas_extra_style = function(el){\n",
       "    // this is important to make the div 'focusable\n",
       "    el.attr('tabindex', 0)\n",
       "    // reach out to IPython and tell the keyboard manager to turn it's self\n",
       "    // off when our div gets focus\n",
       "\n",
       "    // location in version 3\n",
       "    if (IPython.notebook.keyboard_manager) {\n",
       "        IPython.notebook.keyboard_manager.register_events(el);\n",
       "    }\n",
       "    else {\n",
       "        // location in version 2\n",
       "        IPython.keyboard_manager.register_events(el);\n",
       "    }\n",
       "\n",
       "}\n",
       "\n",
       "mpl.figure.prototype._key_event_extra = function(event, name) {\n",
       "    var manager = IPython.notebook.keyboard_manager;\n",
       "    if (!manager)\n",
       "        manager = IPython.keyboard_manager;\n",
       "\n",
       "    // Check for shift+enter\n",
       "    if (event.shiftKey && event.which == 13) {\n",
       "        this.canvas_div.blur();\n",
       "        // select the cell after this one\n",
       "        var index = IPython.notebook.find_cell_index(this.cell_info[0]);\n",
       "        IPython.notebook.select(index + 1);\n",
       "    }\n",
       "}\n",
       "\n",
       "mpl.figure.prototype.handle_save = function(fig, msg) {\n",
       "    fig.ondownload(fig, null);\n",
       "}\n",
       "\n",
       "\n",
       "mpl.find_output_cell = function(html_output) {\n",
       "    // Return the cell and output element which can be found *uniquely* in the notebook.\n",
       "    // Note - this is a bit hacky, but it is done because the \"notebook_saving.Notebook\"\n",
       "    // IPython event is triggered only after the cells have been serialised, which for\n",
       "    // our purposes (turning an active figure into a static one), is too late.\n",
       "    var cells = IPython.notebook.get_cells();\n",
       "    var ncells = cells.length;\n",
       "    for (var i=0; i<ncells; i++) {\n",
       "        var cell = cells[i];\n",
       "        if (cell.cell_type === 'code'){\n",
       "            for (var j=0; j<cell.output_area.outputs.length; j++) {\n",
       "                var data = cell.output_area.outputs[j];\n",
       "                if (data.data) {\n",
       "                    // IPython >= 3 moved mimebundle to data attribute of output\n",
       "                    data = data.data;\n",
       "                }\n",
       "                if (data['text/html'] == html_output) {\n",
       "                    return [cell, data, j];\n",
       "                }\n",
       "            }\n",
       "        }\n",
       "    }\n",
       "}\n",
       "\n",
       "// Register the function which deals with the matplotlib target/channel.\n",
       "// The kernel may be null if the page has been refreshed.\n",
       "if (IPython.notebook.kernel != null) {\n",
       "    IPython.notebook.kernel.comm_manager.register_target('matplotlib', mpl.mpl_figure_comm);\n",
       "}\n"
      ],
      "text/plain": [
       "<IPython.core.display.Javascript object>"
      ]
     },
     "metadata": {},
     "output_type": "display_data"
    },
    {
     "data": {
      "text/html": [
       "<img src=\"data:image/png;base64,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\">"
      ],
      "text/plain": [
       "<IPython.core.display.HTML object>"
      ]
     },
     "metadata": {},
     "output_type": "display_data"
    },
    {
     "data": {
      "text/plain": [
       "[<matplotlib.lines.Line2D at 0x7ff0240f3518>]"
      ]
     },
     "execution_count": 2,
     "metadata": {},
     "output_type": "execute_result"
    }
   ],
   "source": [
    "X = np.linspace(-np.pi, np.pi, 2656)\n",
    "F = np.sin(1/(X**2+0.07))\n",
    "plt.plot(X,F)"
   ]
  },
  {
   "cell_type": "markdown",
   "metadata": {
    "slideshow": {
     "slide_type": "slide"
    }
   },
   "source": [
    "# widgets"
   ]
  },
  {
   "cell_type": "code",
   "execution_count": 3,
   "metadata": {
    "collapsed": false,
    "slideshow": {
     "slide_type": "fragment"
    }
   },
   "outputs": [
    {
     "name": "stdout",
     "output_type": "stream",
     "text": [
      "10\n"
     ]
    }
   ],
   "source": [
    "from ipywidgets import interact\n",
    "def f(x):\n",
    "    print (x)\n",
    "\n",
    "interact(f, x=10);"
   ]
  },
  {
   "cell_type": "code",
   "execution_count": 6,
   "metadata": {
    "collapsed": false,
    "slideshow": {
     "slide_type": "slide"
    }
   },
   "outputs": [],
   "source": [
    "from ipywidgets import widgets\n",
    "w = widgets.IntSlider(min=0,max=10,value=3,step=1,width=10)"
   ]
  },
  {
   "cell_type": "code",
   "execution_count": 7,
   "metadata": {
    "collapsed": true,
    "slideshow": {
     "slide_type": "fragment"
    }
   },
   "outputs": [],
   "source": [
    "w\n"
   ]
  },
  {
   "cell_type": "code",
   "execution_count": 8,
   "metadata": {
    "collapsed": false,
    "slideshow": {
     "slide_type": "fragment"
    }
   },
   "outputs": [],
   "source": [
    "w.value=5"
   ]
  },
  {
   "cell_type": "code",
   "execution_count": null,
   "metadata": {
    "collapsed": false,
    "slideshow": {
     "slide_type": "fragment"
    }
   },
   "outputs": [],
   "source": [
    "  w.va lue = 8"
   ]
  },
  {
   "cell_type": "markdown",
   "metadata": {
    "slideshow": {
     "slide_type": "slide"
    }
   },
   "source": [
    "## Notebook magics\n",
    "\n",
    "Komórki zaczynające się od \n",
    "\n",
    " - \"%\" - line magics\n",
    " - \"%%\" - cell magics\n",
    " \n"
   ]
  },
  {
   "cell_type": "markdown",
   "metadata": {
    "slideshow": {
     "slide_type": "slide"
    }
   },
   "source": [
    "## Line magics - przykład"
   ]
  },
  {
   "cell_type": "code",
   "execution_count": 15,
   "metadata": {
    "collapsed": false,
    "slideshow": {
     "slide_type": "fragment"
    }
   },
   "outputs": [
    {
     "name": "stdout",
     "output_type": "stream",
     "text": [
      "The slowest run took 150.29 times longer than the fastest. This could mean that an intermediate result is being cached.\n",
      "10000000 loops, best of 3: 167 ns per loop\n"
     ]
    }
   ],
   "source": [
    "from  math import sin,cos\n",
    "%timeit sin(cos(sin(1.23))) "
   ]
  },
  {
   "cell_type": "code",
   "execution_count": 7,
   "metadata": {
    "collapsed": false,
    "slideshow": {
     "slide_type": "notes"
    }
   },
   "outputs": [
    {
     "name": "stdout",
     "output_type": "stream",
     "text": [
      "10 loops, best of 3: 64.1 ms per loop\n"
     ]
    }
   ],
   "source": [
    "%timeit np.sum(np.sin(np.random.randn(int(1e6))))"
   ]
  },
  {
   "cell_type": "code",
   "execution_count": 3,
   "metadata": {
    "collapsed": false,
    "slideshow": {
     "slide_type": "notes"
    }
   },
   "outputs": [
    {
     "name": "stdout",
     "output_type": "stream",
     "text": [
      "10 loops, best of 3: 65.7 ms per loop\n"
     ]
    }
   ],
   "source": [
    "%timeit np.sum(np.sin(np.random.randn(int(1e6))))"
   ]
  },
  {
   "cell_type": "code",
   "execution_count": 8,
   "metadata": {
    "collapsed": false,
    "slideshow": {
     "slide_type": "notes"
    }
   },
   "outputs": [
    {
     "name": "stdout",
     "output_type": "stream",
     "text": [
      "10 loops, best of 3: 70.4 ms per loop\n"
     ]
    }
   ],
   "source": [
    "%timeit np.sum(np.sin(np.random.randn(int(1e6))))"
   ]
  },
  {
   "cell_type": "code",
   "execution_count": 7,
   "metadata": {
    "collapsed": false,
    "slideshow": {
     "slide_type": "fragment"
    }
   },
   "outputs": [
    {
     "name": "stdout",
     "output_type": "stream",
     "text": [
      "/home/users/marcin.kostur/Jupyter_SMCEBI\n",
      "Plik: Anim_gizeh_4fractallab.ipynb\n",
      "Plik: Jupyter_intro.ipynb\n",
      "Plik: circle.gif\n",
      "Plik: demo_tests_etc.ipynb\n",
      "Plik: program.py\n"
     ]
    }
   ],
   "source": [
    "%%sh\n",
    "pwd\n",
    "for i in `ls`\n",
    "do\n",
    " echo Plik: $i\n",
    "done"
   ]
  },
  {
   "cell_type": "markdown",
   "metadata": {
    "collapsed": true,
    "slideshow": {
     "slide_type": "slide"
    }
   },
   "source": [
    "# Chromebook - terminal, edytor\n",
    "\n",
    "## Terminal:\n",
    " - w jupyter notebook jest konsola\n",
    "   - działa, ale ma pewne wady (np. emacs ;-)\n",
    "   \n",
    " - Natywna aplikacja MOSH w chrome OS \n",
    "   - bardzo odporny na utratę połączenia terminal tekstowy\n",
    "   - działa dobrze z emacs-em \n",
    "   \n",
    " - dostęp przez noVNC\n",
    " \n",
    "\n",
    " "
   ]
  },
  {
   "cell_type": "markdown",
   "metadata": {
    "slideshow": {
     "slide_type": "subslide"
    }
   },
   "source": [
    "# Chromebook - terminal, edytor\n",
    "\n",
    "## Edytor\n",
    " \n",
    "  - wbudowany (bardzo prosty)\n",
    "  - można użyć np. vim/emacs z konsoli tekstowej\n",
    "  - z konsoli można używać debuggera: **`pudb`**\n",
    "          $ python -m pudb.run program.py\n",
    " "
   ]
  },
  {
   "cell_type": "markdown",
   "metadata": {
    "slideshow": {
     "slide_type": "slide"
    }
   },
   "source": [
    "Pytania?"
   ]
  }
 ],
 "metadata": {
  "celltoolbar": "Slideshow",
  "kernelspec": {
   "display_name": "Python 2",
   "language": "python",
   "name": "python2"
  },
  "language_info": {
   "codemirror_mode": {
    "name": "ipython",
    "version": 2
   },
   "file_extension": ".py",
   "mimetype": "text/x-python",
   "name": "python",
   "nbconvert_exporter": "python",
   "pygments_lexer": "ipython2",
   "version": "2.7.12"
  }
 },
 "nbformat": 4,
 "nbformat_minor": 1
}
